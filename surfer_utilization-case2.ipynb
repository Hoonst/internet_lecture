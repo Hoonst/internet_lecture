{
 "cells": [
  {
   "cell_type": "code",
   "execution_count": null,
   "metadata": {
    "ExecuteTime": {
     "end_time": "2019-09-08T05:41:47.331223Z",
     "start_time": "2019-09-08T05:41:46.942856Z"
    }
   },
   "outputs": [],
   "source": [
    "import surfer"
   ]
  },
  {
   "cell_type": "markdown",
   "metadata": {},
   "source": [
    "# Connecting to the 'specific website' with Chrome-Driver"
   ]
  },
  {
   "cell_type": "code",
   "execution_count": null,
   "metadata": {
    "ExecuteTime": {
     "end_time": "2019-09-08T06:26:48.856137Z",
     "start_time": "2019-09-08T06:26:44.623167Z"
    }
   },
   "outputs": [],
   "source": [
    "surfer.set_driver()\n",
    "surfer.connect_site_with_url('', 3)\n",
    "surfer.maximize_window()\n",
    "surfer.click_be_by_class('a.login')\n",
    "surfer.username_password_insert('', '')"
   ]
  },
  {
   "cell_type": "code",
   "execution_count": null,
   "metadata": {
    "ExecuteTime": {
     "end_time": "2019-09-08T06:26:52.945753Z",
     "start_time": "2019-09-08T06:26:52.327787Z"
    }
   },
   "outputs": [],
   "source": [
    "surfer.connect_site_with_url(\"\", 3)\n",
    "surfer.click_be_by_class('a.article')"
   ]
  },
  {
   "cell_type": "code",
   "execution_count": null,
   "metadata": {
    "ExecuteTime": {
     "end_time": "2019-09-08T06:27:10.575854Z",
     "start_time": "2019-09-08T06:26:57.559344Z"
    }
   },
   "outputs": [],
   "source": [
    "while True:\n",
    "    surfer.connect_site_with_url(\"\", 3)\n",
    "    surfer.refresh_window()\n",
    "    surfer.click_be_by_class('a.article')\n",
    "    surfer.click_be_by_class('span.more')\n",
    "    surfer.click_be_by_class('div.wrap > ol > li')\n",
    "    surfer.say_yes_to_alert()"
   ]
  }
 ],
 "metadata": {
  "kernelspec": {
   "display_name": "Python 3",
   "language": "python",
   "name": "python3"
  },
  "language_info": {
   "codemirror_mode": {
    "name": "ipython",
    "version": 3
   },
   "file_extension": ".py",
   "mimetype": "text/x-python",
   "name": "python",
   "nbconvert_exporter": "python",
   "pygments_lexer": "ipython3",
   "version": "3.7.3"
  },
  "toc": {
   "base_numbering": 1,
   "nav_menu": {},
   "number_sections": true,
   "sideBar": true,
   "skip_h1_title": false,
   "title_cell": "Table of Contents",
   "title_sidebar": "Contents",
   "toc_cell": false,
   "toc_position": {},
   "toc_section_display": true,
   "toc_window_display": false
  }
 },
 "nbformat": 4,
 "nbformat_minor": 2
}
