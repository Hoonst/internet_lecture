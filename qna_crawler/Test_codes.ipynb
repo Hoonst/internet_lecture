{
 "cells": [
  {
   "cell_type": "markdown",
   "metadata": {},
   "source": [
    "# Note for So Far"
   ]
  },
  {
   "cell_type": "code",
   "execution_count": 123,
   "metadata": {},
   "outputs": [],
   "source": [
    "import scrapy\n",
    "from scrapy.selector import Selector\n",
    "from qna_crawler.items import QnaCrawlerItem\n",
    "\n",
    "from collections import defaultdict\n",
    "import sys\n",
    "import datetime\n",
    "import time\n",
    "from fake_useragent import UserAgent\n",
    "import random\n",
    "import datetime\n",
    "import re\n",
    "from dateutil.parser import parse\n",
    "\n",
    "from selenium import webdriver\n",
    "from selenium.webdriver.chrome.options import DesiredCapabilities\n",
    "from selenium.webdriver.common.proxy import Proxy, ProxyType\n",
    "from selenium.webdriver.chrome.options import Options\n",
    "from selenium.webdriver.support import expected_conditions as EC\n",
    "from selenium.webdriver.support.ui import WebDriverWait\n",
    "from selenium.webdriver.common.by import By\n",
    "from selenium.webdriver import ActionChains\n",
    "from selenium.webdriver.common.keys import Keys\n",
    "\n",
    "#import gspread\n",
    "#from oauth2client.service_account import ServiceAccountCredentials"
   ]
  },
  {
   "cell_type": "markdown",
   "metadata": {},
   "source": [
    "# Testing Datetime"
   ]
  },
  {
   "cell_type": "markdown",
   "metadata": {},
   "source": [
    "Datetime을 사용함에 있어 결국, parse를 사용한 후, Datetime.datetime -> Datetime.date() 변환하는 것이 최선의 선택"
   ]
  },
  {
   "cell_type": "code",
   "execution_count": 4,
   "metadata": {},
   "outputs": [],
   "source": [
    "today = datetime.date(2020,2,26)\n",
    "tomorrow = datetime.date(2020,2,27)"
   ]
  },
  {
   "cell_type": "code",
   "execution_count": 5,
   "metadata": {},
   "outputs": [
    {
     "data": {
      "text/plain": [
       "True"
      ]
     },
     "execution_count": 5,
     "metadata": {},
     "output_type": "execute_result"
    }
   ],
   "source": [
    "datetime.date(2020,2,28)>= tomorrow"
   ]
  },
  {
   "cell_type": "code",
   "execution_count": 6,
   "metadata": {},
   "outputs": [],
   "source": [
    "test = '2020/02/27'.split('/')"
   ]
  },
  {
   "cell_type": "code",
   "execution_count": 7,
   "metadata": {},
   "outputs": [
    {
     "data": {
      "text/plain": [
       "datetime.date(2020, 2, 27)"
      ]
     },
     "execution_count": 7,
     "metadata": {},
     "output_type": "execute_result"
    }
   ],
   "source": [
    "datetime.date(int(test[0]), int(test[1]), int(test[2]))"
   ]
  },
  {
   "cell_type": "markdown",
   "metadata": {},
   "source": [
    "# Proxies and IP"
   ]
  },
  {
   "cell_type": "code",
   "execution_count": 8,
   "metadata": {},
   "outputs": [
    {
     "ename": "ModuleNotFoundError",
     "evalue": "No module named 'fake_useragent'",
     "output_type": "error",
     "traceback": [
      "\u001b[0;31m---------------------------------------------------------------------------\u001b[0m",
      "\u001b[0;31mModuleNotFoundError\u001b[0m                       Traceback (most recent call last)",
      "\u001b[0;32m<ipython-input-8-e5a980286a6b>\u001b[0m in \u001b[0;36m<module>\u001b[0;34m\u001b[0m\n\u001b[1;32m      3\u001b[0m \u001b[0;32mfrom\u001b[0m \u001b[0mselenium\u001b[0m\u001b[0;34m.\u001b[0m\u001b[0mwebdriver\u001b[0m\u001b[0;34m.\u001b[0m\u001b[0mcommon\u001b[0m\u001b[0;34m.\u001b[0m\u001b[0mproxy\u001b[0m \u001b[0;32mimport\u001b[0m \u001b[0mProxy\u001b[0m\u001b[0;34m,\u001b[0m \u001b[0mProxyType\u001b[0m\u001b[0;34m\u001b[0m\u001b[0;34m\u001b[0m\u001b[0m\n\u001b[1;32m      4\u001b[0m \u001b[0;32mimport\u001b[0m \u001b[0mtime\u001b[0m\u001b[0;34m\u001b[0m\u001b[0;34m\u001b[0m\u001b[0m\n\u001b[0;32m----> 5\u001b[0;31m \u001b[0;32mfrom\u001b[0m \u001b[0mfake_useragent\u001b[0m \u001b[0;32mimport\u001b[0m \u001b[0mUserAgent\u001b[0m\u001b[0;34m\u001b[0m\u001b[0;34m\u001b[0m\u001b[0m\n\u001b[0m\u001b[1;32m      6\u001b[0m \u001b[0mua\u001b[0m \u001b[0;34m=\u001b[0m \u001b[0mUserAgent\u001b[0m\u001b[0;34m(\u001b[0m\u001b[0;34m)\u001b[0m\u001b[0;34m\u001b[0m\u001b[0;34m\u001b[0m\u001b[0m\n\u001b[1;32m      7\u001b[0m \u001b[0;34m\u001b[0m\u001b[0m\n",
      "\u001b[0;31mModuleNotFoundError\u001b[0m: No module named 'fake_useragent'"
     ]
    }
   ],
   "source": [
    "from selenium import webdriver\n",
    "from selenium.webdriver.chrome.options import DesiredCapabilities\n",
    "from selenium.webdriver.common.proxy import Proxy, ProxyType\n",
    "import time\n",
    "from fake_useragent import UserAgent\n",
    "ua = UserAgent()\n",
    "\n",
    "\n",
    "co = webdriver.ChromeOptions()\n",
    "co.add_argument(\"log-level=3\")\n",
    "co.add_argument(\"--headless\")\n",
    "co.add_argument(f\"user-agent={ua.random}\")\n",
    "\n",
    "\n",
    "def get_proxies(co=co):\n",
    "    driver = webdriver.Chrome(chrome_options=co)\n",
    "    driver.get(\"https://free-proxy-list.net/\")\n",
    "\n",
    "    PROXIES = []\n",
    "    proxies = driver.find_elements_by_css_selector(\"tr[role='row']\")\n",
    "    for p in proxies:\n",
    "        result = p.text.split(\" \")\n",
    "        print(result)\n",
    "        if result[-1] == \"yes\":\n",
    "            PROXIES.append(result[0]+\":\"+result[1])\n",
    "\n",
    "    driver.close()\n",
    "    return PROXIES\n",
    "\n",
    "\n",
    "ALL_PROXIES = get_proxies()"
   ]
  },
  {
   "cell_type": "markdown",
   "metadata": {},
   "source": [
    "# Functions list"
   ]
  },
  {
   "cell_type": "code",
   "execution_count": 39,
   "metadata": {},
   "outputs": [],
   "source": [
    "def parse_date(date_value):\n",
    "    return parse(date_value)\n",
    "\n",
    "def set_range(start, till):\n",
    "    start, till = parse(start), parse(till)\n",
    "    return start, till\n",
    "\n",
    "def set_range_with_today():\n",
    "    today = datetime.date.today()\n",
    "    yesterday = today - datetime.timedelta(days=1)\n",
    "    day_before_yesterday = yesterday - datetime.timedelta(days=1)\n",
    "    return yesterday, day_before_yesterday\n",
    "\n",
    "def inputs_to_dictionary(dictionary, date_value, start_value):\n",
    "    if date_value == start_value:\n",
    "        dictionary[date_value] += 1\n",
    "        return dictionary\n",
    "    elif date_value > start_value:\n",
    "        print('out of date-range, over {}'.format(str(start_value)))\n",
    "        return dictionary\n",
    "    elif date_value < start_value:\n",
    "        print('out of date-range, less {}'.format(str(start_value-datetime.timedelta(days=1))))\n",
    "        return dictionary\n",
    "    \n",
    "def set_teachers(teacher_name, doc):\n",
    "    return doc.worksheet(teacher_name)\n",
    "\n",
    "def mergeDict(dict1, dict2):\n",
    "    ''' Merge dictionaries and keep values of common keys in list'''\n",
    "    dict3 = {**dict1, **dict2}\n",
    "    for key, value in dict3.items():\n",
    "        if key in dict1 and key in dict2:\n",
    "            dict3[key] = value + dict1[key]\n",
    " \n",
    "    return dict3\n",
    "\n",
    "def check_date_range(date, start, till):\n",
    "    if date <= start and date >= till:\n",
    "        return 1\n",
    "    elif date > start:\n",
    "        return 0\n",
    "    elif date < till:\n",
    "        return -1\n",
    "    \n",
    "def row_filter(rows, teacher_name, start, till = None):\n",
    "    run = True\n",
    "    \n",
    "    if till == None:\n",
    "        till = start\n",
    "    qna_dic = defaultdict(int)\n",
    "    start, till = parse_date(start), parse_date(till)\n",
    "    \n",
    "    filtered_notice_rows = [row for row in rows if row.get_attribute(\"class\") in [None, '']]\n",
    "    \n",
    "    #ETOOS\n",
    "    if 'etoos' in teacher_name:\n",
    "        filtered_rows = []\n",
    "        for row in filtered_notice_rows:\n",
    "            td_list = row.find_elements_by_css_selector(\"*\")\n",
    "            \n",
    "            date_value, writer= parse_date(td_list[-1].text), td_list[-2].text\n",
    "            if len(writer) > 4:\n",
    "                print(\"This is not a question, but answer\")\n",
    "                continue\n",
    "                \n",
    "            check = check_date_range(date_value, start, till)\n",
    "            if check:\n",
    "                qna_dic[date_value] +=1\n",
    "            elif check < 0:\n",
    "                run = False\n",
    "                break\n",
    "            \n",
    "        return run, qna_dic\n",
    "    \n",
    "    #SKYEDU\n",
    "    elif 'skyedu' in teacher_name:\n",
    "        for row in filtered_notice_rows:\n",
    "            td_list = row.find_elements_by_css_selector(\"*\")\n",
    "            date_value = parse_date(td_list[-1].text)\n",
    "            \n",
    "            check = check_date_range(date_value, start, till)\n",
    "            if check:\n",
    "                qna_dic[date_value] +=1\n",
    "            elif check < 0:\n",
    "                run = False\n",
    "                break\n",
    "\n",
    "        return run, qna_dic\n",
    "\n",
    "    #MEGASTUDY\n",
    "    elif 'megastudy' in teacher_name:\n",
    "        for row in filtered_notice_rows:\n",
    "            td_list = row.find_elements_by_css_selector(\"*\")\n",
    "            date_value = parse_date(td_list[-2].text)\n",
    "            \n",
    "            check = check_date_range(date_value, start, till)\n",
    "            if check:\n",
    "                qna_dic[date_value] +=1\n",
    "            elif check < 0:\n",
    "                run = False\n",
    "                break\n",
    "                \n",
    "        return run, qna_dic\n",
    "        \n",
    "    #MIMAC\n",
    "    elif 'mimac' in teacher_name:\n",
    "        filtered_rows = []\n",
    "        for row in filtered_notice_rows:\n",
    "            td_list = row.find_elements_by_css_selector(\"*\")\n",
    "            first_td_class = td_list[0].get_attribute(\"class\")\n",
    "            \n",
    "            if first_td_class == \"noti\" or row_class == \"reply\":\n",
    "                continue\n",
    "            date_value = td_list[-2]\n",
    "            \n",
    "            check = check_date_range(date_value, start, till)\n",
    "            if check:\n",
    "                qna_dic[date_value] +=1\n",
    "            elif check < 0:\n",
    "                run = False\n",
    "                break\n",
    "\n",
    "        return run, qna_dic\n",
    "    \n",
    "def connect_gspread():\n",
    "    scope = [\n",
    "    \"https://spreadsheets.google.com/feeds\",\n",
    "    \"https://www.googleapis.com/auth/drive\",\n",
    "    ]\n",
    "\n",
    "    json_file_name = \"woven-arcadia-269609-12b95dbdd1c3.json\"\n",
    "\n",
    "    credentials = ServiceAccountCredentials.from_json_keyfile_name(json_file_name, scope)\n",
    "    gc = gspread.authorize(credentials)\n",
    "\n",
    "    spreadsheet_url = \"https://docs.google.com/spreadsheets/d/1YEO-EhcPmtj0r0YJzy-xNF6oVEdb8QHS43Eusck83so/edit#gid=2122150374\"\n",
    "\n",
    "    # 스프레스시트 문서 가져오기\n",
    "    doc = gc.open_by_url(spreadsheet_url)\n",
    "    return doc\n",
    "\n",
    "def driver_setting():\n",
    "    #ua = UserAgent()\n",
    "    co = webdriver.ChromeOptions()\n",
    "    co.add_argument(\"/home/yoonhoonsang/internet_lecture/chromedriver\")\n",
    "    co.add_argument(\"log-level=1\")\n",
    "    #co.add_argument(\"headless\")\n",
    "    #co.add_argument(\"user-agent={}\".format(ua.random))\n",
    "    co.add_argument(\"lang=ko_KR\")\n",
    "    return co\n",
    "\n",
    "def find_rows_of_table(browser):\n",
    "    tbody = browser.find_element_by_tag_name(\"tbody\")\n",
    "    rows = tbody.find_elements_by_tag_name(\"tr\")\n",
    "    return rows"
   ]
  },
  {
   "cell_type": "code",
   "execution_count": 51,
   "metadata": {},
   "outputs": [
    {
     "data": {
      "text/plain": [
       "datetime.date(2020, 3, 10)"
      ]
     },
     "execution_count": 51,
     "metadata": {},
     "output_type": "execute_result"
    }
   ],
   "source": [
    "datetime.date.today()"
   ]
  },
  {
   "cell_type": "code",
   "execution_count": 55,
   "metadata": {},
   "outputs": [
    {
     "data": {
      "text/plain": [
       "datetime.date(2020, 2, 2)"
      ]
     },
     "execution_count": 55,
     "metadata": {},
     "output_type": "execute_result"
    }
   ],
   "source": [
    "parse_date('2020-02-02').date()"
   ]
  },
  {
   "cell_type": "code",
   "execution_count": 54,
   "metadata": {},
   "outputs": [
    {
     "ename": "TypeError",
     "evalue": "an integer is required (got type datetime.datetime)",
     "output_type": "error",
     "traceback": [
      "\u001b[0;31m---------------------------------------------------------------------------\u001b[0m",
      "\u001b[0;31mTypeError\u001b[0m                                 Traceback (most recent call last)",
      "\u001b[0;32m<ipython-input-54-e9203d1127ac>\u001b[0m in \u001b[0;36m<module>\u001b[0;34m\u001b[0m\n\u001b[0;32m----> 1\u001b[0;31m \u001b[0mdatetime\u001b[0m\u001b[0;34m.\u001b[0m\u001b[0mdate\u001b[0m\u001b[0;34m(\u001b[0m\u001b[0;34m(\u001b[0m\u001b[0mparse_date\u001b[0m\u001b[0;34m(\u001b[0m\u001b[0;34m'2020-02-02'\u001b[0m\u001b[0;34m)\u001b[0m\u001b[0;34m)\u001b[0m\u001b[0;34m)\u001b[0m\u001b[0;34m\u001b[0m\u001b[0;34m\u001b[0m\u001b[0m\n\u001b[0m",
      "\u001b[0;31mTypeError\u001b[0m: an integer is required (got type datetime.datetime)"
     ]
    }
   ],
   "source": [
    "datetime.date((parse_date('2020-02-02')))"
   ]
  },
  {
   "cell_type": "code",
   "execution_count": 3,
   "metadata": {},
   "outputs": [],
   "source": [
    "def parse_date(date_value):\n",
    "    return parse(date_value)"
   ]
  },
  {
   "cell_type": "code",
   "execution_count": 20,
   "metadata": {},
   "outputs": [],
   "source": [
    "def set_range(start, till):\n",
    "    start, till = parse(start), parse(till)\n",
    "    return start, till\n",
    "\n",
    "def set_range_with_today():\n",
    "    today = datetime.date.today()\n",
    "    yesterday = today - datetime.timedelta(days=1)\n",
    "    day_before_yesterday = yesterday - datetime.timedelta(days=1)\n",
    "    return yesterday, day_before_yesterday"
   ]
  },
  {
   "cell_type": "code",
   "execution_count": 6,
   "metadata": {},
   "outputs": [],
   "source": [
    "def inputs_to_dictionary(dictionary, date_value, start_value):\n",
    "    if date_value == start_value:\n",
    "        dictionary[date_value] += 1\n",
    "        return dictionary\n",
    "    elif date_value > start_value:\n",
    "        print('out of date-range, over {}'.format(str(start_value)))\n",
    "        return dictionary\n",
    "    elif date_value < start_value:\n",
    "        print('out of date-range, less {}'.format(str(start_value-datetime.timedelta(days=1))))\n",
    "        return dictionary"
   ]
  },
  {
   "cell_type": "code",
   "execution_count": 7,
   "metadata": {},
   "outputs": [],
   "source": [
    "def set_teachers(teacher_name, doc):\n",
    "    return doc.worksheet(teacher_name)"
   ]
  },
  {
   "cell_type": "code",
   "execution_count": 8,
   "metadata": {},
   "outputs": [],
   "source": [
    "def mergeDict(dict1, dict2):\n",
    "   ''' Merge dictionaries and keep values of common keys in list'''\n",
    "   dict3 = {**dict1, **dict2}\n",
    "   for key, value in dict3.items():\n",
    "       if key in dict1 and key in dict2:\n",
    "               dict3[key] = value + dict1[key]\n",
    " \n",
    "   return dict3"
   ]
  },
  {
   "cell_type": "code",
   "execution_count": 10,
   "metadata": {},
   "outputs": [],
   "source": [
    "def check_date_range(date, start, till):\n",
    "    if date <= start and date >= till:\n",
    "        return 1\n",
    "    elif date > start:\n",
    "        return 0\n",
    "    elif date < till:\n",
    "        return -1"
   ]
  },
  {
   "cell_type": "code",
   "execution_count": 11,
   "metadata": {},
   "outputs": [
    {
     "data": {
      "text/plain": [
       "0"
      ]
     },
     "execution_count": 11,
     "metadata": {},
     "output_type": "execute_result"
    }
   ],
   "source": [
    "check_date_range(parse_date('2020-01-06'), parse_date('2020-01-05'), parse_date('2020-01-01'))"
   ]
  },
  {
   "cell_type": "code",
   "execution_count": null,
   "metadata": {},
   "outputs": [],
   "source": [
    "def wait_element(browser, teacher_name):\n",
    "    if 'etoos' in teacher_name:\n",
    "        title = WebDriverWait(browser, 10).until(\n",
    "                EC.presence_of_element_located(\n",
    "                    (By.CSS_SELECTOR, \"table.subcomm_tbl_board\")\n",
    "                )\n",
    "            )\n",
    "    elif 'megastudy' in teacher_name:\n",
    "        title = WebDriverWait(self.browser, 10).until(\n",
    "                    EC.presence_of_element_located(\n",
    "                        (\n",
    "                            By.CSS_SELECTOR,\n",
    "                            \"div.table_list > table.commonBoardList > tbody > tr.top\",\n",
    "                        )\n",
    "                    )\n",
    "                )\n",
    "    elif 'skyedu' in teacher_name:\n",
    "        title = WebDriverWait(self.browser, 10).until(\n",
    "                    EC.presence_of_element_located(\n",
    "                        (By.CSS_SELECTOR, \"div.board-list > table\")\n",
    "                    )\n",
    "                )\n",
    "    elif 'mimac' in teacher_name:\n",
    "        title = WebDriverWait(self.browser, 10).until(\n",
    "                    EC.presence_of_element_located(\n",
    "                        (By.CSS_SELECTOR, \"div.tbltype_list > table\")\n",
    "                    )\n",
    "                )\n",
    "        "
   ]
  },
  {
   "cell_type": "code",
   "execution_count": 12,
   "metadata": {},
   "outputs": [],
   "source": [
    "def row_filter(rows, teacher_name, start, till = None):\n",
    "    run = True\n",
    "    \n",
    "    if till == None:\n",
    "        till = start\n",
    "    qna_dic = defaultdict(int)\n",
    "    start, till = parse_date(start), parse_date(till)\n",
    "    \n",
    "    filtered_notice_rows = [row for row in rows if row.get_attribute(\"class\") in [None, '']]\n",
    "    \n",
    "    if 'etoos' in teacher_name:\n",
    "        filtered_rows = []\n",
    "        for row in filtered_notice_rows:\n",
    "            td_list = row.find_elements_by_css_selector(\"*\")\n",
    "            \n",
    "            date_value, writer= parse_date(td_list[-1].text), td_list[-2].text\n",
    "            if len(writer) > 4:\n",
    "                print(\"This is not a question, but answer\")\n",
    "                continue\n",
    "                \n",
    "            check = check_date_range(date_value, start, till)\n",
    "            if check:\n",
    "                qna_dic[date_value] +=1\n",
    "            elif check < 0:\n",
    "                run = False\n",
    "                break\n",
    "            \n",
    "        return run, qna_dic\n",
    "    \n",
    "    \n",
    "    elif 'skyedu' in teacher_name:\n",
    "        for row in filtered_notice_rows:\n",
    "            td_list = row.find_elements_by_css_selector(\"*\")\n",
    "            date_value = parse_date(td_list[-1].text)\n",
    "            \n",
    "            check = check_date_range(date_value, start, till)\n",
    "            if check:\n",
    "                qna_dic[date_value] +=1\n",
    "            elif check < 0:\n",
    "                run = False\n",
    "                break\n",
    "\n",
    "        return run, qna_dic\n",
    "\n",
    "    \n",
    "    elif 'megastudy' in teacher_name:\n",
    "        for row in filtered_notice_rows:\n",
    "            td_list = row.find_elements_by_css_selector(\"*\")\n",
    "            date_value = parse_date(td_list[-2].text)\n",
    "            \n",
    "            check = check_date_range(date_value, start, till)\n",
    "            if check:\n",
    "                qna_dic[date_value] +=1\n",
    "            elif check < 0:\n",
    "                run = False\n",
    "                break\n",
    "        \n",
    "    \n",
    "    elif 'mimac' in teacher_name:\n",
    "        filtered_rows = []\n",
    "        for row in filtered_notice_rows:\n",
    "            td_list = row.find_elements_by_css_selector(\"*\")\n",
    "            first_td_class = td_list[0].get_attribute(\"class\")\n",
    "            \n",
    "            if first_td_class == \"noti\" or row_class == \"reply\":\n",
    "                continue\n",
    "            date_value = td_list[-2]\n",
    "            \n",
    "            check = check_date_range(date_value, start, till)\n",
    "            if check:\n",
    "                qna_dic[date_value] +=1\n",
    "            elif check < 0:\n",
    "                run = False\n",
    "                break\n",
    "            \n",
    "            \n",
    "\n",
    "        return filtered_rows\n",
    "        \n",
    "    return filtered_notice_rows"
   ]
  },
  {
   "cell_type": "code",
   "execution_count": 13,
   "metadata": {},
   "outputs": [],
   "source": [
    "def connect_gspread():\n",
    "    scope = [\n",
    "    \"https://spreadsheets.google.com/feeds\",\n",
    "    \"https://www.googleapis.com/auth/drive\",\n",
    "    ]\n",
    "\n",
    "    json_file_name = \"woven-arcadia-269609-12b95dbdd1c3.json\"\n",
    "\n",
    "    credentials = ServiceAccountCredentials.from_json_keyfile_name(json_file_name, scope)\n",
    "    gc = gspread.authorize(credentials)\n",
    "\n",
    "    spreadsheet_url = \"https://docs.google.com/spreadsheets/d/1YEO-EhcPmtj0r0YJzy-xNF6oVEdb8QHS43Eusck83so/edit#gid=2122150374\"\n",
    "\n",
    "    # 스프레스시트 문서 가져오기\n",
    "    doc = gc.open_by_url(spreadsheet_url)\n",
    "    return doc\n",
    "\n",
    "def driver_setting():\n",
    "    #ua = UserAgent()\n",
    "    co = webdriver.ChromeOptions()\n",
    "    co.add_argument(\"/home/yoonhoonsang/internet_lecture/chromedriver\")\n",
    "    co.add_argument(\"log-level=1\")\n",
    "    #co.add_argument(\"headless\")\n",
    "    #co.add_argument(\"user-agent={}\".format(ua.random))\n",
    "    co.add_argument(\"lang=ko_KR\")\n",
    "    return co\n",
    "\n",
    "def find_rows_of_table(browser):\n",
    "    tbody = browser.find_element_by_tag_name(\"tbody\")\n",
    "    rows = tbody.find_elements_by_tag_name(\"tr\")\n",
    "    return rows"
   ]
  },
  {
   "cell_type": "code",
   "execution_count": 14,
   "metadata": {},
   "outputs": [],
   "source": [
    "def driver_setting():\n",
    "    #ua = UserAgent()\n",
    "    co = webdriver.ChromeOptions()\n",
    "    co.add_argument(\"/home/yoonhoonsang/internet_lecture/chromedriver\")\n",
    "    co.add_argument(\"log-level=1\")\n",
    "    #co.add_argument(\"headless\")\n",
    "    #co.add_argument(\"user-agent={}\".format(ua.random))\n",
    "    co.add_argument(\"lang=ko_KR\")\n",
    "    return co"
   ]
  },
  {
   "cell_type": "code",
   "execution_count": 15,
   "metadata": {},
   "outputs": [],
   "source": [
    "def find_rows_of_table(browser):\n",
    "    tbody = browser.find_element_by_tag_name(\"tbody\")\n",
    "    rows = tbody.find_elements_by_tag_name(\"tr\")\n",
    "    return rows"
   ]
  },
  {
   "cell_type": "code",
   "execution_count": 93,
   "metadata": {},
   "outputs": [],
   "source": [
    "teacher_dic = {\n",
    "    \"etoos_yhk\": \"https://www.etoos.com/teacher/board/sub04_math/board_list.asp?teacher_id=200386&selSearchType=&txtSearchWD=&BOARD_ID=2007&QUST_TYPE_CD=&GOOD_QUST_YN=&MOV_YN=&MEM_YN=&NTView=&page=30\",\n",
    "    \"etoos_kww\": \"https://go3.etoos.com/teacher/board/sub04_math/board_list.asp?teacher_id=200245&selSearchType=&txtSearchWD=&BOARD_ID=2007&QUST_TYPE_CD=&GOOD_QUST_YN=&MOV_YN=&MEM_YN=&NTView=&page=1\",\n",
    "    \"megastudy_jjs\": \"http://www.megastudy.net/teacher_v2/bbs/bbs_list_ax.asp?tec_cd=rimbaud666&tec_nm=%uC870%uC815%uC2DD&tec_type=1&brd_cd=784&brd_tbl=MS_BRD_TEC784&brd_kbn=qnabbs&dom_cd=5&LeftMenuCd=3&LeftSubCd=1&HomeCd=134&page=1&chr_cd=&sub_nm=&ans_yn=&smode=1&sword=&TmpFlg=0.24915805251066403\",\n",
    "    \"mimac_lmh\": \"http://www.mimacstudy.com/tcher/studyQna/getStudyQnaList.ds?tcd=531&currPage=1 \",\n",
    "    \"skyedu_jhc\": \"https://skyedu.conects.com/teachers/teacher_qna/?t_id=jhc01&cat1=1&page=1\",\n",
    "}"
   ]
  },
  {
   "cell_type": "code",
   "execution_count": 16,
   "metadata": {},
   "outputs": [
    {
     "name": "stderr",
     "output_type": "stream",
     "text": [
      "/usr/local/lib/python3.7/site-packages/ipykernel_launcher.py:1: DeprecationWarning: use options instead of chrome_options\n",
      "  \"\"\"Entry point for launching an IPython kernel.\n"
     ]
    }
   ],
   "source": [
    "b = webdriver.Chrome(chrome_options=driver_setting())"
   ]
  },
  {
   "cell_type": "code",
   "execution_count": 31,
   "metadata": {},
   "outputs": [],
   "source": [
    "b.get(teacher_dic['etoos_yhk'])"
   ]
  },
  {
   "cell_type": "code",
   "execution_count": 32,
   "metadata": {},
   "outputs": [],
   "source": [
    "rows = find_rows_of_table(b)"
   ]
  },
  {
   "cell_type": "code",
   "execution_count": 33,
   "metadata": {},
   "outputs": [
    {
     "data": {
      "text/plain": [
       "[<selenium.webdriver.remote.webelement.WebElement (session=\"a8a53b82cd1e649b2efea7e4973cda32\", element=\"ae1d6a33-15eb-4e3f-91b7-2abff15980f6\")>,\n",
       " <selenium.webdriver.remote.webelement.WebElement (session=\"a8a53b82cd1e649b2efea7e4973cda32\", element=\"b5d8529b-f4ef-4921-ab54-8278f87af520\")>,\n",
       " <selenium.webdriver.remote.webelement.WebElement (session=\"a8a53b82cd1e649b2efea7e4973cda32\", element=\"e9395dd8-b992-41f8-8be5-d847632a7f5d\")>,\n",
       " <selenium.webdriver.remote.webelement.WebElement (session=\"a8a53b82cd1e649b2efea7e4973cda32\", element=\"0415a1e9-3d2e-49b6-9cb7-b67882063112\")>,\n",
       " <selenium.webdriver.remote.webelement.WebElement (session=\"a8a53b82cd1e649b2efea7e4973cda32\", element=\"1e3deca2-532c-4cee-abe3-104ea5b01a49\")>,\n",
       " <selenium.webdriver.remote.webelement.WebElement (session=\"a8a53b82cd1e649b2efea7e4973cda32\", element=\"b1fd6378-ecf1-41b2-a3b9-5d33716d8372\")>,\n",
       " <selenium.webdriver.remote.webelement.WebElement (session=\"a8a53b82cd1e649b2efea7e4973cda32\", element=\"bc5e8d39-2d69-4689-9e02-f7e89ec88291\")>,\n",
       " <selenium.webdriver.remote.webelement.WebElement (session=\"a8a53b82cd1e649b2efea7e4973cda32\", element=\"d9af2d2c-ea6b-4882-ac98-067975cca7ff\")>,\n",
       " <selenium.webdriver.remote.webelement.WebElement (session=\"a8a53b82cd1e649b2efea7e4973cda32\", element=\"7ebb3399-a988-460f-be0e-86c426eaa6f9\")>,\n",
       " <selenium.webdriver.remote.webelement.WebElement (session=\"a8a53b82cd1e649b2efea7e4973cda32\", element=\"c8452574-d8a0-4316-b5aa-83dff5c5aaa6\")>,\n",
       " <selenium.webdriver.remote.webelement.WebElement (session=\"a8a53b82cd1e649b2efea7e4973cda32\", element=\"8f58ab43-dba9-443f-bd8b-6104f5686024\")>,\n",
       " <selenium.webdriver.remote.webelement.WebElement (session=\"a8a53b82cd1e649b2efea7e4973cda32\", element=\"fda281bc-feb0-4fa6-91b9-e9387176b56a\")>,\n",
       " <selenium.webdriver.remote.webelement.WebElement (session=\"a8a53b82cd1e649b2efea7e4973cda32\", element=\"043f1b6c-23cf-4e86-a7df-6fd41bd46b47\")>,\n",
       " <selenium.webdriver.remote.webelement.WebElement (session=\"a8a53b82cd1e649b2efea7e4973cda32\", element=\"39737040-2fd0-4fd5-8084-457d036e0569\")>,\n",
       " <selenium.webdriver.remote.webelement.WebElement (session=\"a8a53b82cd1e649b2efea7e4973cda32\", element=\"226cc7a0-3cf9-4e96-a0f0-f3d5c6755345\")>,\n",
       " <selenium.webdriver.remote.webelement.WebElement (session=\"a8a53b82cd1e649b2efea7e4973cda32\", element=\"90770632-3160-466b-b076-728d27461a98\")>,\n",
       " <selenium.webdriver.remote.webelement.WebElement (session=\"a8a53b82cd1e649b2efea7e4973cda32\", element=\"d97bf5fc-0d8d-4dda-88eb-e172dee25b9e\")>,\n",
       " <selenium.webdriver.remote.webelement.WebElement (session=\"a8a53b82cd1e649b2efea7e4973cda32\", element=\"82559c51-898f-466b-a7de-b1dc9e51ac2b\")>,\n",
       " <selenium.webdriver.remote.webelement.WebElement (session=\"a8a53b82cd1e649b2efea7e4973cda32\", element=\"d3765043-be6b-4518-8ab3-782d1050085f\")>,\n",
       " <selenium.webdriver.remote.webelement.WebElement (session=\"a8a53b82cd1e649b2efea7e4973cda32\", element=\"135be780-0074-472b-867e-94f80267d2ff\")>,\n",
       " <selenium.webdriver.remote.webelement.WebElement (session=\"a8a53b82cd1e649b2efea7e4973cda32\", element=\"03d4fbd7-0c3f-4d89-a329-20fb9d03a3ad\")>,\n",
       " <selenium.webdriver.remote.webelement.WebElement (session=\"a8a53b82cd1e649b2efea7e4973cda32\", element=\"ff84074b-0f25-464c-9438-41c33e95b6d1\")>,\n",
       " <selenium.webdriver.remote.webelement.WebElement (session=\"a8a53b82cd1e649b2efea7e4973cda32\", element=\"52bd30b0-bda0-43e9-8381-334c46fd208f\")>]"
      ]
     },
     "execution_count": 33,
     "metadata": {},
     "output_type": "execute_result"
    }
   ],
   "source": [
    "rows"
   ]
  },
  {
   "cell_type": "code",
   "execution_count": 34,
   "metadata": {},
   "outputs": [
    {
     "name": "stdout",
     "output_type": "stream",
     "text": [
      "This is not a question, but answer\n",
      "This is not a question, but answer\n",
      "This is not a question, but answer\n",
      "This is not a question, but answer\n",
      "This is not a question, but answer\n",
      "This is not a question, but answer\n",
      "This is not a question, but answer\n",
      "This is not a question, but answer\n",
      "This is not a question, but answer\n"
     ]
    },
    {
     "data": {
      "text/plain": [
       "(True, defaultdict(int, {datetime.datetime(2020, 3, 8, 0, 0): 11}))"
      ]
     },
     "execution_count": 34,
     "metadata": {},
     "output_type": "execute_result"
    }
   ],
   "source": [
    "row_filter(rows, 'etoos_yhk', '2020-03-10')"
   ]
  },
  {
   "cell_type": "code",
   "execution_count": 268,
   "metadata": {},
   "outputs": [
    {
     "ename": "TypeError",
     "evalue": "filter expected 2 arguments, got 4",
     "output_type": "error",
     "traceback": [
      "\u001b[0;31m---------------------------------------------------------------------------\u001b[0m",
      "\u001b[0;31mTypeError\u001b[0m                                 Traceback (most recent call last)",
      "\u001b[0;32m<ipython-input-268-0a7fb952a347>\u001b[0m in \u001b[0;36m<module>\u001b[0;34m\u001b[0m\n\u001b[0;32m----> 1\u001b[0;31m \u001b[0mrow_filter_by_date\u001b[0m\u001b[0;34m(\u001b[0m\u001b[0mrows\u001b[0m\u001b[0;34m,\u001b[0m \u001b[0;34m'etoos_yhk'\u001b[0m\u001b[0;34m,\u001b[0m\u001b[0;34m'2020-03-09'\u001b[0m\u001b[0;34m,\u001b[0m \u001b[0;34m'2020-03-08'\u001b[0m\u001b[0;34m)\u001b[0m\u001b[0;34m\u001b[0m\u001b[0;34m\u001b[0m\u001b[0m\n\u001b[0m",
      "\u001b[0;32m<ipython-input-250-d065db88421f>\u001b[0m in \u001b[0;36mrow_filter_by_date\u001b[0;34m(rows, teacher_name, start, till)\u001b[0m\n\u001b[1;32m      5\u001b[0m \u001b[0;34m\u001b[0m\u001b[0m\n\u001b[1;32m      6\u001b[0m     \u001b[0;32mif\u001b[0m \u001b[0;34m'etoos'\u001b[0m \u001b[0;32min\u001b[0m \u001b[0mteacher_name\u001b[0m\u001b[0;34m:\u001b[0m\u001b[0;34m\u001b[0m\u001b[0;34m\u001b[0m\u001b[0m\n\u001b[0;32m----> 7\u001b[0;31m         \u001b[0;32mreturn\u001b[0m \u001b[0mlist\u001b[0m\u001b[0;34m(\u001b[0m\u001b[0mfilter\u001b[0m\u001b[0;34m(\u001b[0m\u001b[0mcheck_date_range\u001b[0m\u001b[0;34m,\u001b[0m \u001b[0mrows\u001b[0m\u001b[0;34m,\u001b[0m \u001b[0mstart\u001b[0m\u001b[0;34m,\u001b[0m \u001b[0mtill\u001b[0m\u001b[0;34m)\u001b[0m\u001b[0;34m)\u001b[0m\u001b[0;34m\u001b[0m\u001b[0;34m\u001b[0m\u001b[0m\n\u001b[0m\u001b[1;32m      8\u001b[0m \u001b[0;31m#     elif 'megastudy' in teacher_name:\u001b[0m\u001b[0;34m\u001b[0m\u001b[0;34m\u001b[0m\u001b[0;34m\u001b[0m\u001b[0m\n\u001b[1;32m      9\u001b[0m \u001b[0;34m\u001b[0m\u001b[0m\n",
      "\u001b[0;31mTypeError\u001b[0m: filter expected 2 arguments, got 4"
     ]
    }
   ],
   "source": [
    "row_filter_by_date(rows, 'etoos_yhk','2020-03-09', '2020-03-08')"
   ]
  },
  {
   "cell_type": "code",
   "execution_count": 29,
   "metadata": {},
   "outputs": [
    {
     "name": "stdout",
     "output_type": "stream",
     "text": [
      "23\n",
      "2\n"
     ]
    }
   ],
   "source": [
    "print(len(rows))\n",
    "print(len(row_filter(rows, 'etoos_yhk', '2020-03-10')))"
   ]
  },
  {
   "cell_type": "code",
   "execution_count": 36,
   "metadata": {},
   "outputs": [],
   "source": [
    "class SPIDER_BOARD(scrapy.Spider):\n",
    "    name = \"SPIDERMAN\"\n",
    "    start_urls = [\"http://www.naver.com\"]\n",
    "    \n",
    "    def __init__(self, **kwargs):\n",
    "        super().__init__(**kwargs)\n",
    "        # Arguments:\n",
    "        # self.start, self.till, self.teacher\n",
    "        # if only self.teacher:   set_range_with_today()\n",
    "        \n",
    "        if with_range == False:\n",
    "            self.start, self.till = set_range_with_today()\n",
    "        else:\n",
    "            self.start, self.till = set_range(self.start, self.till)\n",
    "        self.co = driver_setting()\n",
    "        self.doc = connect_gspread()\n",
    "        self.worksheet = set_teachers(self.teacher, doc)\n",
    "        self.teacher_dic = {\n",
    "            \"etoos_yhk\": \"https://www.etoos.com/teacher/board/sub04_math/board_list.asp?teacher_id=200386&selSearchType=&txtSearchWD=&BOARD_ID=2007&QUST_TYPE_CD=&GOOD_QUST_YN=&MOV_YN=&MEM_YN=&NTView=&page=10\",\n",
    "            \"etoos_kww\": \"https://go3.etoos.com/teacher/board/sub04_math/board_list.asp?teacher_id=200245&selSearchType=&txtSearchWD=&BOARD_ID=2007&QUST_TYPE_CD=&GOOD_QUST_YN=&MOV_YN=&MEM_YN=&NTView=&page=1\",\n",
    "            \"megastudy_jjs\": \"http://www.megastudy.net/teacher_v2/bbs/bbs_list_ax.asp?tec_cd=rimbaud666&tec_nm=%uC870%uC815%uC2DD&tec_type=1&brd_cd=784&brd_tbl=MS_BRD_TEC784&brd_kbn=qnabbs&dom_cd=5&LeftMenuCd=3&LeftSubCd=1&HomeCd=134&page=1&chr_cd=&sub_nm=&ans_yn=&smode=1&sword=&TmpFlg=0.24915805251066403\",\n",
    "            \"mimac_lmh\": \"http://www.mimacstudy.com/tcher/studyQna/getStudyQnaList.ds?tcd=531&currPage=1 \",\n",
    "            \"skyedu_jhc\": \"https://skyedu.conects.com/teachers/teacher_qna/?t_id=jhc01&cat1=1&page=1\",\n",
    "        }\n",
    "        \n",
    "    def parse(self, response):\n",
    "        print(\"---- Scraping Starts ----\")\n",
    "        print(\"---- Scraping of {}\".format(str(self.start)))\n",
    "        \n",
    "        page, qna_dictionary, running = 1, defaultdict(int), True\n",
    "        running = True\n",
    "        while running:\n",
    "            self.co.add_argument(\"user-agent={}\".format(ua.random))\n",
    "            browser = webdriver.Chrome(chrome_options=self.co)\n",
    "            print(\"Current Page {}\".format(page))\n",
    "            base_url = self.teacher_dic[self.teacher].format(str(page))\n",
    "            browser.get(base_url)\n",
    "            \n",
    "            print(\"Accessing {}\".format(base_url))\n",
    "            \n",
    "            title = WebDriverWait(browser, 10).until(\n",
    "                EC.presence_of_element_located(\n",
    "                    (By.CSS_SELECTOR, \"table.subcomm_tbl_board\")\n",
    "                )\n",
    "            )\n",
    "            print(\"table element poped up\")\n",
    "            \n",
    "            rows = find_rows_of_table(browser)\n",
    "            running, qna_dic = row_filter(rows, self.teacher, self.start, self.till)\n",
    "            qna_dictionary = mergeDict(qna_dictionary, qna_dic)\n",
    "            if running == False:\n",
    "                break\n",
    "            \n",
    "        for date in qna_dictionary:\n",
    "            print(\"Final Process...\")\n",
    "            self.worksheet.append_row([str(date), str(qna_dictionary[date])])\n",
    "\n",
    "            item = QnaCrawlerItem()\n",
    "            item[\"date\"] = date\n",
    "            item[\"qna_count\"] = qna_dictionary[date]\n",
    "\n",
    "            yield item"
   ]
  },
  {
   "cell_type": "code",
   "execution_count": 102,
   "metadata": {},
   "outputs": [],
   "source": [
    "ua = UserAgent()\n",
    "co = webdriver.ChromeOptions()\n",
    "co.add_argument(\"/Users/yoonhoonsang/Desktop/internet_lecture/qna_crawler/chromedriver\")\n",
    "co.add_argument(\"log-level=1\")\n",
    "co.add_argument(\"headless\")\n",
    "co.add_argument(\"user-agent={}\".format(ua.random))\n",
    "co.add_argument(\"lang=ko_KR\")"
   ]
  },
  {
   "cell_type": "code",
   "execution_count": 103,
   "metadata": {},
   "outputs": [],
   "source": [
    "def get_proxies(co=co):\n",
    "    driver = webdriver.Chrome(chrome_options=co)\n",
    "    driver.get(\"https://free-proxy-list.net/\")\n",
    "\n",
    "    PROXIES = []\n",
    "    proxies = driver.find_elements_by_css_selector(\"tr[role='row']\")\n",
    "    for p in proxies:\n",
    "        result = p.text.split(\" \")\n",
    "        if result[-1] == \"yes\":\n",
    "            PROXIES.append(result[0] + \":\" + result[1])\n",
    "\n",
    "    driver.close()\n",
    "    return PROXIES"
   ]
  },
  {
   "cell_type": "code",
   "execution_count": 104,
   "metadata": {},
   "outputs": [
    {
     "name": "stderr",
     "output_type": "stream",
     "text": [
      "/usr/local/lib/python3.7/site-packages/ipykernel_launcher.py:2: DeprecationWarning: use options instead of chrome_options\n",
      "  \n"
     ]
    }
   ],
   "source": [
    "ALL_PROXIES = get_proxies()"
   ]
  },
  {
   "cell_type": "code",
   "execution_count": 105,
   "metadata": {},
   "outputs": [],
   "source": [
    "ua = UserAgent()\n",
    "co = webdriver.ChromeOptions()\n",
    "co.add_argument(\"/Users/yoonhoonsang/Desktop/internet_lecture/qna_crawler/chromedriver\")\n",
    "co.add_argument(\"log-level=1\")\n",
    "co.add_argument(\"user-agent={}\".format(ua.random))\n",
    "co.add_argument(\"lang=ko_KR\")"
   ]
  },
  {
   "cell_type": "code",
   "execution_count": 106,
   "metadata": {},
   "outputs": [
    {
     "data": {
      "text/plain": [
       "['128.199.77.65:47503',\n",
       " '198.50.214.17:8585',\n",
       " '190.6.200.158:38256',\n",
       " '139.255.123.194:4550',\n",
       " '5.202.181.163:8080',\n",
       " '195.4.164.127:8080',\n",
       " '104.43.211.14:8080']"
      ]
     },
     "execution_count": 106,
     "metadata": {},
     "output_type": "execute_result"
    }
   ],
   "source": [
    "ALL_PROXIES"
   ]
  },
  {
   "cell_type": "code",
   "execution_count": 107,
   "metadata": {},
   "outputs": [],
   "source": [
    "def proxy_driver(PROXIES, co=co):\n",
    "    prox = Proxy()\n",
    "    pxy = \"\"\n",
    "    if PROXIES:\n",
    "        pxy = random.choice(PROXIES) #random proxy\n",
    "        print(pxy)\n",
    "    else:\n",
    "        print(\"--- Proxies used up (%s)\" % len(PROXIES))\n",
    "        PROXIES = get_proxies()\n",
    "\n",
    "    prox.proxy_type = ProxyType.MANUAL\n",
    "    prox.http_proxy = pxy\n",
    "    prox.ssl_proxy = pxy\n",
    "\n",
    "    capabilities = webdriver.DesiredCapabilities.CHROME\n",
    "    prox.add_to_capabilities(capabilities)\n",
    "\n",
    "    driver = webdriver.Chrome(chrome_options=co, desired_capabilities=capabilities)\n",
    "\n",
    "    return driver"
   ]
  },
  {
   "cell_type": "code",
   "execution_count": 109,
   "metadata": {},
   "outputs": [
    {
     "name": "stdout",
     "output_type": "stream",
     "text": [
      "104.43.211.14:8080\n"
     ]
    },
    {
     "name": "stderr",
     "output_type": "stream",
     "text": [
      "/usr/local/lib/python3.7/site-packages/ipykernel_launcher.py:18: DeprecationWarning: use options instead of chrome_options\n"
     ]
    }
   ],
   "source": [
    "pd = proxy_driver(ALL_PROXIES)"
   ]
  },
  {
   "cell_type": "code",
   "execution_count": 94,
   "metadata": {},
   "outputs": [],
   "source": [
    "pd.get(\"http://www.mimacstudy.com/tcher/studyQna/getStudyQnaList.ds?tcd=531&currPage=1\")"
   ]
  },
  {
   "cell_type": "code",
   "execution_count": 110,
   "metadata": {},
   "outputs": [],
   "source": [
    "import requests"
   ]
  },
  {
   "cell_type": "code",
   "execution_count": 113,
   "metadata": {},
   "outputs": [],
   "source": [
    "doc = requests.get('http://www.mimacstudy.com/tcher/studyQna/getStudyQnaList.ds?tcd=531&currPage=1')"
   ]
  },
  {
   "cell_type": "code",
   "execution_count": 116,
   "metadata": {},
   "outputs": [
    {
     "data": {
      "text/plain": [
       "'<!DOCTYPE html>\\r\\n<html lang=\"ko\">\\r\\n<head>\\r\\n<meta http-equiv=\"X-UA-Compatible\" content=\"IE=edge\" />\\r\\n<!-- <meta property=\"og:title\"\\t\\tcontent=\"대성마이맥\" /> -->\\r\\n<!-- <meta property=\"og:description\"\\tcontent=\"전국 고교90%, 서울·경기 고교 99%가 수강! 19패스 하나면 내신부터 수능까지 준비 끝!\" /> -->\\r\\n<!-- <meta property=\"og:type\"\\t\\tcontent=\"website\" /> -->\\r\\n<!-- <meta property=\"og:url\"\\t\\t\\tcontent=\"http://www.mimacstudy.com/\" /> -->\\r\\n<meta http-equiv=\"Cache-Control\" content=\"no-cache\"/>\\r\\n<meta http-equiv=\"Expires\" content=\"0\"/>\\r\\n<meta http-equiv=\"Pragma\" content=\"no-cache\"/>\\r\\n<title>대성마이맥 마이맥선생님 &gt; 학습 Q&A</title>\\r\\n<meta name=\"description\" content=\"전국 고교90%, 서울·경기 고교 99%가 수강! 19패스 하나면 내신부터 수능까지 준비 끝!\"/>\\r\\n <link rel=\"shortcut icon\" href=\"http://img.mimacstudy.com/FRONT/icon/favicon.ico\" />\\r\\n<link rel=\"stylesheet\" type=\"text/css\" href=\"http://img.mimacstudy.com/FRONT/css/daesung.css?v1\">\\r\\n<link rel=\"stylesheet\" type=\"text/css\" href=\"http://img.mimacstudy.com/FRONT/css/daesung2.css\">\\r\\n<script type=\"text/javascript\" src=\"/js/jquery-1.11.1.min.js\"></script>\\r\\n<script type=\"text/javascript\" src=\"/js/common.js\"></script>\\r\\n<script type=\"text/javascript\" src=\"/js/page_util.js\"></script>\\r\\n<script type=\"text/javascript\" src=\"/js/jqwidgets/jqxcore.js\"></script>\\r\\n<script type=\"text/javascript\" src=\"/js/jqwidgets/jqxscrollview.js\"></script>\\r\\n<script type=\"text/javascript\" src=\"/js/jssor.js\"></script>\\r\\n<script type=\"text/javascript\" src=\"/js/jssor.slider.js\"></script>\\r\\n<script type=\"text/javascript\" src=\"/js/placeholders.min.js\"></script>\\r\\n<script type=\"text/javascript\" src=\"/js/zoneplayer/js/app/app.js?171114\"></script>\\r\\n<script type=\"text/javascript\" src=\"/js/common_bnr.js\"></script>\\r\\n<link rel=\"stylesheet\" type=\"text/css\" href=\"http://img.mimacstudy.com/FRONT/css/common.css?v2\" />\\r\\n<link rel=\"stylesheet\" type=\"text/css\" href=\"http://img.mimacstudy.com/FRONT/css/main.css?v2\" />\\r\\n<script type=\"text/javascript\" src=\"/js/jquery.touchFlow.js\"></script>\\r\\n<script type=\"text/javascript\" src=\"/js/jquery.event.drag-1.5.1.min.js\"></script>\\r\\n<script type=\"text/javascript\">\\r\\n\\t$(document).ready(function(event){\\r\\n\\t\\t$(\"ul.leftmenu>li\").click(function() {\\r\\n\\t\\t\\tvar liName = $(this).attr(\"name\") == undefined ? \"\" : $(this).attr(\"name\");\\r\\n\\r\\n\\t\\t\\tif(liName == \"relmLi\") return;\\r\\n\\r\\n\\t       \\tif ($(this).hasClass(\"open\")){\\r\\n\\t          \\t\\t$(this).removeClass(\"open\").addClass(\"close\");\\r\\n\\t          \\t\\t//$(this).parent().addClass(\"open\");\\r\\n\\t        \\t}else if ($(this).hasClass(\"close\")){\\r\\n\\t          \\t\\t$(this).removeClass(\"close\").addClass(\"open\");\\r\\n\\t          \\t\\t//$(this).parent().removeClass();\\r\\n\\t        \\t}\\r\\n\\t     \\t});\\r\\n\\r\\n\\t  \\t$(\"ul.leftmenu>li\").each(function(event){\\r\\n\\t      \\t\\tif ($(this).hasClass(\"close\")){\\r\\n\\t        \\t\\t\\t$(this).parent().addClass(\"open\");\\r\\n\\t      \\t\\t}\\r\\n\\t    \\t\\t});\\r\\n\\r\\n\\t  //스카이배너 가져오기\\r\\n\\t\\tif(\"531\"){\\r\\n\\t\\t\\tgetSkyBnr_renew(\\'M011\\',\\'tcd\\',  \"531\");\\r\\n\\t \\t}else{\\r\\n\\t \\t\\t getSkyBnr_renew(\\'M002\\',\\'\\',\"531\");\\r\\n\\t\\t  \\t}\\r\\n\\r\\n\\t\\t\\t\\t// 스카이배너 가져오기\\r\\n\\t\\t\\t\\t/*getSkyBnr(M002, \"531\");\\r\\n\\t\\t\\t  \\tvar skyData = {\\r\\n\\t\\t\\t  \\t\\t\\t  type : \"531\" != \"\" ? \"tcd\" : \"\"  //tcd가 있으면 선생님별 스카이배너\\r\\n\\t\\t\\t  \\t\\t\\t, relm : \"03\"\\r\\n\\t\\t\\t  \\t\\t\\t, tcd  : \"531\"\\r\\n\\t\\t\\t  \\t\\t\\t, subj : \"\"\\r\\n\\t\\t\\t  \\t\\t\\t, skyBanrDstin : \"531\" != \"\" ? \"\" : \"M002\"  //마이맥선생님영역 스카이배너\\r\\n\\t\\t\\t  \\t};\\r\\n\\r\\n\\t\\t\\t  \\t// 스카이배너 가져오기\\r\\n\\t\\t\\t\\t$.ajax({\\r\\n\\t\\t\\t\\t\\ttype : \"POST\" ,\\r\\n\\t\\t\\t\\t    async: false,\\r\\n\\t\\t\\t\\t\\turl : \"/common/getSkyBannerList.ds\",\\r\\n\\t\\t\\t\\t\\tdata : skyData,\\r\\n\\t\\t\\t\\t\\tdataType : \"json\" ,\\r\\n\\t\\t\\t\\t\\tsuccess : function(data) {\\r\\n\\t\\t\\t\\t\\t\\tif(data.code == \"success\") {\\r\\n\\t\\t\\t\\t\\t\\t\\tvar id = \"\";\\r\\n\\t\\t\\t\\t\\t\\t\\tvar rid = [];\\r\\n\\t\\t\\t\\t\\t\\t\\tvar hid = [];\\r\\n\\t\\t\\t\\t\\t\\t\\tvar htmlCode = \\'\\';\\r\\n\\t\\t\\t\\t\\t\\t\\tvar htmlFirstCode = \\'\\';\\r\\n\\t\\t\\t\\t\\t\\t\\t$(data.data).each(function(i, data) {\\r\\n\\t\\t\\t\\t\\t\\t\\t\\tvar banrId\\t\\t \\t= data.banrId;\\r\\n\\t\\t\\t\\t\\t\\t\\t\\tvar imgName \\t \\t= data.imgName;\\r\\n\\t\\t\\t\\t\\t\\t\\t\\tvar upldImgName \\t= data.upldImgName;\\r\\n\\t\\t\\t\\t\\t\\t\\t\\tvar imgPath \\t \\t= data.imgPath;\\r\\n\\t\\t\\t\\t\\t\\t\\t\\tvar linkInfo\\t \\t= data.linkInfo;\\r\\n\\t\\t\\t\\t\\t\\t\\t\\tvar newWinYn \\t\\t= data.newWinYn;\\r\\n\\t\\t\\t\\t\\t\\t\\t\\tvar skyBanrType\\t\\t= data.skyBanrType;\\r\\n\\t\\t\\t\\t\\t\\t\\t\\tvar banrHegt\\t\\t= data.banrHegt;\\r\\n\\t\\t\\t\\t\\t\\t\\t\\tvar banrLinkType\\t\\t= data.banrLinkType;\\r\\n\\t\\t\\t\\t\\t\\t\\t\\tvar linkMid\\t\\t= data.linkMid;\\r\\n\\r\\n\\t\\t\\t\\t\\t\\t\\t\\tif(skyBanrType == \"02\"){\\r\\n\\t\\t\\t\\t\\t\\t\\t\\t\\tif(id != banrId){\\r\\n\\t\\t\\t\\t\\t\\t\\t\\t\\t\\tif(i > 0) {\\r\\n\\t\\t\\t\\t\\t\\t\\t\\t\\t\\t\\thtmlCode += \\'</div></div>\\'\\r\\n\\t\\t\\t\\t\\t\\t\\t\\t\\t\\t\\thtmlCode += \\'</ul>\\';\\r\\n\\t\\t\\t\\t\\t\\t\\t\\t\\t\\t}\\r\\n\\t\\t\\t\\t\\t\\t\\t\\t\\t\\thtmlCode += \\'<ul id=\"rolling_\\'+banrId+\\'\" style=\"background-color:white;\">\\';\\r\\n\\t\\t\\t\\t\\t\\t\\t\\t\\t\\thtmlCode += \\'<div id=\"scroll_\\'+banrId+\\'\" style=\"position: relative; top: 0px; left: 0px; width: 113px; height: 166px; overflow: hidden;\">\\';\\r\\n\\t\\t\\t\\t\\t\\t\\t\\t\\t\\thtmlCode += \\'<div u=\"slides\" style=\"position: absolute; left: 0px; top: 0px; width: 113px; height: 166px; overflow: hidden;\">\\';\\r\\n\\t\\t\\t\\t\\t\\t\\t\\t\\t\\trid.push(banrId);\\r\\n\\t\\t\\t\\t\\t\\t\\t\\t\\t\\thid.push(banrHegt);\\r\\n\\t\\t\\t\\t\\t\\t\\t\\t\\t}\\r\\n\\t\\t\\t\\t\\t\\t\\t\\t} else {\\r\\n\\t\\t\\t\\t\\t\\t\\t\\t\\tif(i > 0) {\\r\\n\\t\\t\\t\\t\\t\\t\\t\\t\\t\\thtmlCode += \\'</ul>\\';\\r\\n\\t\\t\\t\\t\\t\\t\\t\\t\\t}\\r\\n\\t\\t\\t\\t\\t\\t\\t\\t\\thtmlCode += \\'<ul>\\';\\r\\n\\t\\t\\t\\t\\t\\t\\t\\t}\\r\\n\\t\\t\\t\\t\\t\\t\\t\\tif(skyBanrType == \"02\"){\\r\\n\\t\\t\\t\\t\\t\\t\\t\\t\\thtmlCode += \\'<div><a  onclick=\"openSkyBannerLink(\\\\\\'\\' + linkInfo + \\'\\\\\\', \\\\\\'\\' + banrId + \\'\\\\\\', \\\\\\'\\' + newWinYn + \\'\\\\\\', \\\\\\'\\' + banrLinkType + \\'\\\\\\', \\\\\\'\\' + linkMid + \\'\\\\\\');return false;\"><img u=image src=\"http://img.mimacstudy.com\\' + imgPath + \\'/\\' + imgName + \\'\" style=\"cursor:pointer;\" /></a></div>\\';\\r\\n\\t\\t\\t\\t\\t\\t\\t\\t} else {\\r\\n\\t\\t\\t\\t\\t\\t\\t\\t\\thtmlCode += \\'<li><a  onclick=\"openSkyBannerLink(\\\\\\'\\' + linkInfo + \\'\\\\\\', \\\\\\'\\' + banrId + \\'\\\\\\', \\\\\\'\\' + newWinYn + \\'\\\\\\', \\\\\\'\\' + banrLinkType + \\'\\\\\\', \\\\\\'\\' + linkMid + \\'\\\\\\');return false;\"><img src=\"http://img.mimacstudy.com\\' + imgPath + \\'/\\' + imgName + \\'\" style=\"cursor:pointer;\" /></a></li>\\';\\r\\n\\t\\t\\t\\t\\t\\t\\t\\t}\\r\\n\\t\\t\\t\\t\\t\\t\\t\\tid = banrId;\\r\\n\\t\\t\\t\\t\\t\\t\\t});\\r\\n\\t\\t\\t\\t\\t\\t\\thtmlCode += \\'</ul>\\';\\r\\n\\t\\t\\t\\t\\t\\t\\t$(\"#rightSkyBannerDiv\").append(htmlCode);\\r\\n\\t\\t\\t\\t\\t\\t\\tfor(var j=0;j<rid.length; j++){\\r\\n\\t//\\t\\t\\t\\t\\t\\t\\t$(\"#rolling_\"+rid[j]).jqxScrollView({ width: 115, height: hid[j], slideShow: true, moveThreshold: 1, buttonsOffset: [0, 100]});\\r\\n\\t\\t\\t\\t\\t            jssor_sliderb = new $JssorSlider$($(\"#scroll_\" + rid[j]), skyoptions);\\r\\n\\t\\t\\t\\t\\t\\t\\t}\\r\\n\\t\\t\\t\\t\\t\\t} else {\\r\\n\\t\\t\\t\\t\\t\\t\\talert(\"스카이 배너 정보를 가져오는데 실패하였습니다.\");\\r\\n\\t\\t\\t\\t\\t\\t}\\r\\n\\t\\t\\t\\t\\t}\\r\\n\\t\\t\\t\\t});*/\\r\\n\\r\\n\\t\\t\\t\\t// 혜택 받았으면 알럿\\r\\n\\t\\t\\t\\tvar memBenefitAlert = \"\";\\r\\n\\t\\tif(memBenefitAlert != \"\") alert(memBenefitAlert);\\r\\n\\r\\n\\t});\\r\\n\\r\\n\\tfunction menuMover(menuId){\\r\\n\\t     \\t\\tlocation.href=\"/common/getMenuContainer.ds?requestMenuId=\"+menuId;\\r\\n\\t  \\t}\\r\\n\\r\\n\\tfunction menuPopMover(menuId){\\r\\n\\t\\twinPopupOpen(\"/common/getMenuContainer.ds?requestMenuId=\"+menuId, null, null, menuId, \"scrollbars=1\");\\r\\n\\t}\\r\\n\\r\\n\\tfunction openSkyBannerLink(linkUrl, banrId, newWinYn,banrLinkType,mid) {\\r\\n\\t\\tvar data = {\\r\\n\\t\\t\\t  banrId : banrId\\r\\n\\t\\t\\t, mbrCoType : \\'M\\'\\r\\n\\t\\t};\\r\\n\\t\\t$.ajax({\\r\\n\\t\\t\\ttype : \"POST\" ,\\r\\n\\t\\t\\turl : \"/hi3/regBanrLog.ds\",\\r\\n\\t\\t\\tdata : data,\\r\\n\\t\\t\\tdataType : \"json\" ,\\r\\n\\t\\t\\tsuccess : function(data) {\\r\\n\\t\\t\\t\\tif(data.code == \"success\") {\\r\\n\\t\\t\\t\\t\\tif(banrLinkType == \"01\") {\\r\\n\\t\\t\\t\\t\\t\\tif(newWinYn == \"Y\") $(\"#skyForm\").attr(\"target\", \"_blank\"); //winPopupOpen(linkUrl, 695, 225, \"bannerLinkPopup\");\\r\\n\\t\\t\\t\\t\\t\\telse                $(\"#skyForm\").attr(\"target\", \"_self\"); //location.href = linkUrl;\\r\\n\\r\\n\\t\\t\\t\\t\\t\\t$(\"#skyForm\").attr(\"action\", linkUrl).submit();\\r\\n\\t  \\t\\t    \\t\\t} else if(banrLinkType == \"02\") {\\r\\n\\t  \\t\\t    \\t\\t\\twinPopupOpen(\"/common/aquaplayer/getAquaplayerOpenPop.ds?view=freeView&mode=02&mid=\"+mid, 807, 530, \"_playerPop\", \"resizable=yes\", \\'\\', \\'100\\');\\r\\n\\t  \\t\\t    \\t\\t} else if(banrLinkType == \"03\") {\\r\\n\\t  \\t\\t    \\t\\t\\talert(linkUrl);\\r\\n\\t  \\t\\t    \\t\\t}\\r\\n\\t\\t\\t\\t} else {\\r\\n\\t\\t\\t\\t\\talert(\"배너클릭 로그정보 저장에 실패하였습니다.\");\\r\\n\\t\\t\\t\\t}\\r\\n\\t\\t\\t}\\r\\n\\t\\t});\\r\\n\\t}\\r\\n</script>\\r\\n\\r\\n\\r\\n<meta http-equiv=\"Content-Type\" content=\"text/html; charset=euc-kr\" />\\r\\n<meta http-equiv=\"X-UA-Compatible\" content=\"IE=edge\" />\\r\\n<meta content=\"Digital 大成 관리자\" name=\"description\" />\\r\\n<meta content=\"Digital 大成 관리자\" name=\"keywords\" />\\r\\n<meta content=\"Digital 大成 관리자\" name=\"subject\" />\\r\\n\\r\\n<link rel=\"stylesheet\" href=\"http://img.mimacstudy.com/FRONT/css/daesung.css\"/>\\r\\n<link rel=\"stylesheet\" href=\"/css/jqwidgets/styles/jqx.base.css\"/>\\r\\n<link rel=\"stylesheet\" href=\"/css/jqwidgets/styles/jqx.arctic.css\" />\\r\\n\\r\\n\\r\\n<script type=\"text/javascript\" src=\"/js/jquery-1.11.1.min.js\"></script>\\r\\n<script type=\"text/javascript\" src=\"/js/html5shiv.js\"></script>\\r\\n<script type=\"text/javascript\" src=\"/js/common.js\"></script>\\r\\n<script type=\"text/javascript\" src=\"/js/page_util.js\"></script>\\r\\n<script type=\"text/javascript\" src=\"/js/jquery-syaku.rolling.js\"></script>\\r\\n<script type=\"text/javascript\" src=\"/js/jqwidgets/jqxcore.js\"></script>\\r\\n<script type=\"text/javascript\" src=\"/js/jqwidgets/jqxscrollview.js\"></script>\\r\\n<script type=\"text/javascript\" src=\"/js/aquaplayer/embedplayer_setting.js\"></script>\\r\\n\\r\\n<style type=\"text/css\">\\r\\n\\t/* jqxwidget 롤링배너 사용하기 위한 배너이미지 css */\\r\\n\\t.photo\\r\\n\\t{\\r\\n\\t    width: 880px;\\r\\n\\t    height: 250px;\\r\\n\\t    background-color: #000;\\r\\n\\t    background-position: center;\\r\\n\\t    background-repeat: no-repeat;\\r\\n\\t}\\r\\n</style>\\r\\n\\r\\n<script type=\"text/javascript\">\\r\\n$(document).ready(function() {\\r\\n\\t\\r\\n\\t\\t\\r\\n\\t\\t\\r\\n\\t\\tif(\"\" == \"home\") {\\r\\n\\t\\t\\t//선생님 학습Q&A 메인\\r\\n\\t\\t\\t$(\"#pageInPut\").load(\"/tcher/studyQna/getStudyQnaProcess.ds\"\\r\\n\\t\\t\\t\\t\\t,{tcd:\"531\",srchWordType:\"\",srchWordTxt:\"\",pdsType:\"\"\\r\\n\\t\\t\\t\\t\\t  , pid:\"\", ordType:\"\", myQna:\"N\", serverAddr:\"\"\\r\\n\\t\\t\\t\\t\\t  , banrDstin:\"\", loDstin:\"\", qnaStatus:\"\", questType:\"\"\\r\\n\\t\\t\\t\\t\\t  ,relm:\"03\", tcdTabType:\"tcdHome\", menuIdx:\"\", relmName:\"\", tcdName:\"\"\\r\\n\\t\\t\\t\\t\\t  ,currPage:\"1\"}\\r\\n\\t\\t\\t\\t\\t, function(responseTxt, statusTxt, xhr){\\r\\n\\t\\t\\t});\\r\\n\\t\\t} else if(\"\" == \"detail\") {\\r\\n\\t\\t\\t//선생님 학습Q&A 디테일\\r\\n\\t\\t\\t$(\"#pageInPut\").load(\"/tcher/studyQna/getStudyQnaDetailProcess.ds\"\\r\\n\\t\\t\\t\\t\\t,{tcd:\"531\",srchWordType:\"\",srchWordTxt:\"\",pdsType:\"\"\\r\\n\\t\\t\\t\\t\\t  , pid:\"\", ordType:\"\", myQna:\"N\", serverAddr:\"\"\\r\\n\\t\\t\\t\\t\\t  , banrDstin:\"\", loDstin:\"\", qnaStatus:\"\", questType:\"\"\\r\\n\\t\\t\\t\\t\\t  ,relm:\"03\", tcdTabType:\"tcdHome\", menuIdx:\"\", relmName:\"\", tcdName:\"\"\\r\\n\\t\\t\\t\\t\\t  ,bNo:\"\",currPage:\"1\",myQcurrPage:\"\"}\\r\\n\\t\\t\\t\\t\\t, function(responseTxt, statusTxt, xhr){\\r\\n\\t\\t\\t});\\r\\n\\t\\t} else if(\"\" == \"write\") {\\r\\n\\t\\t\\t//선생님 학습Q&A 글쓰기\\r\\n\\t\\t\\t$(\"#pageInPut\").load(\"/tcher/studyQna/regStudyQnaProcess.ds\"\\r\\n\\t\\t\\t\\t\\t,{tcd:\"531\", bNo:\"\", procType:\"\"\\r\\n\\t\\t\\t\\t\\t ,relm:\"03\", tcdTabType:\"tcdHome\", menuIdx:\"\", relmName:\"\", tcdName:\"\"}\\r\\n\\t\\t\\t\\t\\t, function(responseTxt, statusTxt, xhr){\\r\\n\\t\\t\\t});\\r\\n\\t\\t} else {\\r\\n\\t\\t\\t//타입을 안넘겼을 경우 선생님 메인\\r\\n\\t\\t\\t$(\"#pageInPut\").load(\"/tcher/studyQna/getStudyQnaProcess.ds\"\\r\\n\\t\\t\\t\\t\\t,{tcd:\"531\",srchWordType:\"\",srchWordTxt:\"\",pdsType:\"\"\\r\\n\\t\\t\\t\\t\\t  , pid:\"\", ordType:\"\", myQna:\"N\", serverAddr:\"\"\\r\\n\\t\\t\\t\\t\\t  , banrDstin:\"\", loDstin:\"\", qnaStatus:\"\", questType:\"\"\\r\\n\\t\\t\\t\\t\\t  ,relm:\"03\", tcdTabType:\"tcdHome\", menuIdx:\"\", relmName:\"\", tcdName:\"\"\\r\\n\\t\\t\\t\\t\\t  ,currPage:\"1\"}\\r\\n\\t\\t\\t\\t\\t, function(responseTxt, statusTxt, xhr){\\r\\n\\t\\t\\t});\\r\\n\\t\\t}\\r\\n});\\r\\n\\r\\n\\r\\n</script>\\r\\n\\r\\n</head>\\r\\n<body><!-- class는 공통 폴더명 -->\\r\\n  <div id=\"daesungwrap\">\\r\\n\\t<!-- S: Header -->\\r\\n   \\t<div class=\"skip_nav\">\\r\\n\\t\\t<a href=\"#maimacContent\">본문 내용 바로가기</a>\\r\\n\\t</div>\\r\\n   \\t<link rel=\"stylesheet\" type=\"text/css\" href=\"https://fonts.googleapis.com/css?family=Nanum+Gothic:400,700,800&amp;subset=korean\">\\r\\n\\t<script type=\"text/javascript\" src=\"/js/jquery.cookie.js\"></script>\\r\\n<script type=\"text/javascript\" src=\"/js/rolling_ltw.js\"></script>\\r\\n<script type=\"text/javascript\" src=\"/js/jquery.touchFlow.js\"></script>\\r\\n<script type=\"text/javascript\" src=\"/js/jquery.event.drag-1.5.1.min.js\"></script>\\r\\n<script type=\"text/javascript\" src=\"/js/kakao/kakao.min.js\"></script>\\r\\n<script type=\"text/javascript\">\\r\\n\\r\\n\\r\\n\\t$(document).ready(function(event) {\\r\\n\\t\\t/* 2017년 수능 D-day */\\r\\n\\r\\n\\t\\tvar dday = getDifDayNo(getYearMonthDay(), \"2020/11/18\");\\r\\n\\t\\tif(dday < 0) dday = \"0\";\\r\\n\\t\\t$(\"#examDday\").html(\"D-\"+dday); // 실제수능일 보다 하루 전날로 셋팅해야 함\\r\\n\\t\\t//$(\"#examDday2\").html(\"D-\"+dday); // 실제수능일 보다 하루 전날로 셋팅해야 함\\r\\n\\r\\n\\r\\n\\t\\t/* 추천검색어 만들기 */\\r\\n\\t\\tvar rcmdSrchwrdList\\t= $.parseJSON(\\'[{\"rcmdNo\":1185,\"rcmdSrchwrd\":\"4.2학평 채점예약\",\"urlInfo\":\"/ex/evt/2020/3pyungEvent0312/234873_scorefull.ds\",\"sortOrd\":1},{\"rcmdNo\":1186,\"rcmdSrchwrd\":\"수학기출 기획특강\",\"urlInfo\":\"/ex/prod/2020/mathRelay0309/512274_indexfull.ds\",\"sortOrd\":2}]\\');\\r\\n\\t\\tvar srchRows \\t\\t= [];\\r\\n\\t\\tvar srchHtml\\t\\t= \"\";\\r\\n\\r\\n\\t\\t$.each(rcmdSrchwrdList, function(i, data) {\\r\\n\\t\\t\\tsrchRows.push({\\r\\n\\t\\t\\t\\trcmdSrchwrd : data.rcmdSrchwrd,\\r\\n\\t\\t\\t\\turlInfo : data.urlInfo\\r\\n\\t\\t\\t});\\r\\n\\t\\t});\\r\\n\\r\\n\\t\\tif(rcmdSrchwrdList.length > 2) {\\r\\n\\t\\t\\t$.each(srchRows, function(i, data) {\\r\\n\\t\\t\\t\\tif(i > 0) {\\r\\n\\t\\t\\t\\t\\tsrchHtml = \\'<li><span><a href=\"\\' + srchRows[i-1].urlInfo + \\'\" >\\' + srchRows[i-1].rcmdSrchwrd+ \\'</a></span>\\';\\r\\n\\t\\t\\t\\t\\tsrchHtml += \\'<span><a href=\"\\' + srchRows[i].urlInfo + \\'\" >\\' + srchRows[i].rcmdSrchwrd+ \\'</a></span></li>\\';\\r\\n\\t\\t\\t\\t\\t$(\"#srchBannerScroll\").append(srchHtml);\\r\\n\\t\\t\\t\\t}\\r\\n\\t\\t\\t});\\r\\n\\t\\t}else {\\r\\n\\t\\t\\tsrchHtml = \\'<li>\\';\\r\\n\\t\\t\\t$.each(srchRows, function(i, data) {\\r\\n\\t\\t\\t\\tsrchHtml += \\'<span><a href=\"\\' + data.urlInfo + \\'\" target=\"_blank\">\\' + data.rcmdSrchwrd+ \\'</a></span>\\';\\r\\n\\t\\t\\t});\\r\\n\\t\\t\\tsrchHtml += \"</li>\";\\r\\n\\r\\n\\t\\t\\t$(\"#srchBannerScroll\").append(srchHtml);\\r\\n\\t\\t}\\r\\n\\t\\t/* 추천검색어 만들기 */\\r\\n\\r\\n\\t\\t/* 레프트 토글 메뉴 제어 */\\r\\n\\t\\tvar $_meminfo_quick = $(\\'.meminfo_quick\\'),\\r\\n\\t\\t\\theader_height = $(\\'.dsm_header\\').height();;\\r\\n\\r\\n\\t\\t$_meminfo_quick.on(\\'click\\',\\'.toggle_quick\\',function(){\\r\\n\\t\\t\\t$_meminfo_quick.toggleClass(\\'close\\');\\r\\n\\r\\n\\t\\t\\tif($_meminfo_quick.hasClass(\"close\")) setCookie(\\'login_app\\', \\'hidden\\', \\'1\\');\\r\\n\\t\\t\\telse setCookie(\\'login_app\\', \\'\\', \\'-1\\');\\r\\n\\t\\t});\\r\\n\\r\\n\\t\\t$(window).scroll(function(){\\r\\n\\t\\t\\tvar topValue = $(window).scrollTop();\\r\\n\\t\\t\\tif(topValue > header_height){\\r\\n\\t\\t\\t\\t$_meminfo_quick.addClass(\\'fix_top\\');\\r\\n\\t\\t\\t} else{\\r\\n\\t\\t\\t\\t$_meminfo_quick.removeClass(\\'fix_top\\');\\r\\n\\t\\t\\t}\\r\\n\\t\\t});\\r\\n\\r\\n\\t\\t/* 상단 스크립트 */\\r\\n\\t\\t$(\\'.top_issue_bn\\').moveScroll({\\r\\n\\t\\t\\tdelay : 3000, //setting 시간 셋팅\\r\\n\\t\\t\\tduration : 300, //애니메이션 시간 셋팅\\r\\n\\t\\t\\tis_dir_button : true, //방향버튼\\r\\n\\t\\t\\tprev_bt : \\'.top_bn_prev\\',// 이전 버튼 클래스명\\r\\n\\t\\t\\tnext_bt : \\'.top_bn_next\\',// 다음 버튼 클래스명\\r\\n\\t\\t\\tcurrent_number : \\'random\\'\\r\\n\\t\\t});\\r\\n\\r\\n\\t\\t$(\\'.keyword_link\\').moveScroll({\\r\\n\\t\\t\\tduration : 300, //애니메이션 시간 셋팅\\r\\n\\t\\t\\tis_dir_button : true, //방향버튼\\r\\n\\t\\t\\tprev_bt : \\'.top_bn_prev\\',// 이전 버튼 클래스명\\r\\n\\t\\t\\tnext_bt : \\'.top_bn_next\\',// 다음 버튼 클래스명\\r\\n\\t\\t});\\r\\n\\r\\n\\t\\t$(\\'.view_login\\').click(function(){\\r\\n\\r\\n\\t\\t\\t// sns로그인관련 - 로그인 페이지에서 버튼 아이디 충돌로인해 작동하지 않아서 변경해줌\\r\\n\\t\\t\\t$(\".snsNaverIdchkUp\").attr(\"id\", \"naverIdLogin_loginButton\");\\r\\n\\t\\t\\ttry{\\r\\n\\t\\t\\t\\t$(\".snsNaverIdchkDown\").attr(\"id\", \"naverIdLogin_loginButton2\");\\r\\n\\t\\t\\t} catch (e){\\r\\n\\r\\n\\t\\t\\t}\\r\\n\\t\\t\\t//naverLogin.init();\\r\\n\\r\\n\\t\\t\\t$(\\'.login_app\\').show();\\r\\n\\t\\t});\\r\\n\\r\\n\\t\\t$(\\'.login_app .close_login\\').click(function(){\\r\\n\\t\\t\\t$(\\'.login_app\\').hide();\\r\\n\\t\\t});\\r\\n\\r\\n\\t\\t$(\\'.gnb_month_exm .view_list\\').click(function(){\\r\\n\\t\\t\\t$(\\'.gnb_month_exm\\').toggleClass(\\'on\\')\\r\\n\\t\\t});\\r\\n\\r\\n\\t\\t$(\\'.gnb_more > a\\').click(function(){\\r\\n\\t\\t\\t$(\\'.gnb_more\\').toggleClass(\\'on\\');\\r\\n\\t\\t\\t$(\\'.gnb_academy\\').removeClass(\\'on\\');\\r\\n\\t\\t});\\r\\n\\t\\t$(\\'.gnb_academy > a\\').click(function(){\\r\\n\\t\\t\\t$(\\'.gnb_academy\\').toggleClass(\\'on\\');\\r\\n\\t\\t\\t$(\\'.gnb_more\\').removeClass(\\'on\\');\\r\\n\\t\\t});\\r\\n\\r\\n\\t\\t$(\\'.gnb_academy .close_btn > button\\').click(function(){\\r\\n\\t\\t\\t$(\\'.gnb_academy\\').removeClass(\\'on\\');\\r\\n\\t\\t});\\r\\n\\r\\n\\t\\t/* 로그인 */\\r\\n\\t\\t$(\"#upperloginBtn\").bind(\"click\", upperLoginAction);\\r\\n\\r\\n\\t\\t$(\"#upperloginpw\").bind(\"keypress\", function(event) {\\r\\n        \\tif (event.which == 13) {\\r\\n          \\t\\tupperLoginAction(event);\\r\\n        \\t}\\r\\n      \\t});\\r\\n\\r\\n      \\t$(\"#upperidsave\").bind(\"click\", function(event){\\r\\n      \\t\\t$(\"#upperrememberFlag\").val($(this).is(\":checked\") ? \"Y\" : \"N\");\\r\\n      \\t});\\r\\n\\r\\n      \\tif(!isNull($.cookie(\"mbrId\"))) {\\r\\n        \\t$(\"#upperloginid\").val($.cookie(\"mbrId\"));\\r\\n        \\t$(\"#upperidsave\").prop(\"checked\", true);\\r\\n      \\t\\t$(\"#upperrememberFlag\").val(\"Y\");\\r\\n      \\t}\\r\\n      \\t/* 로그인 */\\r\\n\\r\\n\\t\\t/* 관심선생님 설정 */\\r\\n\\t\\t$(\"#topTcdSetBtn\").click(function() {\\r\\n\\r\\n\\t\\t\\tvar userId = \"\";\\r\\n\\r\\n\\t\\t\\tif(userId == \"\") {\\r\\n\\t\\t\\t\\talert(\"관심선생님 설정은 로그인 한 상태에서 이용하실 수 있습니다.\");\\r\\n\\t\\t\\t\\tlocation.href = \"/mem/callLoginForm.ds?refUrl=\"+ document.URL.replace(/\\\\?/g, \"|@\").replace(/&/g, \"|\");\\r\\n\\t\\t\\t\\treturn;\\r\\n\\t\\t\\t}\\r\\n\\r\\n\\t\\t\\t$(\"#bookmarkGuideBlock\").show();\\r\\n\\t\\t\\t$(\"button[name=\\'topPlusBtn\\']\").show();\\r\\n\\t\\t\\t$(this).hide();\\r\\n\\t\\t\\t$(\"#topTcdSetSpan\").show();\\r\\n\\r\\n\\t\\t\\t$.ajax({\\r\\n\\t\\t\\t\\ttype : \"POST\" ,\\r\\n\\t\\t\\t\\turl : \"/common/topPage/interestTcdInfoByAjax.ds\",\\r\\n\\t\\t\\t\\tdata : \"type=interTcd\",\\r\\n\\t\\t\\t\\tdataType : \"json\" ,\\r\\n\\t\\t\\t\\tsuccess : function(data) {\\r\\n\\t\\t\\t\\t\\tif(data.code == \"success\") {\\r\\n\\t\\t\\t\\t\\t\\tinitTopProfileImg();\\r\\n\\r\\n\\t\\t\\t\\t\\t\\tvar htmlCode = \"\";\\r\\n\\t\\t\\t\\t\\t\\t$.each(data.data, function(i, data) {\\r\\n\\t\\t\\t\\t\\t\\t\\tvar tcd \\t\\t\\t= data.tcd;\\r\\n\\t\\t\\t\\t\\t\\t\\tvar subj\\t\\t\\t= data.subj == undefined ? \"\" : data.subj;\\r\\n\\t\\t\\t\\t\\t\\t\\tvar relm\\t\\t\\t= data.relm;\\r\\n\\t\\t\\t\\t\\t\\t\\tvar tcdName\\t= data.tcdName;\\r\\n\\t\\t\\t\\t\\t\\t\\tvar relmName\\t= data.relmName;\\r\\n\\r\\n\\t\\t\\t\\t\\t\\t\\tif(i < 8) { // 관심선생님은 최대 8개 까지\\r\\n\\t\\t\\t\\t\\t\\t\\t\\t$(\"#interestTcdArea li\").last().remove();\\r\\n\\r\\n\\t\\t\\t\\t\\t\\t\\t\\thtmlCode += \"<li class=\\'on\\' id=\\'topProfileLi\" + tcd + \"\\' tcd=\\'\" + tcd + \"\\'>\";\\r\\n\\t\\t\\t\\t\\t\\t\\t\\thtmlCode += \"<a href=\\'/tcher/eachTcherMain.ds?coType=M&relm=\" + relm + \"&subj=\" + subj + \"&tcd=\" + tcd + \"\\'>\";\\r\\n\\t\\t\\t\\t\\t\\t\\t\\thtmlCode += \"<img src=\\'http://img.mimacstudy.com/mimac_sh/images/tzone/\" + tcd + \"/\" + tcd + \"_0010.png\\' /></a>\";\\r\\n\\t\\t\\t\\t\\t\\t\\t\\thtmlCode += \"<div class=\\'tchinfo\\'><span>\" + relmName + \" \" + tcdName + \"</span>\";\\r\\n\\t\\t\\t\\t\\t\\t\\t\\thtmlCode += \"<button type=\\'button\\' name=\\'interestTcdDelBtn\\' onclick=\\'delTopProfileImg(this);\\' tcd=\\'\" + tcd + \"\\'><img src=\\'http://img.mimacstudy.com/FRONT/main/btn_close.png\\' /></button></div></li>\";\\r\\n\\r\\n\\r\\n\\t\\t\\t\\t\\t\\t\\t} else {\\r\\n\\t\\t\\t\\t\\t\\t\\t\\treturn false; // 반복문 빠져나오기\\r\\n\\t\\t\\t\\t\\t\\t\\t}\\r\\n\\t\\t\\t\\t\\t\\t});\\r\\n\\t\\t\\t\\t\\t\\t$(\"#interestTcdArea\").prepend(htmlCode);\\r\\n\\t\\t\\t\\t\\t} else {\\r\\n\\t\\t\\t\\t\\t\\talert(\"관심선생님 정보 가져오기에 실패하였습니다.\");\\r\\n\\t\\t\\t\\t\\t}\\r\\n\\t\\t\\t\\t}\\r\\n\\t\\t\\t});\\r\\n\\t\\t});\\r\\n\\t\\t/* 관심선생님 설정 */\\r\\n\\r\\n\\t\\t/* 빠른 강좌 찾기 */\\r\\n\\t\\t$(\\'.quick_find_lec\\').click(function(){\\r\\n\\t\\t\\t$(\\'#layerQuickLctrPop\\').show();\\r\\n\\t\\t});\\r\\n\\r\\n\\t\\tvar isInterestDataLoding = false;\\r\\n\\r\\n\\t\\t$(\"#topInterestTcdImg, #tcdLayerCloseBtn\").click(function(e) {\\r\\n\\t\\t\\tvar display = $(\"#layerInterestPop\").css(\"display\");\\r\\n\\r\\n\\t\\t\\tif(display == \"none\") {\\r\\n\\r\\n\\t\\t\\t\\tif(isInterestDataLoding == false) {\\r\\n\\t\\t\\t\\t\\t/* 관심선생님 레이어 팝업 만들기 */\\r\\n\\t\\t\\t\\t\\t$.ajax({\\r\\n\\t\\t\\t\\t\\t\\ttype : \"POST\" ,\\r\\n\\t\\t\\t\\t\\t\\turl : \"/common/topPage/interestTcdInfoByAjax.ds\",\\r\\n\\t\\t\\t\\t\\t\\tdata : \"type=init\",\\r\\n\\t\\t\\t\\t\\t\\tdataType : \"json\" ,\\r\\n\\t\\t\\t\\t\\t\\tsuccess : function(data) {\\r\\n\\t\\t\\t\\t\\t\\t\\tif(data.code == \"success\") {\\r\\n\\r\\n\\t\\t\\t\\t\\t\\t\\t\\t//isInterestDataLoding = true;\\r\\n\\t\\t\\t\\t\\t\\t\\t\\t$(\"#topRelm01,#topRelm02,#topRelm03,#topRelm0409,#topRelm0411,#topRelm0404,#topRelm0401,#topRelm0410,#topRelm0414,#topRelm0402,#topRelm0413,#topRelm0406,#topRelm0503,#topRelm0502\").empty();\\r\\n\\t\\t\\t\\t\\t\\t\\t\\t$(\"#topRelm0504,#topRelm0501,#topRelm0514,#topRelm10,#topRelm0701,#topRelm0702,#topRelm0703,#topRelm0704,#topRelm0705,#topRelm0706,#topRelm0707,#topRelm0607,#topRelm0609,#topRelm0605,#topRelm0603\").empty();\\r\\n\\r\\n\\r\\n\\t\\t\\t\\t\\t\\t\\t\\t$.each(data.data[0], function(i, data) {\\r\\n\\t\\t\\t\\t\\t\\t\\t\\t\\tvar remark\\t\\t= \"null\";\\r\\n\\t\\t\\t\\t\\t\\t\\t\\t\\tvar relm\\t\\t= \"null\";\\r\\n\\t\\t\\t\\t\\t\\t\\t\\t\\tvar subj\\t\\t= \"null\";\\r\\n\\t\\t\\t\\t\\t\\t\\t\\t\\tvar tcd\\t\\t\\t= \"null\";\\r\\n\\r\\n\\t\\t\\t\\t\\t\\t\\t\\t\\tif(data.remark!=null && data.remark!=\"\")\\r\\n\\t\\t\\t\\t\\t\\t\\t\\t\\t{\\r\\n\\t\\t\\t\\t\\t\\t\\t\\t\\t\\tremark\\t\\t= data.remark.split(\\'&\\');\\r\\n\\t\\t\\t\\t\\t\\t\\t\\t\\t\\trelm\\t\\t= remark[1].substr(5);\\r\\n\\t\\t\\t\\t\\t\\t\\t\\t\\t\\tsubj\\t\\t= remark[2] == undefined ? \"\" : remark[2].substr(5);\\r\\n\\t\\t\\t\\t\\t\\t\\t\\t\\t\\ttcd\\t\\t\\t= remark[0].substr(4);\\r\\n\\t\\t\\t\\t\\t\\t\\t\\t\\t}\\r\\n\\t\\t\\t\\t\\t\\t\\t\\t\\tvar relmName\\t= data.menuDesc;\\r\\n\\t\\t\\t\\t\\t\\t\\t\\t\\tvar tcdName\\t\\t= data.menuName; // 선생님 이름\\r\\n\\t\\t\\t\\t\\t\\t\\t\\t\\tvar newYn\\t\\t= data.newYn;\\r\\n\\t\\t\\t\\t\\t\\t\\t\\t\\tvar htmlCode\\t= \"<li>\";\\r\\n\\r\\n\\t\\t\\t\\t\\t\\t\\t\\t\\tif(newYn == \"Y\") htmlCode += \"<img src=\\'http://img.mimacstudy.com/FRONT/common/icon_new.png\\' class=\\'new\\' />\";\\r\\n\\r\\n\\t\\t\\t\\t\\t\\t\\t\\t\\thtmlCode += \"<a href=\\'/tcher/eachTcherMain.ds?coType=M&relm=\" + relm + \"&subj=\" + subj + \"&tcd=\" + tcd + \"&type=\" + relm + tcd + \"\\'>\" + tcdName + \"</a>\";\\r\\n\\t\\t\\t\\t\\t\\t\\t\\t\\thtmlCode += \"<button type=\\'button\\' name=\\'topPlusBtn\\' onclick=\\'addTopProfileImg(this);\\' style=\\'display:none;\\' relm=\\'\" + relm + \"\\' subj=\\'\" + subj + \"\\' tcd=\\'\" + tcd\\r\\n\\t\\t\\t\\t\\t\\t\\t\\t\\t\\t+ \"\\' relmName=\\'\" + relmName + \"\\' tcdName=\\'\" + tcdName + \"\\'>\";\\r\\n\\t\\t\\t\\t\\t\\t\\t\\t\\thtmlCode += \"<img src=\\'http://img.mimacstudy.com/FRONT/main/icon_splus.png\\' /></button></li>\";\\r\\n\\r\\n\\t\\t\\t\\t\\t\\t\\t\\t\\tif(relm == \"01\") {\\r\\n\\t\\t\\t\\t\\t\\t\\t\\t\\t\\t$(\"#topRelm01\").append(htmlCode);\\r\\n\\t\\t\\t\\t\\t\\t\\t\\t\\t} else if(relm == \"02\") {\\r\\n\\t\\t\\t\\t\\t\\t\\t\\t\\t\\t$(\"#topRelm02\").append(htmlCode);\\r\\n\\t\\t\\t\\t\\t\\t\\t\\t\\t} else if(relm == \"03\") {\\r\\n\\t\\t\\t\\t\\t\\t\\t\\t\\t\\t$(\"#topRelm03\").append(htmlCode);\\r\\n\\t\\t\\t\\t\\t\\t\\t\\t\\t} else if(relm == \"04\") {\\r\\n\\t\\t\\t\\t\\t\\t\\t\\t\\t\\tif(subj == \"0409\") {\\r\\n\\t\\t\\t\\t\\t\\t\\t\\t\\t\\t\\t$(\"#topRelm0409\").append(htmlCode);\\r\\n\\t\\t\\t\\t\\t\\t\\t\\t\\t\\t} else if(subj == \"0411\" || subj == \"0412\") {\\r\\n\\t\\t\\t\\t\\t\\t\\t\\t\\t\\t\\t$(\"#topRelm0411\").append(htmlCode);\\r\\n\\t\\t\\t\\t\\t\\t\\t\\t\\t\\t} else if(subj == \"0404\") {\\r\\n\\t\\t\\t\\t\\t\\t\\t\\t\\t\\t\\t$(\"#topRelm0404\").append(htmlCode);\\r\\n\\t\\t\\t\\t\\t\\t\\t\\t\\t\\t} else if(subj == \"0401\" || subj == \"0403\") {\\r\\n\\t\\t\\t\\t\\t\\t\\t\\t\\t\\t\\t$(\"#topRelm0401\").append(htmlCode);\\r\\n\\t\\t\\t\\t\\t\\t\\t\\t\\t\\t} else if(subj == \"0410\") {\\r\\n\\t\\t\\t\\t\\t\\t\\t\\t\\t\\t\\t$(\"#topRelm0410\").append(htmlCode);\\r\\n\\t\\t\\t\\t\\t\\t\\t\\t\\t\\t} else if(subj == \"0414\") {\\r\\n\\t\\t\\t\\t\\t\\t\\t\\t\\t\\t\\t$(\"#topRelm0414\").append(htmlCode);\\r\\n\\t\\t\\t\\t\\t\\t\\t\\t\\t\\t} else if(subj == \"0413\"){\\r\\n\\t\\t\\t\\t\\t\\t\\t\\t\\t\\t\\t$(\"#topRelm0413\").append(htmlCode);\\r\\n\\t\\t\\t\\t\\t\\t\\t\\t\\t\\t} else if(subj == \"0402\"){\\r\\n\\t\\t\\t\\t\\t\\t\\t\\t\\t\\t\\t$(\"#topRelm0402\").append(htmlCode);\\r\\n\\t\\t\\t\\t\\t\\t\\t\\t\\t\\t} else if(subj == \"0406\"){\\r\\n\\t\\t\\t\\t\\t\\t\\t\\t\\t\\t\\t$(\"#topRelm0406\").append(htmlCode);\\r\\n\\t\\t\\t\\t\\t\\t\\t\\t\\t\\t}\\r\\n\\t\\t\\t\\t\\t\\t\\t\\t\\t} else if(relm == \"05\") {\\r\\n\\t\\t\\t\\t\\t\\t\\t\\t\\t\\tif(subj == \"0503\" || subj == \"0507\" || subj == \"0512\") {\\r\\n\\t\\t\\t\\t\\t\\t\\t\\t\\t\\t\\t$(\"#topRelm0503\").append(htmlCode);\\r\\n\\t\\t\\t\\t\\t\\t\\t\\t\\t\\t} else if(subj == \"0502\" || subj == \"0506\" || subj == \"0511\") {\\r\\n\\t\\t\\t\\t\\t\\t\\t\\t\\t\\t\\t$(\"#topRelm0502\").append(htmlCode);\\r\\n\\t\\t\\t\\t\\t\\t\\t\\t\\t\\t} else if(subj == \"0504\" || subj == \"0508\" || subj == \"0513\") {\\r\\n\\t\\t\\t\\t\\t\\t\\t\\t\\t\\t\\t$(\"#topRelm0504\").append(htmlCode);\\r\\n\\t\\t\\t\\t\\t\\t\\t\\t\\t\\t} else if(subj == \"0501\" || subj == \"0505\" || subj == \"0510\") {\\r\\n\\t\\t\\t\\t\\t\\t\\t\\t\\t\\t\\t$(\"#topRelm0501\").append(htmlCode);\\r\\n\\t\\t\\t\\t\\t\\t\\t\\t\\t\\t} else if(subj == \"0514\") {\\r\\n\\t\\t\\t\\t\\t\\t\\t\\t\\t\\t\\t$(\"#topRelm0514\").append(htmlCode);\\r\\n\\t\\t\\t\\t\\t\\t\\t\\t\\t\\t}\\r\\n\\t\\t\\t\\t\\t\\t\\t\\t\\t} else if(relm == \"10\") {\\r\\n\\t\\t\\t\\t\\t\\t\\t\\t\\t\\t$(\"#topRelm10\").append(htmlCode);\\r\\n\\t\\t\\t\\t\\t\\t\\t\\t\\t} else if(relm == \"07\") {\\r\\n\\t\\t\\t\\t\\t\\t\\t\\t\\t\\tif(subj == \"0701\") {\\r\\n\\t\\t\\t\\t\\t\\t\\t\\t\\t\\t\\t$(\"#topRelm0701\").append(htmlCode);\\r\\n\\t\\t\\t\\t\\t\\t\\t\\t\\t\\t} else if(subj == \"0702\") {\\r\\n\\t\\t\\t\\t\\t\\t\\t\\t\\t\\t\\t$(\"#topRelm0702\").append(htmlCode);\\r\\n\\t\\t\\t\\t\\t\\t\\t\\t\\t\\t} else if(subj == \"0703\") {\\r\\n\\t\\t\\t\\t\\t\\t\\t\\t\\t\\t\\t$(\"#topRelm0703\").append(htmlCode);\\r\\n\\t\\t\\t\\t\\t\\t\\t\\t\\t\\t} else if(subj == \"0704\") {\\r\\n\\t\\t\\t\\t\\t\\t\\t\\t\\t\\t\\t$(\"#topRelm0704\").append(htmlCode);\\r\\n\\t\\t\\t\\t\\t\\t\\t\\t\\t\\t} else if(subj == \"0705\") {\\r\\n\\t\\t\\t\\t\\t\\t\\t\\t\\t\\t\\t$(\"#topRelm0705\").append(htmlCode);\\r\\n\\t\\t\\t\\t\\t\\t\\t\\t\\t\\t} else if(subj == \"0706\") {\\r\\n\\t\\t\\t\\t\\t\\t\\t\\t\\t\\t\\t$(\"#topRelm0706\").append(htmlCode);\\r\\n\\t\\t\\t\\t\\t\\t\\t\\t\\t\\t} else if(subj == \"0707\") {\\r\\n\\t\\t\\t\\t\\t\\t\\t\\t\\t\\t\\t$(\"#topRelm0707\").append(htmlCode);\\r\\n\\t\\t\\t\\t\\t\\t\\t\\t\\t\\t}\\r\\n\\t\\t\\t\\t\\t\\t\\t\\t\\t} else if(relm == \"06\") {\\r\\n\\t\\t\\t\\t\\t\\t\\t\\t\\t\\tif(subj == \"0607\") {\\r\\n\\t\\t\\t\\t\\t\\t\\t\\t\\t\\t\\t$(\"#topRelm0607\").append(htmlCode);\\r\\n\\t\\t\\t\\t\\t\\t\\t\\t\\t\\t} else if(subj == \"0609\") {\\r\\n\\t\\t\\t\\t\\t\\t\\t\\t\\t\\t\\t$(\"#topRelm0609\").append(htmlCode);\\r\\n\\t\\t\\t\\t\\t\\t\\t\\t\\t\\t} else if(subj == \"0605\") {\\r\\n\\t\\t\\t\\t\\t\\t\\t\\t\\t\\t\\t$(\"#topRelm0605\").append(htmlCode);\\r\\n\\t\\t\\t\\t\\t\\t\\t\\t\\t\\t} else if(subj == \"0603\") {\\r\\n\\t\\t\\t\\t\\t\\t\\t\\t\\t\\t\\t$(\"#topRelm0603\").append(htmlCode);\\r\\n\\t\\t\\t\\t\\t\\t\\t\\t\\t\\t}\\r\\n\\t\\t\\t\\t\\t\\t\\t\\t\\t}\\r\\n\\r\\n\\t\\t\\t\\t\\t\\t\\t\\t});\\r\\n\\r\\n\\t\\t\\t\\t\\t\\t\\t\\t//alert(\"gg4\");\\r\\n\\r\\n\\t\\t\\t\\t\\t\\t\\t\\tif(data.data[1] != undefined) {\\r\\n\\t\\t\\t\\t\\t\\t\\t\\t\\tinitTopProfileImg();\\r\\n\\t\\t\\t\\t\\t\\t\\t\\t\\tvar htmlCode = \"\";\\r\\n\\t\\t\\t\\t\\t\\t\\t\\t\\t$.each(data.data[1], function(i, data) {\\r\\n\\t\\t\\t\\t\\t\\t\\t\\t\\t\\tvar tcd \\t\\t\\t= data.tcd;\\r\\n\\t\\t\\t\\t\\t\\t\\t\\t\\t\\tvar subj\\t\\t\\t= data.subj == undefined ? \"\" : data.subj;\\r\\n\\t\\t\\t\\t\\t\\t\\t\\t\\t\\tvar relm\\t\\t\\t= data.relm;\\r\\n\\t\\t\\t\\t\\t\\t\\t\\t\\t\\tvar tcdName\\t= data.tcdName;\\r\\n\\t\\t\\t\\t\\t\\t\\t\\t\\t\\tvar relmName\\t= data.relmName;\\r\\n\\r\\n\\t\\t\\t\\t\\t\\t\\t\\t\\t\\tif(i < 8) { // 관심선생님은 최대 8개 까지\\r\\n\\t\\t\\t\\t\\t\\t\\t\\t\\t\\t\\t$(\"#interestTcdArea li\").last().remove();\\r\\n\\r\\n\\t\\t\\t\\t\\t\\t\\t\\t\\t\\t\\thtmlCode += \"<li class=\\'on\\' id=\\'topProfileLi\" + tcd + \"\\' style=\\'cursor:pointer;\\'>\";\\r\\n\\t\\t\\t\\t\\t\\t\\t\\t\\t\\t\\thtmlCode += \"<a href=\\'/tcher/eachTcherMain.ds?coType=M&relm=\" + relm + \"&subj=\" + subj + \"&tcd=\" + tcd + \"\\'>\";\\r\\n\\t\\t\\t\\t\\t\\t\\t\\t\\t\\t\\thtmlCode += \"<img src=\\'http://img.mimacstudy.com/mimac_sh/images/tzone/\" + tcd + \"/\" + tcd + \"_0010.png\\' />\";\\r\\n\\t\\t\\t\\t\\t\\t\\t\\t\\t\\t\\thtmlCode += \"<div class=\\'tchinfo\\'><span>\" + relmName + \" \" + tcdName + \"</span></div></a></li>\";\\r\\n\\r\\n\\r\\n\\t\\t\\t\\t\\t\\t\\t\\t\\t\\t} else {\\r\\n\\t\\t\\t\\t\\t\\t\\t\\t\\t\\t\\treturn false; // 반복문 빠져나오기\\r\\n\\t\\t\\t\\t\\t\\t\\t\\t\\t\\t}\\r\\n\\t\\t\\t\\t\\t\\t\\t\\t\\t});\\r\\n\\t\\t\\t\\t\\t\\t\\t\\t\\t$(\"#interestTcdArea\").prepend(htmlCode);\\r\\n\\t\\t\\t\\t\\t\\t\\t\\t}\\r\\n\\t\\t\\t\\t\\t\\t\\t} else {\\r\\n\\t\\t\\t\\t\\t\\t\\t\\talert(\"관심선생님 정보 가져오기에 실패하였습니다.\");\\r\\n\\t\\t\\t\\t\\t\\t\\t}\\r\\n\\t\\t\\t\\t\\t\\t}\\r\\n\\t\\t\\t\\t\\t});\\r\\n\\t\\t\\t\\t}\\r\\n\\r\\n\\t\\t\\t\\t$(\"#layerInterestPop\").show();\\r\\n\\t\\t\\t} else {\\r\\n\\t\\t\\t\\t$(\"#layerInterestPop\").hide();\\r\\n\\t\\t\\t\\t$(\"button[name=\\'interestTcdDelBtn\\']\").hide();\\r\\n\\t\\t\\t}\\r\\n\\r\\n\\t\\t\\te.preventDefault();\\r\\n\\r\\n\\t\\t\\t$(\"button[name=\\'topPlusBtn\\']\").hide();\\r\\n\\t\\t\\t$(\"#topTcdSetBtn\").show();\\r\\n\\t\\t\\t$(\"#topTcdSetSpan\").hide();\\r\\n\\t\\t\\t$(\"#bookmarkGuideBlock\").hide();\\r\\n\\t\\t});\\r\\n\\r\\n\\t\\t$(\"#tcdContentsCloseBtn\").click(function(e) {\\r\\n\\t\\t\\tvar display = $(\"#tcdContentsBottom\").css(\"display\");\\r\\n\\r\\n\\t\\t\\tif(display == \"none\") {\\r\\n\\t\\t\\t\\t$(\"#tcdContentsCloseBtn img\").prop(\"src\", \"http://img.mimacstudy.com/FRONT/main/btn_allsee_on.png\");\\r\\n\\t\\t\\t\\t$(\"#tcdContentsBottom\").show();\\r\\n\\t\\t\\t} else {\\r\\n\\t\\t\\t\\t$(\"#tcdContentsCloseBtn img\").prop(\"src\", \"http://img.mimacstudy.com/FRONT/main/btn_allsee_off.png\");\\r\\n\\t\\t\\t\\t$(\"#tcdContentsBottom\").hide();\\r\\n\\t\\t\\t}\\r\\n\\t\\t});\\r\\n\\r\\n\\t\\t$(\"#topTcdInitBtn, #topTcdSaveBtn\").click(function(e) {\\r\\n\\t\\t\\tvar btnId \\t= $(this).prop(\"id\");\\r\\n\\t\\t\\tvar tcds\\t= \"\";\\r\\n\\t\\t\\tvar data\\t= null;\\r\\n\\t\\t\\tvar type \\t= \"init\";\\r\\n\\r\\n\\t\\t\\tif(btnId == \"topTcdInitBtn\") {\\r\\n\\t\\t\\t\\tdata = {\\r\\n\\t\\t\\t\\t\\ttype : type,\\r\\n\\t\\t\\t\\t\\tmbrCoType : \"M\"\\r\\n\\t\\t\\t\\t};\\r\\n\\t\\t\\t} else {\\r\\n\\t\\t\\t\\t$.each($(\"#interestTcdArea li\"), function(i, data) {\\r\\n\\t\\t\\t\\t\\tif($(this).hasClass(\"on\")) tcds += $(this).attr(\"tcd\") + \",\";\\r\\n\\t\\t\\t\\t});\\r\\n\\t\\t\\t\\ttype = \"save\";\\r\\n\\t\\t\\t\\tdata = {\\r\\n\\t\\t\\t\\t\\ttype : type,\\r\\n\\t\\t\\t\\t\\ttcds : tcds,\\r\\n\\t\\t\\t\\t\\tmbrCoType : \"M\"\\r\\n\\t\\t\\t\\t};\\r\\n\\t\\t\\t}\\r\\n\\r\\n\\t\\t\\t$.ajax({\\r\\n\\t\\t\\t\\ttype : \"POST\" ,\\r\\n\\t\\t\\t\\turl : \"/common/topPage/interestTcdInfoModifyByAjax.ds\",\\r\\n\\t\\t\\t\\tdata : data,\\r\\n\\t\\t\\t\\tdataType : \"json\" ,\\r\\n\\t\\t\\t\\tsuccess : function(data) {\\r\\n\\t\\t\\t\\t\\tif(data.code == \"success\") {\\r\\n\\t\\t\\t\\t\\t\\t$(\"button[name=\\'interestTcdDelBtn\\']\").hide();\\r\\n\\t\\t\\t\\t\\t\\t$(\"button[name=\\'topPlusBtn\\']\").hide();\\r\\n\\t\\t\\t\\t\\t\\t$(\"#topTcdSetBtn\").show();\\r\\n\\t\\t\\t\\t\\t\\t$(\"#topTcdSetSpan\").hide();\\r\\n\\t\\t\\t\\t\\t\\t$(\"#bookmarkGuideBlock\").hide();\\r\\n\\r\\n\\t\\t\\t\\t\\t\\tif(type == \"init\") initTopProfileImg();\\r\\n\\r\\n\\t\\t\\t\\t\\t\\talert(\"관심선생님 변경에 성공하였습니다.\");\\r\\n\\t\\t\\t\\t\\t} else {\\r\\n\\t\\t\\t\\t\\t\\talert(\"관심선생님 변경에 실패하였습니다.\");\\r\\n\\t\\t\\t\\t\\t}\\r\\n\\t\\t\\t\\t}\\r\\n\\t\\t\\t});\\r\\n\\t\\t});\\r\\n\\r\\n\\t\\t$(\"li[name=\\'stepLi\\']\").click(function(e) {\\r\\n\\t\\t\\tvar dstin \\t\\t= $(this).attr(\"dstin\");\\r\\n\\t\\t\\tvar stepUlObj\\t= $(\"#topQuickSearchStepUl\");\\r\\n\\t\\t\\tvar data = {\\r\\n\\t\\t\\t\\ttype : \\'step\\',\\r\\n\\t\\t\\t\\tdstin : dstin\\r\\n\\t\\t\\t};\\r\\n\\r\\n\\t\\t\\t$(\"li[name=\\'stepLi\\']\").children().removeClass(\"on\");\\r\\n\\t\\t\\t$(this).children().addClass(\"on\");\\r\\n\\r\\n\\t\\t\\t$.ajax({\\r\\n\\t\\t\\t\\ttype : \"POST\" ,\\r\\n\\t\\t\\t\\turl : \"/common/topPage/getQuickLctrInfoByAjax.ds\",\\r\\n\\t\\t\\t\\tdata : data,\\r\\n\\t\\t\\t\\tdataType : \"json\" ,\\r\\n\\t\\t\\t\\tsuccess : function(data) {\\r\\n\\t\\t\\t\\t\\tif(data.code == \"success\") {\\r\\n\\t\\t\\t\\t\\t\\tstepUlObj.empty();\\r\\n\\t\\t\\t\\t\\t\\t$(\"#topQuickSearchRelmUl\").empty();\\r\\n\\t\\t\\t\\t\\t\\t$(\"#topQuickSearchTcdUl\").empty();\\r\\n\\t\\t\\t\\t\\t\\t$(\"#topQuickSearchSubjUl\").empty();\\r\\n\\r\\n\\t\\t\\t\\t\\t\\t$.each(data.data, function(i, data) {\\r\\n\\t\\t\\t\\t\\t\\t\\tvar dstin\\t\\t\\t= data.dstin;\\r\\n\\t\\t\\t\\t\\t\\t\\tvar lctrType\\t\\t= data.lctrType;\\r\\n\\t\\t\\t\\t\\t\\t\\tvar lctrTypeName\\t= data.lctrTypeName;\\r\\n\\t\\t\\t\\t\\t\\t\\tvar htmlCode\\t\\t= \\'<li><a onclick=\"setSearchRelm(\\\\\\'\\';\\r\\n\\r\\n\\t\\t\\t\\t\\t\\t\\thtmlCode += dstin + \\'\\\\\\', \\\\\\'\\' + lctrType + \\'\\\\\\', this);\" lctrType=\\' + lctrType + \\'>\\' + lctrTypeName + \\'</a></li>\\';\\r\\n\\r\\n\\t\\t\\t\\t\\t\\t\\tstepUlObj.append(htmlCode);\\r\\n\\t\\t\\t\\t\\t\\t});\\r\\n\\t\\t\\t\\t\\t} else {\\r\\n\\t\\t\\t\\t\\t\\talert(\"단계 정보를 가져오는데 실패하였습니다.\");\\r\\n\\t\\t\\t\\t\\t}\\r\\n\\t\\t\\t\\t}\\r\\n\\t\\t\\t});\\r\\n\\t\\t});\\r\\n\\t\\t/* 빠른 강좌 찾기 */\\r\\n\\r\\n\\t\\t/* 통합 검색 */\\r\\n\\t\\t$(\"#topSearchBtn\").click(function() {\\r\\n\\t\\t\\tvar txtVal \\t\\t= $.trim($(\"#srchTxt\").val());\\r\\n\\t\\t\\tvar srchwrd\\t= \"\";\\r\\n\\t\\t\\tvar urlInfo\\t\\t= \"\";\\r\\n\\r\\n\\t\\t\\tif(txtVal.length < 2) {\\r\\n\\t\\t\\t\\talert(\"검색어는 최소 2자 이상 입력해 주세요.\");\\r\\n\\t\\t\\t\\treturn;\\r\\n\\t\\t\\t}\\r\\n\\r\\n\\t\\t\\tif( !sanctionsStr( \\'\\', txtVal, \\'search\\') ) {\\r\\n\\t\\t\\t\\treturn;\\r\\n\\t\\t\\t}\\r\\n\\r\\n\\t\\t\\t$(\"#topSearchText\").val(txtVal);\\r\\n\\r\\n\\t\\t\\tif(txtVal == srchwrd) {\\r\\n\\t\\t\\t\\t$(\"#topPageForm\").attr(\"action\", \"\" + urlInfo).submit();\\r\\n\\t\\t\\t} else {\\r\\n\\t\\t\\t\\t$(\"#topPageForm #srchRmAddr\").val(\"183.96.115.160\");\\r\\n\\t\\t\\t\\t$(\"#topPageForm\").attr(\"action\", \"/search/unifiedSearch/resultMain.ds\").submit();\\r\\n\\t\\t\\t}\\r\\n\\t\\t});\\r\\n\\r\\n\\t\\t$(\"#srchTxt\").focus(function() {\\r\\n      \\t\\tvar dbTxt \\t= \"\";\\r\\n      \\t\\tvar txtVal\\t= $(this).val();\\r\\n\\r\\n      \\t\\tif(dbTxt == txtVal) $(this).val(\"\");\\r\\n\\t\\t});\\r\\n\\r\\n\\t\\t$(\"#srchTxt\").blur(function() {\\r\\n      \\t\\tvar dbTxt \\t= \"\";\\r\\n      \\t\\tvar txtVal\\t= $(this).val();\\r\\n\\r\\n      \\t\\tif(txtVal == \"\") $(this).val(dbTxt);\\r\\n\\t\\t});\\r\\n\\r\\n\\t\\t$(\"#srchTxt\").keyup(function(e) {\\r\\n      \\t\\tvar txtVal \\t= $.trim($(this).val());\\r\\n\\t\\t\\tvar keyCode\\t= e.keyCode;\\r\\n\\r\\n\\t\\t\\tif(keyCode == 13) {\\r\\n\\t\\t\\t\\tif(txtVal.length < 2) {\\r\\n\\t\\t\\t\\t\\talert(\"검색어는 최소 2자 이상 입력해 주세요.\"); return;\\r\\n\\t\\t\\t\\t}\\r\\n\\r\\n\\t\\t\\t\\tif( !sanctionsStr( \\'\\', txtVal, \\'search\\') ) {\\r\\n\\t\\t\\t\\t\\treturn;\\r\\n\\t\\t\\t\\t}\\r\\n\\r\\n\\t\\t\\t\\t$(\"#topSearchText\").val(txtVal);\\r\\n\\t\\t\\t\\t$(\"#topPageForm #srchRmAddr\").val(\"183.96.115.160\");\\r\\n\\t\\t\\t\\t$(\"#topPageForm\").attr(\"action\", \"/search/unifiedSearch/resultMain.ds\").submit();\\r\\n\\t\\t\\t}\\r\\n\\t\\t});\\r\\n\\t\\t/* 통합 검색 */\\r\\n\\r\\n\\t\\t// sns로그인관련 - 카카오 관련\\r\\n\\t\\t$(\"#kakaoIdLogin\").click(function() {\\r\\n\\t\\t\\tKakao.init(\"d63f7d48070bef1b0ed755f2119dac95\");\\r\\n\\t\\t\\tKakao.Auth.login({\\r\\n\\t\\t\\t\\tpersistAccessToken : true,\\r\\n\\t\\t\\t\\tpersistRefreshToken : true,\\r\\n\\t\\t\\t\\tsuccess : function(authObj) {\\r\\n\\t\\t\\t\\t\\tgetKakaotalkUserProfile();\\r\\n\\t\\t\\t\\t\\t//createKakaotalkLogout();\\r\\n\\t\\t\\t\\t},\\r\\n\\t\\t\\t\\tfail : function(err) {\\r\\n\\t\\t\\t\\t\\tconsole.log(err);\\r\\n\\t\\t\\t\\t}\\r\\n\\t\\t\\t});\\r\\n\\t\\t});\\r\\n\\t});\\r\\n\\t// sns로그인관련 - 카카오 로그인 정보\\r\\n\\tfunction getKakaotalkUserProfile() {\\r\\n\\t\\tKakao.API.request({\\r\\n\\t\\t\\turl : \\'/v2/user/me\\',\\r\\n\\t\\t\\tsuccess : function(res) {\\r\\n\\t\\t\\t\\t//$(\"#kakao-data-output\").append(\"==카카오톡==\");\\r\\n\\t\\t\\t\\t//$(\"#kakao-data-output\").append(\"all : \" + JSON.stringify(res)+\"</br>\");\\r\\n\\t\\t\\t\\t//$(\"#kakao-data-output\").append(\"email : \"+res.kaccount_email+\"</br>\");\\r\\n\\t\\t\\t\\t//$(\"#kakao-data-output\").append(\"email 인증여부 : \"+res.kaccount_email_verified+\"</br>\");\\r\\n\\t\\t\\t\\t//$(\"#kakao-data-output\").append(\"id : \"+res.id+\"</br>\");\\r\\n\\t\\t\\t\\t//$(\"#kakao-data-output\").append(\"nickname : \"+res.properties.nickname+\"</br>\");\\r\\n\\t\\t\\t\\t//$(\"#kakao-data-output\").append(\"===========\");\\r\\n\\r\\n\\t\\t\\t\\t$(location).attr(\"href\",\"http://www.mimacstudy.com/mem/callKakaoForm.ds\");\\r\\n\\t\\t\\t\\t//$(location).attr(\"href\",\"http://local.mimacstudy.com:8080/ex/test/snsJoinKakaoRequestfull.ds\");\\r\\n\\t\\t\\t},\\r\\n\\t\\t\\tfail : function(error) {\\r\\n\\t\\t\\t\\tconsole.log(error);\\r\\n\\t\\t\\t}\\r\\n\\t\\t});\\r\\n\\t}\\r\\n\\r\\n\\t/* 빠른 강좌 찾기_단계 검색 */\\r\\n\\tfunction setSearchRelm(dstin, lctrType, targetObj) {\\r\\n\\t\\tvar relmUlObj\\t= $(\"#topQuickSearchRelmUl\");\\r\\n\\t\\tvar data = {\\r\\n\\t\\t\\ttype : \\'relm\\',\\r\\n\\t\\t\\tdstin : dstin,\\r\\n\\t\\t\\tlctrType : lctrType\\r\\n\\t\\t};\\r\\n\\r\\n\\t\\t$(\"#topQuickSearchStepUl li\").children().removeClass(\"on\");\\r\\n\\t\\t$(targetObj).addClass(\"on\");\\r\\n\\r\\n\\t\\t$.ajax({\\r\\n\\t\\t\\ttype : \"POST\" ,\\r\\n\\t\\t\\turl : \"/common/topPage/getQuickLctrInfoByAjax.ds\",\\r\\n\\t\\t\\tdata : data,\\r\\n\\t\\t\\tdataType : \"json\" ,\\r\\n\\t\\t\\tsuccess : function(data) {\\r\\n\\t\\t\\t\\tif(data.code == \"success\") {\\r\\n\\t\\t\\t\\t\\trelmUlObj.empty();\\r\\n\\t\\t\\t\\t\\t$(\"#topQuickSearchTcdUl\").empty();\\r\\n\\t\\t\\t\\t\\t$(\"#topQuickSearchSubjUl\").empty();\\r\\n\\r\\n\\t\\t\\t\\t\\t$.each(data.data, function(i, data) {\\r\\n\\t\\t\\t\\t\\t\\tvar relm\\t\\t\\t= data.relm;\\r\\n\\t\\t\\t\\t\\t\\tvar dstin\\t\\t= data.dstin;\\r\\n\\t\\t\\t\\t\\t\\tvar lctrType\\t= data.lctrType;\\r\\n\\t\\t\\t\\t\\t\\tvar relmName\\t= data.relmName;\\r\\n\\t\\t\\t\\t\\t\\tvar htmlCode = \\'<li><a onclick=\"setSearchTcd(\\\\\\'\\';\\r\\n\\r\\n\\t\\t\\t\\t\\t\\thtmlCode += relm + \\'\\\\\\', \\\\\\'\\' + dstin + \\'\\\\\\', \\\\\\'\\' + lctrType + \\'\\\\\\', this);\" relm=\\' + relm + \\'>\\' + relmName + \\'</a></li>\\';\\r\\n\\r\\n\\t\\t\\t\\t\\t\\trelmUlObj.append(htmlCode);\\r\\n\\t\\t\\t\\t\\t});\\r\\n\\t\\t\\t\\t} else {\\r\\n\\t\\t\\t\\t\\talert(\"영역 정보를 가져오는데 실패하였습니다.\");\\r\\n\\t\\t\\t\\t}\\r\\n\\t\\t\\t}\\r\\n\\t\\t});\\r\\n\\t}\\r\\n\\r\\n\\t/* 빠른 강좌 찾기_영역 검색 */\\r\\n\\tfunction setSearchTcd(relm, dstin, lctrType, targetObj) {\\r\\n\\t\\tvar tcdUlObj = $(\"#topQuickSearchTcdUl\");\\r\\n\\t\\tvar data = {\\r\\n\\t\\t\\ttype : \\'tcd\\',\\r\\n\\t\\t\\trelm : relm,\\r\\n\\t\\t\\tdstin : dstin,\\r\\n\\t\\t\\tlctrType : lctrType\\r\\n\\t\\t};\\r\\n\\r\\n\\t\\t$(\"#topQuickSearchRelmUl li\").children().removeClass(\"on\");\\r\\n\\t\\t$(targetObj).addClass(\"on\");\\r\\n\\r\\n\\t\\t$.ajax({\\r\\n\\t\\t\\ttype : \"POST\" ,\\r\\n\\t\\t\\turl : \"/common/topPage/getQuickLctrInfoByAjax.ds\",\\r\\n\\t\\t\\tdata : data,\\r\\n\\t\\t\\tdataType : \"json\" ,\\r\\n\\t\\t\\tsuccess : function(data) {\\r\\n\\t\\t\\t\\tif(data.code == \"success\") {\\r\\n\\t\\t\\t\\t\\ttcdUlObj.empty();\\r\\n\\t\\t\\t\\t\\t$(\"#topQuickSearchSubjUl\").empty();\\r\\n\\r\\n\\t\\t\\t\\t\\t$.each(data.data, function(i, data) {\\r\\n\\t\\t\\t\\t\\t\\tvar relm\\t\\t\\t= data.relm;\\r\\n\\t\\t\\t\\t\\t\\tvar dstin\\t\\t= data.dstin;\\r\\n\\t\\t\\t\\t\\t\\tvar lctrType\\t= data.lctrType;\\r\\n\\t\\t\\t\\t\\t\\tvar tcd\\t\\t\\t= data.tcd;\\r\\n\\t\\t\\t\\t\\t\\tvar tchrName\\t= data.tchrName;\\r\\n\\t\\t\\t\\t\\t\\tvar htmlCode = \\'<li><a onclick=\"setSearchSubj(\\\\\\'\\';\\r\\n\\r\\n\\t\\t\\t\\t\\t\\thtmlCode += relm + \\'\\\\\\', \\\\\\'\\' + tcd + \\'\\\\\\', \\\\\\'\\' + dstin + \\'\\\\\\', \\\\\\'\\' + lctrType +  \\'\\\\\\', this);\" tcd=\\' + tcd + \\'>\\' + tchrName + \\'</a></li>\\';\\r\\n\\r\\n\\t\\t\\t\\t\\t\\ttcdUlObj.append(htmlCode);\\r\\n\\t\\t\\t\\t\\t});\\r\\n\\t\\t\\t\\t} else {\\r\\n\\t\\t\\t\\t\\talert(\"선생님 정보를 가져오는데 실패하였습니다.\");\\r\\n\\t\\t\\t\\t}\\r\\n\\t\\t\\t}\\r\\n\\t\\t});\\r\\n\\t}\\r\\n\\r\\n\\t/* 빠른 강좌 찾기_선생님 검색 */\\r\\n\\tfunction setSearchSubj(relm, tcd, dstin, lctrType, targetObj) {\\r\\n\\t\\tvar subjUlObj = $(\"#topQuickSearchSubjUl\");\\r\\n\\t\\tvar data = {\\r\\n\\t\\t\\ttype : \\'subj\\',\\r\\n\\t\\t\\trelm : relm,\\r\\n\\t\\t\\ttcd : tcd,\\r\\n\\t\\t\\tdstin : dstin,\\r\\n\\t\\t\\tlctrType : lctrType\\r\\n\\t\\t};\\r\\n\\r\\n\\t\\t$(\"#topQuickSearchTcdUl li\").children().removeClass(\"on\");\\r\\n\\t\\t$(targetObj).addClass(\"on\");\\r\\n\\r\\n\\t\\t$.ajax({\\r\\n\\t\\t\\ttype : \"POST\" ,\\r\\n\\t\\t\\turl : \"/common/topPage/getQuickLctrInfoByAjax.ds\",\\r\\n\\t\\t\\tdata : data,\\r\\n\\t\\t\\tdataType : \"json\" ,\\r\\n\\t\\t\\tsuccess : function(data) {\\r\\n\\t\\t\\t\\tif(data.code == \"success\") {\\r\\n\\t\\t\\t\\t\\tsubjUlObj.empty();\\r\\n\\r\\n\\t\\t\\t\\t\\t$.each(data.data, function(i, data) {\\r\\n\\t\\t\\t\\t\\t\\tvar relm\\t\\t\\t= data.relm;\\r\\n\\t\\t\\t\\t\\t\\tvar subj\\t\\t\\t= data.subj;\\r\\n\\t\\t\\t\\t\\t\\tvar dstin\\t\\t= data.dstin;\\r\\n\\t\\t\\t\\t\\t\\tvar lctrType\\t= data.lctrType;\\r\\n\\t\\t\\t\\t\\t\\tvar tcd\\t\\t\\t= data.tcd;\\r\\n\\t\\t\\t\\t\\t\\tvar subjName\\t= data.subjName;\\r\\n\\t\\t\\t\\t\\t\\tvar htmlCode = \\'<li><a onclick=\"setSearchProd(\\\\\\'\\';\\r\\n\\r\\n\\t\\t\\t\\t\\t\\thtmlCode += relm + \\'\\\\\\', \\\\\\'\\' + subj + \\'\\\\\\', \\\\\\'\\' + tcd + \\'\\\\\\', \\\\\\'\\' + dstin + \\'\\\\\\', \\\\\\'\\' + lctrType +  \\'\\\\\\', this);\" subj=\\' + subj + \\'>\\' + subjName + \\'</a></li>\\';\\r\\n\\r\\n\\t\\t\\t\\t\\t\\tsubjUlObj.append(htmlCode);\\r\\n\\t\\t\\t\\t\\t});\\r\\n\\t\\t\\t\\t} else {\\r\\n\\t\\t\\t\\t\\talert(\"과목 정보를 가져오는데 실패하였습니다.\");\\r\\n\\t\\t\\t\\t}\\r\\n\\t\\t\\t}\\r\\n\\t\\t});\\r\\n\\t}\\r\\n\\r\\n\\t/* 빠른 강좌 찾기_과목 검색 */\\r\\n\\tfunction setSearchProd(relm, subj, tcd, dstin, lctrType, targetObj) {\\r\\n\\t\\tvar prodUlObj = $(\"#topQuickSearchTargetUl\");\\r\\n\\t\\tvar target\\t\\t= $(\":radio[name=\\'topQuickSearchTargetRadio\\']:checked\").val();\\r\\n\\r\\n\\t\\tprodUlObj.empty();\\t// 강좌부분 초기화\\r\\n\\r\\n\\t\\tvar data = {\\r\\n\\t\\t\\ttype : \\'prod\\',\\r\\n\\t\\t\\trelm : relm,\\r\\n\\t\\t\\tsubj : subj,\\r\\n\\t\\t\\ttcd : tcd,\\r\\n\\t\\t\\tdstin : dstin,\\r\\n\\t\\t\\tlctrType : lctrType,\\r\\n\\t\\t\\ttarget : target\\r\\n\\t\\t};\\r\\n\\r\\n\\t\\t$(\"#topQuickSearchSubjUl li\").children().removeClass(\"on\");\\r\\n\\t\\t$(targetObj).addClass(\"on\");\\r\\n\\r\\n\\t\\t$.ajax({\\r\\n\\t\\t\\ttype : \"POST\" ,\\r\\n\\t\\t\\turl : \"/common/topPage/getQuickLctrInfoByAjax.ds\",\\r\\n\\t\\t\\tdata : data,\\r\\n\\t\\t\\tdataType : \"json\" ,\\r\\n\\t\\t\\tsuccess : function(data) {\\r\\n\\t\\t\\t\\tif(data.code == \"success\") {\\r\\n\\t\\t\\t\\t\\t\\t//prodUlObj.empty();\\r\\n\\t\\t\\t\\t\\tmakeTopQuickLctrProd(data.data);\\r\\n\\t\\t\\t\\t} else {\\r\\n\\t\\t\\t\\t\\talert(\"상품 정보를 가져오는데 실패하였습니다.\");\\r\\n\\t\\t\\t\\t}\\r\\n\\t\\t\\t}\\r\\n\\t\\t});\\r\\n\\t}\\r\\n\\r\\n\\t/* 빠른 강좌 찾기_강좌 목록 만들기 */\\r\\n\\tfunction makeTopQuickLctrProd(data) {\\r\\n\\t\\tvar prodUlObj = $(\"#topQuickSearchTargetUl\");\\r\\n\\r\\n\\t\\t$.each(data, function(i, data) {\\r\\n\\t\\t\\tvar prodDstin \\t\\t\\t= data.prodDstin;\\r\\n\\t\\t\\tvar prodName \\t\\t\\t= data.prodName;\\r\\n\\t\\t\\tvar tchrName\\t\\t\\t\\t= data.tchrName;\\r\\n\\t\\t\\tvar totLctrCnt\\t\\t\\t\\t= data.totLctrCnt;\\r\\n\\t\\t\\tvar salePrice\\t\\t\\t\\t= data.salePrice;\\r\\n\\t\\t\\tvar lctrPerd\\t\\t\\t\\t= data.lctrPerd;\\r\\n\\t\\t\\tvar textbookSalePrice\\t= data.textbookSalePrice;\\r\\n\\t\\t\\tvar lctrPerd\\t\\t\\t\\t= data.lctrPerd;\\r\\n\\t\\t\\tvar relm\\t\\t\\t\\t\\t\\t= data.relm;\\r\\n\\t\\t\\tvar subj\\t\\t\\t\\t\\t\\t= data.subj == undefined ? \"\" : data.subj;\\r\\n\\t\\t\\tvar tcd \\t\\t\\t\\t\\t\\t= data.tcd;\\r\\n\\t\\t\\tvar pid \\t\\t\\t\\t\\t\\t= data.pid;\\r\\n\\t\\t\\tvar htmlCode = \\'<li class=\"ellipsis\"><strong><a href=\"/tcher/lctr/lctrDetail.ds?coType=M&relm=\\' + relm + \\'&subj=\\' + subj;\\r\\n\\r\\n\\t\\t\\thtmlCode += \\'&tcd=\\' + tcd + \\'&pid=\\' + pid + \\'\">\\' + prodName + \\'</a><strong><div class=\"info\">\\' + tchrName + \\'선생님\\';\\r\\n\\t\\t\\thtmlCode += \\'<span>l</span>수강료 : <strong>\\' + formatNumber(salePrice) + \\'</strong> 원 (\\' + lctrPerd + \\'일)\\';\\r\\n\\t\\t\\thtmlCode += \\'<span>l</span>\\' + totLctrCnt + \\' 강<span>l</span>교재 : \\' + formatNumber(textbookSalePrice) + \\'원</div></li>\\';\\r\\n\\r\\n\\t\\t\\tprodUlObj.append(htmlCode);\\r\\n\\t\\t});\\r\\n\\t}\\r\\n\\r\\n\\t/* 빠른 강좌 찾기_강좌 검색 버튼 */\\r\\n\\tfunction searchTopLctrProd() {\\r\\n\\t\\tvar prodUlObj = $(\"#topQuickSearchTargetUl\");\\r\\n\\r\\n\\t\\tvar relm\\t\\t\\t= $(\"#topQuickSearchRelmUl li a[class=\\'on\\']\").attr(\"relm\");\\r\\n\\t\\tvar subj\\t\\t\\t= $(\"#topQuickSearchSubjUl li a[class=\\'on\\']\").attr(\"subj\");\\r\\n\\t\\tvar tcd\\t\\t\\t= $(\"#topQuickSearchTcdUl li a[class=\\'on\\']\").attr(\"tcd\");\\r\\n\\t\\tvar dstin\\t\\t= $(\"#topQuickSearchTypeUl li a[class=\\'on\\']\").attr(\"dstin\");\\r\\n\\t\\tvar lctrType\\t= $(\"#topQuickSearchStepUl li a[class=\\'on\\']\").attr(\"lctrtype\");\\r\\n\\t\\tvar target\\t\\t= $(\":radio[name=\\'topQuickSearchTargetRadio\\']:checked\").val();\\r\\n\\r\\n\\t\\tif(dstin == undefined) {\\r\\n\\t\\t\\talert(\"유형을 선택해 주세요\"); return;\\r\\n\\t\\t}\\r\\n\\r\\n\\t\\tprodUlObj.empty();\\t// 강좌부분 초기화\\r\\n\\r\\n\\t\\tvar data = {\\r\\n\\t\\t\\ttype : \\'prod\\',\\r\\n\\t\\t\\trelm : relm,\\r\\n\\t\\t\\tsubj : subj,\\r\\n\\t\\t\\ttcd : tcd,\\r\\n\\t\\t\\tdstin : dstin,\\r\\n\\t\\t\\tlctrType : lctrType,\\r\\n\\t\\t\\ttarget : target\\r\\n\\t\\t};\\r\\n\\r\\n\\t\\t$.ajax({\\r\\n\\t\\t\\ttype : \"POST\" ,\\r\\n\\t\\t\\turl : \"/common/topPage/getQuickLctrInfoByAjax.ds\",\\r\\n\\t\\t\\tdata : data,\\r\\n\\t\\t\\tdataType : \"json\" ,\\r\\n\\t\\t\\tsuccess : function(data) {\\r\\n\\t\\t\\t\\tif(data.code == \"success\") {\\r\\n\\t\\t\\t\\t\\t\\t//prodUlObj.empty();\\r\\n\\t\\t\\t\\t\\tmakeTopQuickLctrProd(data.data);\\r\\n\\t\\t\\t\\t} else {\\r\\n\\t\\t\\t\\t\\talert(\"상품 정보를 가져오는데 실패하였습니다.\");\\r\\n\\t\\t\\t\\t}\\r\\n\\t\\t\\t}\\r\\n\\t\\t});\\r\\n\\t}\\r\\n\\r\\n\\t/* 빠른 강좌 찾기_초기화 */\\r\\n\\tfunction initQuickProdContent() {\\r\\n\\t\\t$(\"#topQuickSearchStepUl\").empty();\\r\\n\\t\\t$(\"#topQuickSearchRelmUl\").empty();\\r\\n\\t\\t$(\"#topQuickSearchTcdUl\").empty();\\r\\n\\t\\t$(\"#topQuickSearchSubjUl\").empty();\\r\\n\\t\\t$(\"#topQuickSearchTargetUl\").empty();\\r\\n\\r\\n\\t\\t$(\"#topQuickSearchTypeUl li\").children().removeClass(\"on\");\\r\\n\\t\\t$(\":radio[name=topQuickSearchTargetRadio]\").first().prop(\"checked\", \"checked\");\\r\\n\\t}\\r\\n\\r\\n\\t/* 배너 로그 */\\r\\n\\tfunction setBanrLogTop(banrId,banrLinkType,mid,url,target) {\\r\\n   \\t\\t$.ajax({\\r\\n   \\t\\t    type : \"POST\",\\r\\n   \\t\\t    async: false,\\r\\n   \\t\\t    dataType : \"json\",\\r\\n   \\t\\t    data : {banrId : banrId,\\r\\n   \\t\\t    \\t\\tmbrId : \"\",\\r\\n   \\t\\t    \\t\\tmbrCoType : \"\",\\r\\n   \\t\\t    \\t  },\\r\\n   \\t\\t    url : \"/main/setBanrLog.ds\",\\r\\n   \\t\\t    success : function(data){\\r\\n   \\t\\t    \\tif(data.code == \"success\") {\\r\\n   \\t\\t    \\t\\t//01 : 이미지링크타입, 02: 동영상 링크, 03: 알럿\\r\\n   \\t\\t    \\t\\tif(banrLinkType == \"01\") {\\r\\n   \\t\\t    \\t\\t\\t//alert(url);\\r\\n   \\t\\t    \\t\\t\\t//goPageFunc(url,target);\\r\\n   \\t\\t    \\t\\t\\twindow.open(url,target)\\r\\n   \\t\\t    \\t\\t} else if(banrLinkType == \"02\") {\\r\\n   \\t\\t    \\t\\t\\twinPopupOpen(\"/common/aquaplayer/getAquaplayerOpenPop.ds?view=freeView&mode=02&mid=\"+mid, 807, 530, \"_playerPop\", \"resizable=yes\", \\'\\', \\'100\\');\\r\\n   \\t\\t    \\t\\t} else if(banrLinkType == \"03\") {\\r\\n   \\t\\t    \\t\\t\\talert(url);\\r\\n   \\t\\t    \\t\\t}\\r\\n   \\t\\t    \\t}\\r\\n   \\t\\t    }\\r\\n   \\t\\t});\\r\\n   \\t}\\r\\n\\r\\n\\t/* 관심 선생님 설정 */\\r\\n\\tfunction initTopProfileImg() {\\r\\n\\t\\tvar interestTcdAreaObj = $(\"#interestTcdArea\");\\r\\n\\r\\n\\t\\tinterestTcdAreaObj.empty();\\r\\n\\r\\n\\t\\tfor (var i = 0; i < 8; i++) {\\r\\n\\t\\t\\tinterestTcdAreaObj.append(\"<li><img src=\\'http://img.mimacstudy.com/FRONT/main/img_tch_default.png\\' /></li>\");\\r\\n\\t\\t}\\r\\n\\t}\\r\\n\\r\\n\\tfunction addTopProfileImg(obj) {\\r\\n\\t\\tvar tcdObj \\t\\t\\t= $(obj);\\r\\n\\t\\tvar relm\\t\\t\\t\\t= tcdObj.attr(\"relm\");\\r\\n\\t\\tvar subj\\t\\t\\t\\t= tcdObj.attr(\"subj\");\\r\\n\\t\\tvar tcd\\t\\t\\t\\t= tcdObj.attr(\"tcd\");\\r\\n\\t\\tvar relmName\\t\\t= tcdObj.attr(\"relmName\");\\r\\n\\t\\tvar tcdName\\t\\t= tcdObj.attr(\"tcdName\");\\r\\n\\t\\tvar insertIndex\\t= $(\"#interestTcdArea li[class=\\'on\\']\").length;\\r\\n\\t\\tvar isDuplicate\\t= false;\\r\\n\\t\\tvar htmlCode\\t\\t= \"<li class=\\'on\\' id=\\'topProfileLi\" + tcd + \"\\' tcd=\\'\" + tcd + \"\\'>\";\\r\\n\\r\\n\\t\\tif(insertIndex > 7) {\\r\\n\\t\\t\\talert(\"관심선생님 은 최대 8명까지만 설정 가능합니다.\"); return;\\r\\n\\t\\t}\\r\\n\\r\\n\\t\\t$.each($(\"#interestTcdArea li\"), function(i, data) {\\r\\n\\t\\t\\tif($(this).hasClass(\"on\") && tcd == $(this).attr(\"tcd\")){\\r\\n\\t\\t\\t\\tisDuplicate = true;\\r\\n\\t\\t\\t}\\r\\n\\t\\t});\\r\\n\\r\\n\\t\\tif(isDuplicate) {\\r\\n\\t\\t\\talert(\"이미 관심선생님으로 등록한 선생님 입니다.\"); return;\\r\\n\\t\\t}\\r\\n\\r\\n\\t\\thtmlCode += \"<a href=\\'/tcher/eachTcherMain.ds?coType=M&relm=\" + relm + \"&subj=\" + subj + \"&tcd=\" + tcd + \"\\'>\";\\r\\n\\t\\thtmlCode += \"<img src=\\'http://img.mimacstudy.com/mimac_sh/images/tzone/\" + tcd + \"/\" + tcd + \"_0010.png\\' /></a>\";\\r\\n\\t\\thtmlCode += \"<div class=\\'tchinfo\\'><span>\" + relmName + \" \" + tcdName + \"</span>\";\\r\\n\\t\\thtmlCode += \"<button type=\\'button\\' name=\\'interestTcdDelBtn\\' onclick=\\'delTopProfileImg(this);\\' tcd=\\'\" + tcd + \"\\'><img src=\\'http://img.mimacstudy.com/FRONT/main/btn_close.png\\' /></button></div></li>\";\\r\\n\\r\\n\\t\\tif(insertIndex == 0) $(\"#interestTcdArea\").prepend(htmlCode);\\r\\n\\t\\telse\\t\\t\\t\\t\\t\\t $(\"#interestTcdArea li\").eq(insertIndex-1).after(htmlCode);\\r\\n\\r\\n\\t\\t$(\"#interestTcdArea li\").last().remove();\\r\\n\\t}\\r\\n\\r\\n\\tfunction delTopProfileImg(obj) {\\r\\n\\t\\tvar tcd = $(obj).attr(\"tcd\");\\r\\n\\r\\n\\t\\t$(\"#topProfileLi\" + tcd).remove();\\r\\n\\t\\t$(\"#interestTcdArea\").append(\"<li><img src=\\'http://img.mimacstudy.com/FRONT/main/img_tch_default.png\\' /></li>\");\\r\\n\\t}\\r\\n\\t/* 관심 선생님 설정 */\\r\\n\\r\\n\\t/* 로그인 */\\r\\n\\tfunction upperLoginAction(event){\\r\\n\\t\\t$(\"#refUrl\").val(document.URL.replace(/\\\\?/g, \"|@\").replace(/&/g, \"|\"));\\r\\n\\t\\t$(\"#upperloginForm\").submit();\\r\\n\\t}\\r\\n\\r\\n\\t/* 쿠키생성 */\\r\\n\\tfunction autoCompleteCookie(cValue){\\r\\n\\t\\tvar todayDate = new Date();\\r\\n\\t\\tvar expiredays = 365;\\r\\n\\t\\tvar cookie_name = \"mimacAutoCompleteChk\";\\r\\n\\t\\ttodayDate.setDate( todayDate.getDate() + expiredays );\\r\\n\\t\\tdocument.cookie = cookie_name + \"=\" + escape( cValue ) + \"; path=/; expires=\" + todayDate.toGMTString() +\";\"\\r\\n\\t}\\r\\n\\r\\n\\t/* 쿠키가져오기 */\\r\\n\\tfunction getCookieAC(cName){\\r\\n\\t\\tcName = cName + \\'=\\';\\r\\n\\t\\tvar cookieData = document.cookie;\\r\\n\\t\\tvar start = cookieData.indexOf(cName);\\r\\n\\t\\tvar cValue = \\'\\';\\r\\n\\t\\tif(start != -1){\\r\\n\\t\\t\\tstart += cName.length;\\r\\n\\t\\t\\tvar end = cookieData.indexOf(\\';\\', start);\\r\\n\\t\\t\\tif(end == -1) end = cookieData.length;\\r\\n\\t\\t\\tcValue = cookieData.substring(start, end);\\r\\n\\t\\t}\\r\\n\\t\\treturn unescape(cValue);\\r\\n\\t}\\r\\n\\r\\n\\t/* 로그아웃 */\\r\\n\\tfunction logout(event){\\r\\n\\t\\tlocation.href = \"/mem/setLogoutProcess.ds\";\\r\\n\\t}\\r\\n\\r\\n\\t/* 정보수정 */\\r\\n\\tfunction modInfo(event){\\r\\n\\t\\tlocation.href = \"/mem/confirmPwdForm.ds?leftMenuId=MNMN_M002\";\\r\\n\\t}\\r\\n\\r\\n\\t/* 수강중인 강좌 이동 */\\r\\n\\tfunction goLctrStudy(pAuthNo, openableYn, sdate) {\\r\\n        if( openableYn == \\'N\\' ) {\\r\\n            alert(sdate + \\'부터 수강 가능합니다.\\');\\r\\n            return;\\r\\n        }\\r\\n    \\t$(\"#lctrStudyForm #authNo\").val(pAuthNo);\\r\\n\\r\\n    \\t$(\"#lctrStudyForm\").attr(\"action\", \"/myzone/mypage/mylctr/detail/myStudyingCourseDetail.ds\");\\r\\n        $(\"#lctrStudyForm\").submit();\\r\\n    }\\r\\n\\r\\n\\r\\n\\t//팝업에서의 링크 처리 & 로그 (pr페이지에서 해당함수가 없어서 작동을 안함 popupGoLink를 그대로 가져와서 이름만 변경 mis작업번호 #617780 2018.07.23 전창수 )\\r\\n\\tfunction popupGoLinkTop(id,url,target,closeAc,alertAc,videoYn,flag) {\\r\\n\\r\\n\\t\\tvar data = { popId : id, mbrCoType : \\'M\\'};\\r\\n\\t\\t$.ajax({\\r\\n\\t\\t\\ttype : \"POST\" ,\\r\\n\\t\\t\\turl : \"/common/regPopupLog.ds\",\\r\\n\\t\\t\\tdata : data,\\r\\n\\t\\t\\tdataType : \"json\" ,\\r\\n\\t\\t\\tsuccess : function(data) {\\r\\n\\t\\t\\t\\tif(data.code == \"success\") {\\r\\n\\t\\t\\t\\t\\tif((target==\"Y\" ||  target == \"N\" ) && closeAc == \"N\" && alertAc == \"N\" && videoYn == \"N\" ){\\r\\n\\t\\t\\t\\t\\t\\twindow.open(url, target==\"Y\" ? \"_blank\" : \"_self\")\\r\\n\\t\\t\\t\\t\\t}else if(closeAc == \"Y\"){\\r\\n\\t\\t\\t\\t\\t\\tvar urlArray = url.split(\\'|\\');\\r\\n\\t\\t\\t\\t\\t\\tif(urlArray[0] == \"#closeToday\") {\\r\\n\\t\\t\\t\\t\\t\\t\\tif (typeof urlArray[1] == \\'undefined\\'){\\r\\n\\t\\t\\t\\t\\t\\t\\t\\turlArray[1] = 1;\\r\\n\\t\\t\\t\\t\\t\\t\\t}\\r\\n\\t\\t\\t\\t\\t\\t\\tcloseLayer(\"mainPop\"+id,urlArray[1]);\\r\\n\\t\\t\\t\\t\\t\\t} else {\\r\\n\\t\\t\\t\\t\\t\\t\\tcloseLayer(\"mainPop\"+id);\\r\\n\\t\\t\\t\\t\\t\\t}\\r\\n\\t\\t\\t\\t\\t}else if(alertAc == \"Y\"){\\r\\n\\t\\t\\t\\t\\t  alert(url);\\r\\n\\t\\t\\t\\t\\t  return false;\\r\\n\\t\\t\\t\\t\\t}else if(videoYn == \"Y\"){\\r\\n\\t\\t\\t\\t\\t\\twinPopupOpen(\"/common/aquaplayer/getAquaplayerOpenPop.ds?view=freeView&mode=02&mid=\"+url, 1055, 563, \"_playerPop\", \"resizable=yes\", \\'\\', \\'100\\');\\r\\n\\t\\t\\t\\t\\t}\\r\\n\\t\\t\\t\\t} else {\\r\\n\\t\\t\\t\\t\\t//alert(\"메인팝업 클릭 로그정보 저장에 실패하였습니다.\");\\r\\n\\t\\t\\t\\t}\\r\\n\\t\\t\\t}\\r\\n\\t\\t});\\r\\n\\t}\\r\\n\\r\\n\\r\\n\\tfunction crclmPop() {\\r\\n\\t\\twinPopupOpen(\"/common/tchrCrclmPop.ds\", 900, 700, \"crclmPop\", \"scrollbars=1\");\\r\\n\\t}\\r\\n\\r\\n\\t/* gnb_rolling_선생님 */\\r\\n\\t$(document).ready(function(){\\r\\n\\t\\t/*\\r\\n\\t\\tvar $_roll =  $(\\'.tch_evt .roll\\');\\r\\n\\r\\n\\t\\tsetInterval(function(){\\r\\n\\t\\t\\t$_roll.toggleClass(\\'on\\');\\r\\n\\t\\t}, 2000);\\r\\n\\t\\t*/\\r\\n\\t});\\r\\n</script>\\r\\n<header class=\"dsm_header\">\\r\\n\\t<div class=\"top_divison\">\\r\\n\\t\\t<h1 class=\"dsm_logo\"><a href=\"/main/main.ds\"><img src=\"http://img.mimacstudy.com/FRONT/main/renew2017/dsm_logo.gif\" alt=\"슬로건 대성마이맥\" /></a></h1>\\r\\n\\r\\n\\t\\t<div class=\"top_member\">\\r\\n\\t\\t\\t<h2 class=\"hidden\">회원 정보및 로그인</h2>\\r\\n\\t\\t\\t<ul>\\r\\n\\t\\t\\t\\t<li><a href=\"#\" class=\"view_login\">로그인</a></li>\\r\\n\\t\\t\\t\\t\\t<li><a href=\"/common/getMenuContainer.ds?requestMenuId=M000000008\">회원가입</a></li>\\r\\n\\t\\t\\t\\t<li><a href=\"/common/getMenuContainer.ds?requestMenuId=MNMN_M003\">마이페이지</a></li>\\r\\n\\t\\t\\t</ul>\\r\\n\\t\\t</div>\\r\\n\\r\\n\\t\\t<ul class=\"sns_quick\">\\r\\n\\t\\t\\t<li><a href=\"https://www.facebook.com/mimac88/\" target=\"_blank\"><img src=\"http://img.mimacstudy.com/FRONT/icon/icon_facebook.png\" alt=\"페이스북 바로가기\" /></a></li>\\r\\n\\t\\t\\t<li><a href=\"https://www.instagram.com/mimacstudy/\" target=\"_blank\"><img src=\"http://img.mimacstudy.com/FRONT/icon/icon_instagram.png\" alt=\"인스타그램 바로가기\" /></a></li>\\r\\n\\t\\t\\t<li><a href=\"https://www.youtube.com/channel/UCKziRqbw2AvmAJ5wcYXRaMw?view_as=subscriber\" target=\"_blank\"><img src=\"http://img.mimacstudy.com/FRONT/icon/icon_youtube.png\" alt=\"유튜브 바로가기\" /></a></li>\\r\\n\\t\\t\\t<li><a href=\"https://blog.naver.com/mktmimac11\" target=\"_blank\"><img src=\"http://img.mimacstudy.com/FRONT/icon/icon_naver.png\" alt=\"네이버 블로그 바로가기\" /></a></li>\\r\\n\\t\\t\\t<li><a href=\"https://post.naver.com/mktmimac22\" target=\"_blank\"><img src=\"http://img.mimacstudy.com/FRONT/icon/icon_naverpost.jpg\" alt=\"네이버 포스트 바로가기\" /></a></li>\\r\\n\\t\\t</ul>\\r\\n\\r\\n\\t\\t<!--// 상단 검색-->\\r\\n\\t\\t<div class=\"top_search\">\\r\\n\\t\\t\\t<h2 class=\"hidden\">검색관련</h2>\\r\\n\\t\\t\\t<div class=\"sch_area\">\\r\\n\\t\\t\\t\\t<form onsubmit=\"return false;\">\\r\\n\\t\\t\\t\\t\\t<fieldset>\\r\\n\\t\\t\\t\\t\\t\\t<legend>검색하기</legend>\\r\\n\\t\\t\\t\\t\\t\\t<label for=\"srchTxt\" class=\"hidden\">검색 키워드 입력</label>\\r\\n\\t\\t\\t\\t\\t\\t<div class=\"search_input\">\\r\\n\\t\\t\\t\\t\\t\\t\\t<input type=\"text\" id=\"srchTxt\" name=\"srchTxt\" value=\"\"/>\\r\\n\\t\\t\\t\\t\\t\\t\\t<button type=\"button\" id=\"topSearchBtn\">검색하기</button>\\r\\n\\t\\t\\t\\t\\t\\t</div>\\r\\n\\t\\t\\t\\t\\t</fieldset>\\r\\n\\t\\t\\t\\t</form>\\r\\n\\t\\t\\t\\t<a href=\"#\" type=\"button\" class=\"quick_find_lec\">빠른강좌찾기</a>\\r\\n\\t\\t\\t</div>\\r\\n\\t\\t\\t<!--// 추천어 -->\\r\\n\\t\\t\\t<div class=\"keyword_link\">\\r\\n\\t\\t\\t\\t<ul id=\"srchBannerScroll\" class=\"scroll_wrap\">\\r\\n\\t\\t\\t\\t</ul>\\r\\n\\t\\t\\t\\t<button class=\"top_bn_prev\" type=\"button\">이전</button>\\r\\n\\t\\t\\t\\t<button class=\"top_bn_next\" type=\"button\">다음</button>\\r\\n\\t\\t\\t</div>\\r\\n\\t\\t\\t<!--// 추천어-->\\r\\n\\t\\t</div>\\r\\n\\t\\t<!--// 상단 검색-->\\r\\n\\r\\n\\t\\t<!--// 상단 배너(RE02) -->\\r\\n\\t\\t<div class=\"top_issue_bn\">\\r\\n\\t\\t\\t<ul id=\"topMainBnr\" class=\"scroll_wrap\">\\r\\n\\t\\t\\t\\t<li><a href=\"#\" onclick=\"setBanrLog(\\'CB00010488\\',\\'01\\',\\'\\',\\'/ex/prod/2020/mar0225/321845_indexfull.ds\\',\\'_self\\');return false;\"><img src=\"http://img.mimacstudy.com/admin_sh/images/site/banner/VeIqam158262070375000014\" alt=\"신학기 특강\" usemap=\"#RE02_1_CB00010488\"></a></li>\\r\\n\\t         \\t \\t<li><a href=\"#\" onclick=\"setBanrLog(\\'CB00009820\\',\\'01\\',\\'\\',\\'/ex/prod/2020/nLctr0110/231233_indexfull.ds\\',\\'_self\\');return false;\"><img src=\"http://img.mimacstudy.com/admin_sh/images/site/banner/QDdkiP157863002042400010\" alt=\"N수 특강\" usemap=\"#RE02_2_CB00009820\"></a></li>\\r\\n\\t         \\t \\t</ul>\\r\\n\\t\\t\\t<button class=\"top_bn_prev\" type=\"button\">이전</button>\\r\\n\\t\\t\\t<button class=\"top_bn_next\" type=\"button\">다음</button>\\r\\n\\t\\t</div>\\r\\n\\t\\t<!--// 상단 배너(RE02) -->\\r\\n\\r\\n\\t\\t<div id=\"lay2\"></div>\\r\\n\\t</div>\\r\\n\\r\\n\\t<!--// 메인 메뉴-->\\r\\n\\t<div class=\"global_gnb\">\\r\\n\\t\\t<h2 class=\"hidden\">메인메뉴</h2>\\r\\n\\t\\t<nav class=\"main_menu\">\\r\\n\\t\\t\\t<ul>\\r\\n\\t\\t\\t\\t<li class=\"gnb_teacher\">\\r\\n\\t\\t\\t\\t\\t<a href=\"/common/getMenuContainer.ds?requestMenuId=MNMN_M004\">마이맥선생님</a>\\r\\n\\t\\t\\t\\t\\t<a href=\"#\" id=\"topInterestTcdImg\" class=\"tcher_all_view\">선생님 전체보기</a>\\r\\n\\t\\t\\t\\t</li>\\r\\n\\t\\t\\t\\t<li><a href=\"/common/getMenuContainer.ds?requestMenuId=MNMN_M005\">고3&middot;N수</a></li>\\r\\n\\t\\t\\t\\t<li><a href=\"/common/getMenuContainer.ds?requestMenuId=MNMN_M006\">고2&middot;1</a> </li>\\r\\n\\t\\t\\t\\t<!--\\r\\n\\t\\t\\t\\t<li class=\"gnb_month_exm\">\\r\\n\\t\\t\\t\\t\\t<a href=\"/ex/ipsi/tchrMock/2017/0712/757963_indexfull.ds\">월간실모</a>\\r\\n\\t\\t\\t\\t\\t<a href=\"#\" class=\"view_list\">월간실모 더보기</a>\\r\\n\\t\\t\\t\\t\\t<div class=\"month_wrap\">\\r\\n\\t\\t\\t\\t\\t\\t<ul>\\r\\n\\t\\t\\t\\t\\t\\t\\t<li class=\"kor\"><a href=\"/ex/ipsi/sangsang/2017/0206/741852_indexfull.ds\"><em>상상국어 모의고사</em> 국어, 14번의 수능을 체험하다!</a></li>\\r\\n\\t\\t\\t\\t\\t\\t\\t<li class=\"math\"><a href=\"/ex/t279/2017/0824/145365_indexfull.ds\"><em>한석만 실전모의고사</em> 수학, 아홉 번의 수능 실전훈련</a></li>\\r\\n\\t\\t\\t\\t\\t\\t\\t<li class=\"sci\"><a href=\"/ex/t454/2017/0712/236636_indexfull.ds\"><em>월간 한종철</em> 생명과학, 만점 그 이상의 전략</a></li>\\r\\n\\t\\t\\t\\t\\t\\t</ul>\\r\\n\\t\\t\\t\\t\\t</div>\\r\\n\\t\\t\\t\\t</li> -->\\r\\n\\r\\n\\t\\t\\t\\t<li><a href=\"/common/getMenuContainer.ds?requestMenuId=MNMN_M008\">입시정보</a>\\r\\n\\t\\t\\t\\t\\t</li>\\r\\n\\t\\t\\t\\t<li><a href=\"/common/getMenuContainer.ds?requestMenuId=MNMN_M009\">모의고사 </a></li>\\r\\n\\t\\t\\t\\t<li class=\"afp_evt\">\\r\\n\\t\\t         \\t \\t\\t<a href=\"#\"  onclick=\"setBanrLog(\\'CB00010423\\',\\'01\\',\\'\\',\\'/ex/prod/2019/afp1231/094212_indexfull.ds\\',\\'_self\\');return false;\" class=\"pass19\">\\r\\n\\t\\t         \\t \\t\\t\\t<span>19</span> 패스\\r\\n\\t\\t         \\t \\t\\t\\t</a>\\r\\n\\t\\t         \\t \\t</li>\\r\\n\\t\\t         \\t \\t<script type=\"text/javascript\" >\\r\\n\\t\\t\\t\\t\\t\\tvar pass_ico = $(\\'.pass_ico > span\\');\\r\\n\\r\\n\\t\\t\\t\\t\\t\\tif(pass_ico.length > 1){\\r\\n\\t\\t\\t\\t\\t\\t\\tvar widthArr = []\\r\\n\\t\\t\\t\\t\\t\\t\\tpass_ico.each(function(){\\r\\n\\t\\t\\t\\t\\t\\t\\t\\tvar ico_width = $(this).width();\\r\\n\\t\\t\\t\\t\\t\\t\\t\\twidthArr.push(ico_width);\\r\\n\\t\\t\\t\\t\\t\\t\\t});\\r\\n\\r\\n\\t\\t\\t\\t\\t\\t\\twidthArr.sort(function(a,b){\\r\\n\\t\\t\\t\\t\\t\\t\\t\\treturn b - a;\\r\\n\\t\\t\\t\\t\\t\\t\\t});\\r\\n\\t\\t\\t\\t\\t\\t\\t$(\\'.pass_ico\\').width((widthArr[0]+10)+\\'px\\');\\r\\n\\t\\t\\t\\t\\t\\t\\tpass_ico.eq(1).hide();\\r\\n\\t\\t\\t\\t\\t\\t\\tif(pass_ico.length > 1){\\r\\n\\t\\t\\t\\t\\t\\t\\t\\tcurnum = 1;\\r\\n\\t\\t\\t\\t\\t\\t\\t\\tsetInterval(function(){\\r\\n\\t\\t\\t\\t\\t\\t\\t\\t\\tcurnum = (curnum+1) % 2;\\r\\n\\t\\t\\t\\t\\t\\t\\t\\t\\tpass_ico.hide().eq(curnum).show();\\r\\n\\t\\t\\t\\t\\t\\t\\t\\t},2000);\\r\\n\\t\\t\\t\\t\\t\\t\\t}\\r\\n\\t\\t\\t\\t\\t\\t}\\r\\n\\t\\t\\t\\t</script>\\r\\n\\t\\t\\t\\t<!-- \\t\\t\\t\\t<li> -->\\r\\n<!-- \\t\\t\\t\\t\\t<a href=\"/ex/prod/2019/afp2021/292131_indexfull.ds\" class=\"pass19\"><span>19</span> 패스 -->\\r\\n<!-- \\t\\t\\t\\t\\t\\t\\t<b class=\"pass_ico\">오늘마감</b></a> -->\\r\\n<!-- \\t\\t\\t\\t</li> -->\\r\\n\\t\\t\\t\\t<li class=\"gnb_ex_wrap\">\\r\\n         \\t \\t\\t<a href=\"/ex/prod/2020/ebs0121/466133_indexfull.ds\" class=\"gnb_ex\">EBS 수능특강</a>\\r\\n\\t\\t\\t\\t</li>\\r\\n\\r\\n\\t\\t\\t\\t<li class=\"gnb_more\">\\r\\n\\t\\t\\t\\t\\t<a href=\"#\">더보기</a>\\r\\n\\t\\t\\t\\t\\t<ul class=\"gnb_more_view\">\\r\\n\\t\\t\\t\\t\\t\\t<li><a href=\"/acdex/acdexMain.ds?requestMenuId=MNMN_M007\">대학별고사</a></li>\\r\\n\\t\\t\\t\\t\\t\\t<li><a href=\"/common/getMenuContainer.ds?requestMenuId=MNMN_M012\">이벤트</a></li>\\r\\n\\t\\t\\t\\t\\t\\t<!-- <li><a href=\"/off/icHome.ds?leftMenuId=MNMN_M010\">대성IC</a></li> -->\\r\\n\\t\\t\\t\\t\\t\\t<li><a href=\"/common/getMenuContainer.ds?requestMenuId=MNMN_M011\">스마트존</a></li>\\r\\n\\t\\t\\t\\t\\t\\t<li><a href=\"/common/getMenuContainer.ds?requestMenuId=MNMN_M013\">고객센터</a></li>\\r\\n\\t\\t\\t\\t\\t</ul>\\r\\n\\t\\t\\t\\t</li>\\r\\n\\r\\n\\t\\t\\t\\t<li class=\"gnb_academy\">\\r\\n\\t\\t\\t\\t\\t<a href=\"#\">대성학원</a>\\r\\n\\t\\t\\t\\t\\t<div class=\"gnb_academy_wrap\">\\r\\n\\t\\t\\t\\t\\t\\t<p class=\"go_ac_service\">\\r\\n\\t\\t\\t\\t\\t\\t\\t<a href=\"/off/dsHome.ds?leftMenuId=MNMN_M010\">대성학원생 전용</a>\\r\\n\\t\\t\\t\\t\\t\\t</p>\\r\\n\\t\\t\\t\\t\\t\\t<ul class=\"ac_link\">\\r\\n\\t\\t\\t\\t\\t\\t\\t<li><a href=\"http://www.dshw.co.kr\" target=\"_blank\">대성학원 소개</a></li>\\r\\n\\t\\t\\t\\t\\t\\t\\t<li><a href=\"http://noryangjin.dshw.co.kr/\" target=\"_blank\">대성학원(노량진)</a></li>\\r\\n\\t\\t\\t\\t\\t\\t\\t<li><a href=\"http://kangnam.dshw.co.kr/\" target=\"_blank\">강남대성학원</a></li>\\r\\n\\t\\t\\t\\t\\t\\t\\t<li><a href=\"http://kangnamin.dshw.co.kr/\" target=\"_blank\">강남대성학원인문별관</a></li>\\r\\n\\t\\t\\t\\t\\t\\t\\t<li><a href=\"http://kangnamja.dshw.co.kr/\" target=\"_blank\">강남대성학원자연별관</a></li>\\r\\n\\t\\t\\t\\t\\t\\t\\t<li><a href=\"http://songpa.dshw.co.kr/\" target=\"_blank\">강남대성(송파)학원</a></li>\\r\\n\\t\\t\\t\\t\\t\\t\\t<li><a href=\"http://campuskangnam.dshw.co.kr/\" target=\"_blank\">강남대성기숙학원(본관)</a></li>\\r\\n\\t\\t\\t\\t\\t\\t\\t<li><a href=\"http://campusm.dshw.co.kr/\" target=\"_blank\">강남대성기숙학원(의대관)</a></li>\\r\\n\\t\\t\\t\\t\\t\\t\\t<li><a href=\"http://busan.dshw.co.kr/\" target=\"_blank\">부산대성학원</a></li>\\r\\n\\t\\t\\t\\t\\t\\t\\t<li><a href=\"http://mimac.dshw.co.kr/\" target=\"_blank\">강대마이맥학원</a></li>\\r\\n\\t\\t\\t\\t\\t\\t\\t<li><a href=\"http://kndsdn.dshw.co.kr/\" target=\"_blank\">강남대성단과 · 논술학원</a></li>\\r\\n\\t\\t\\t\\t\\t\\t\\t<li><a href=\"http://www.namyangjuds.co.kr/\" target=\"_blank\">남양주기숙학원</a></li>\\r\\n\\t\\t\\t\\t\\t\\t\\t<li><a href=\"http://dsbusan.cafe24.com/\" target=\"_blank\">부산대성기숙학원</a></li>\\r\\n\\t\\t\\t\\t\\t\\t</ul>\\r\\n\\t\\t\\t\\t\\t\\t<p class=\"close_btn\">\\r\\n\\t\\t\\t\\t\\t\\t\\t<button type=\"button\">닫기X</button>\\r\\n\\t\\t\\t\\t\\t\\t</p>\\r\\n\\t\\t\\t\\t\\t</div>\\r\\n\\t\\t\\t\\t</li>\\r\\n\\t\\t\\t</ul>\\r\\n\\t\\t\\t<a href=\"javascript:crclmPop();\" class=\"tchr_crclm\">2020년 커리큘럼</a>\\r\\n\\t\\t</nav>\\r\\n\\t</div>\\r\\n\\t<!--// 메인 메뉴-->\\r\\n\\r\\n\\t<!--// 외부 광고 스크립트 -->\\r\\n\\t<div class=\"google_ad\">\\r\\n\\t\\t<script type=\"text/javascript\" src=\"/js/adscript.js\"></script>\\r\\n<!--\\r\\n\\t\\t테스트 단계 : 로컬에서만 막는다.\\r\\n\\t\\t테스트 끝나면 wdev, local 막고 실서버에서만 적용 할 것!\\r\\n\\t-->\\r\\n\\t<!--// 네이버 스크립트_20180221 -->\\r\\n\\t<script type=\"text/javascript\" src=\"//wcs.naver.net/wcslog.js\"></script>\\r\\n\\t<!-- 네이버 스크립트_20180221 //-->\\r\\n\\r\\n\\t<!--// 카카오 180418 -->\\r\\n\\t<script type=\"text/javascript\" charset=\"UTF-8\" src=\"//t1.daumcdn.net/adfit/static/kp.js\"></script>\\r\\n\\t<!--// 카카오 180418 -->\\r\\n\\r\\n\\t<!-- //크리테오 공통 스크립트 191106 -->\\r\\n\\t<script type=\"text/javascript\" src=\"//static.criteo.net/js/ld/ld.js\" async=\"true\"></script>\\r\\n\\t<!-- //크리테오 공통 스크립트 191106 -->\\r\\n\\r\\n\\t<!--// twitter_website_tag_code_snippet 190710  -->\\r\\n\\t<script src=\"//platform.twitter.com/oct.js\" type=\"text/javascript\"></script>\\r\\n\\t<!-- twitter_website_tag_code_snippet 190710  //-->\\r\\n\\r\\n\\t<script type=\"text/javascript\">\\r\\n\\t\\t// 타게팅게이츠 공통 변수 선언\\r\\n\\t\\tvar loginUniqueId = \"\";\\r\\n\\t\\tvar loginMbrId = \"\";\\r\\n\\t\\tvar user_email = \"\";\\r\\n\\r\\n\\t\\tif(\"\"!=\"\"){\\r\\n\\t\\t\\tloginUniqueId = \"\";\\r\\n\\t\\t\\tloginMbrId = \"\";\\r\\n\\t\\t\\t// 광고스크립트 md5 추가 adscript.js파일생성 2017-04-24 전창수\\r\\n\\t\\t\\t//user_email = \"\".trim().toLowerCase();\\r\\n\\t\\t\\tuser_email = md5(\"\".trim());\\r\\n\\t\\t}\\r\\n\\t</script>\\r\\n\\r\\n\\t<!-- // 구글 GA 공통스크립트 -->\\r\\n\\t<script type=\"text/javascript\">\\r\\n\\t\\t(function(i, s, o, g, r, a, m) {\\r\\n\\t\\t\\ti[\\'GoogleAnalyticsObject\\'] = r;\\r\\n\\t\\t\\ti[r] = i[r] || function() {\\r\\n\\t\\t\\t\\t(i[r].q = i[r].q || []).push(arguments)\\r\\n\\t\\t\\t}, i[r].l = 1 * new Date();\\r\\n\\t\\t\\ta = s.createElement(o), m = s.getElementsByTagName(o)[0];\\r\\n\\t\\t\\ta.async = 1;\\r\\n\\t\\t\\ta.src = g;\\r\\n\\t\\t\\tm.parentNode.insertBefore(a, m)\\r\\n\\t\\t})(window, document, \\'script\\', \\'//www.google-analytics.com/analytics.js\\', \\'ga\\');\\r\\n\\r\\n\\t\\tga(\\'create\\', \\'UA-66489567-1\\', \\'auto\\');\\r\\n\\t\\tga(\\'send\\', \\'pageview\\');\\r\\n\\t</script>\\r\\n\\t<!-- 구글 GA 공통스크립트 // -->\\r\\n\\r\\n\\t<!--// *** 결제 완료 페이지 *** -->\\r\\n\\t<!--// Facebook Pixel Code 171016-->\\r\\n\\t<!-- End Facebook Pixel Code 171016 //-->\\r\\n\\t<!-- ******************************************** 전환 완료 페이지 ********************************************* //-->\\r\\n\\r\\n\\t<!-- Google 리마케팅 태그 코드 -->\\r\\n\\t<!--\\r\\n\\t리마케팅 태그를 개인식별정보와 연결하거나 민감한 카테고리와 관련된 페이지에 추가해서는 안 됩니다. 리마케팅 태그를 설정하는 방법에 대해 자세히 알아보려면 다음 페이지를 참조하세요. http://google.com/ads/remarketingsetup\\r\\n\\t-->\\r\\n\\t<script type=\"text/javascript\">\\r\\n\\t\\t/* <![CDATA[ */\\r\\n\\t\\tvar google_conversion_id = 998767227;\\r\\n\\t\\tvar google_custom_params = window.google_tag_params;\\r\\n\\t\\tvar google_remarketing_only = true;\\r\\n\\t\\t/* ]]> */\\r\\n\\t</script>\\r\\n\\t<script type=\"text/javascript\" src=\"//www.googleadservices.com/pagead/conversion.js\"></script>\\r\\n\\t<noscript>\\r\\n\\t<div style=\"display:inline;\">\\r\\n\\t<img height=\"1\" width=\"1\" style=\"border-style:none;\" alt=\"\" src=\"//googleads.g.doubleclick.net/pagead/viewthroughconversion/998767227/?value=0&amp;guid=ON&amp;script=0\"/>\\r\\n\\t</div>\\r\\n\\t</noscript>\\r\\n\\t<!-- 구글 마이맥 리마케팅 스크립트_03.15_공통 //-->\\r\\n\\r\\n\\t<!--// 타게팅게이츠TG_리마케팅_코드_공통 -->\\r\\n\\t<!-- WIDERPLANET  SCRIPT START 2017.4.19 -->\\r\\n\\t<div id=\"wp_tg_cts\" style=\"display:none;\"></div>\\r\\n\\t<script type=\"text/javascript\">\\r\\n\\tvar wptg_tagscript_vars = wptg_tagscript_vars || [];\\r\\n\\twptg_tagscript_vars.push(\\r\\n\\t(function() {\\r\\n\\t\\treturn {\\r\\n\\t\\t\\twp_hcuid: loginUniqueId,   /*Cross device targeting을 원하는 광고주는 로그인한 사용자의 Unique ID (ex. 로그인 ID, 고객넘버 등)를 암호화하여 대입.\\r\\n\\t\\t\\t\\t\\t*주의: 로그인 하지 않은 사용자는 어떠한 값도 대입하지 않습니다.*/\\r\\n\\t\\t\\tti:\"18486\",\\t/*광고주 코드*/\\r\\n\\t\\t\\tty:\"Home\",\\t/*트래킹태그 타입*/\\r\\n\\t\\t\\tdevice:\"web\"\\t/*디바이스 종류 (web 또는 mobile)*/\\r\\n\\r\\n\\t\\t};\\r\\n\\t}));\\r\\n\\t</script>\\r\\n\\t<script type=\"text/javascript\" async src=\"//cdn-aitg.widerplanet.com/js/wp_astg_4.0.js\"></script>\\r\\n\\t<!-- // WIDERPLANET  SCRIPT END 2017.4.19 -->\\r\\n\\t<!-- 타게팅게이츠TG_리마케팅_코드_공통 //-->\\r\\n\\t<script type=\"text/javascript\">\\r\\n\\twindow.criteo_q = window.criteo_q || [];\\r\\n\\twindow.criteo_q.push(\\r\\n\\t        { event: \"setAccount\", account: 22835 },\\r\\n\\t        { event: \"setSiteType\", type: \"d\" },\\r\\n\\t        { event: \"setEmail\", email: user_email },\\r\\n\\t        { event: \"viewHome\" }\\r\\n\\t);\\r\\n\\t</script>\\r\\n\\t<!-- 크리테오 공통 스크립트 160517// -->\\r\\n\\r\\n\\t<!-- //네이버 PC 공통 스크립트_180221 -->\\r\\n\\t<!-- 공통 적용 스크립트 , 모든 페이지에 노출되도록 설치. 단 전환페이지 설정값보다 항상 하단에 위치해야함 -->\\r\\n\\t<script type=\"text/javascript\">\\r\\n\\t\\tif (!wcs_add) var wcs_add={};\\r\\n\\t\\twcs_add[\"wa\"] = \"s_4c85a6b8ba3f\";\\r\\n\\t\\tif (!_nasa) var _nasa={};\\r\\n\\t\\twcs.inflow();\\r\\n\\t\\twcs_do(_nasa);\\r\\n\\t</script>\\r\\n\\t<!-- 네이버 PC 공통 스크립트_180221// -->\\r\\n\\r\\n\\t<!--// Facebook Pixel Code 171016 -->\\r\\n\\t<script type=\"text/javascript\">\\r\\n\\t\\t\\t!function(f, b, e, v, n, t, s) {\\r\\n\\t\\t\\t\\tif (f.fbq) return;\\r\\n\\t\\t\\t\\tn = f.fbq = function() {\\r\\n\\t\\t\\t\\t\\tn.callMethod ? n.callMethod.apply(n, arguments) : n.queue.push(arguments)\\r\\n\\t\\t\\t\\t};\\r\\n\\t\\t\\t\\tif (!f._fbq) f._fbq = n;\\r\\n\\t\\t\\t\\tn.push = n;\\r\\n\\t\\t\\t\\tn.loaded = !0;\\r\\n\\t\\t\\t\\tn.version = \\'2.0\\';\\r\\n\\t\\t\\t\\tn.queue = [];\\r\\n\\t\\t\\t\\tt = b.createElement(e);\\r\\n\\t\\t\\t\\tt.async = !0;\\r\\n\\t\\t\\t\\tt.src = v;\\r\\n\\t\\t\\t\\ts = b.getElementsByTagName(e)[0];\\r\\n\\t\\t\\t\\ts.parentNode.insertBefore(t, s)\\r\\n\\t\\t\\t}(window, document, \\'script\\', \\'https://connect.facebook.net/en_US/fbevents.js\\');\\r\\n\\t\\t\\tfbq(\\'init\\', \\'998867180190776\\');\\r\\n\\t\\t\\tfbq(\\'track\\', \\'PageView\\');\\r\\n\\r\\n\\t\\t\\t//var sCurrentUrl = window.location.toString();\\r\\n\\t\\t\\t//if(sCurrentUrl.indexOf(\"/#!/\") != -1) fbq(\\'track\\', \\'PageView\\');\\r\\n\\t\\t</script>\\r\\n\\t\\t<noscript>\\r\\n\\t\\t\\t<img height=\"1\" width=\"1\" style=\"display: none\" src=\"https://www.facebook.com/tr?id=998867180190776&ev=PageView&noscript=1\" />\\r\\n\\t\\t</noscript>\\r\\n\\t<!-- End Facebook Pixel Code 171016 //-->\\r\\n\\r\\n\\t<!--// twitter_website_tag_code_범용웹사이트태그 190710 -->\\r\\n\\t<script type=\"text/javascript\">\\r\\n\\t\\t!function(e,t,n,s,u,a){e.twq||(s=e.twq=function(){s.exe?s.exe.apply(s,arguments):s.queue.push(arguments);\\r\\n\\t\\t},s.version=\\'1.1\\',s.queue=[],u=t.createElement(n),u.async=!0,u.src=\\'//static.ads-twitter.com/uwt.js\\',\\r\\n\\t\\ta=t.getElementsByTagName(n)[0],a.parentNode.insertBefore(u,a))}(window,document,\\'script\\');\\r\\n\\t\\t// Insert Twitter Pixel ID and Standard Event data below\\r\\n\\t\\ttwq(\\'init\\',\\'o22wt\\');\\r\\n\\t\\ttwq(\\'track\\',\\'PageView\\');\\r\\n\\t</script>\\r\\n\\t<!-- twitter_website_tag_code_범용웹사이트태그 190710 //-->\\r\\n\\r\\n\\t<!--// twitter_website_tag_code_snippet_페이지뷰 190710 -->\\r\\n\\t<script type=\"text/javascript\">twttr.conversion.trackPid(\\'o22x3\\', { tw_sale_amount: 0, tw_order_quantity: 0 });</script>\\r\\n\\t<noscript>\\r\\n\\t<img height=\"1\" width=\"1\" style=\"display:none;\" alt=\"\" src=\"https://analytics.twitter.com/i/adsct?txn_id=o22x3&p_id=Twitter&tw_sale_amount=0&tw_order_quantity=0\" />\\r\\n\\t<img height=\"1\" width=\"1\" style=\"display:none;\" alt=\"\" src=\"//t.co/i/adsct?txn_id=o22x3&p_id=Twitter&tw_sale_amount=0&tw_order_quantity=0\" />\\r\\n\\t</noscript>\\r\\n\\t<!-- twitter_website_tag_code_snippet_페이지뷰 190710 //-->\\r\\n\\r\\n\\t<!--// Ace Trader 171106 -->\\r\\n\\t<script type=\"text/javascript\" src=\"//static.tagmanager.toast.com/tag/view/173\"></script>\\r\\n\\t<script type=\"text/javascript\">\\r\\n\\t\\twindow.ne_tgm_q = window.ne_tgm_q || [];\\r\\n\\t\\twindow.ne_tgm_q.push(\\r\\n\\t\\t{\\r\\n\\t\\t\\ttagType : \\'visit\\',\\r\\n\\t\\t\\tdevice :\\'web\\' /*web, mobile, tablet*/,\\r\\n\\t\\t\\tuniqValue :\\'\\',\\r\\n\\t\\t\\tpageEncoding:\\'euc-kr\\'\\r\\n\\t\\t});\\r\\n\\t</script>\\r\\n\\t<!-- Ace Trader 171106 //-->\\r\\n\\r\\n\\t<!-- Mobon Tracker v3.1 [공용] start (20180213 추가)-->\\r\\n\\t<script type=\"text/javascript\">\\r\\n\\t\\tfunction mobRf(){\\r\\n\\t  \\t\\tvar rf = new EN();\\r\\n// \\t\\t\\trf.setSSL(true);\\r\\n\\t  \\t\\trf.sendRf();\\r\\n\\t\\t}\\r\\n\\t</script>\\r\\n\\t<script src=\"https://cdn.megadata.co.kr/js/enliple_min2.js\" defer=\"defer\" onload=\"mobRf()\"></script>\\r\\n\\t<!-- Mobon Tracker v3.1 [공용] end (20180213 추가)-->\\r\\n\\r\\n\\t<!--// 카카오_공통 180601 -->\\r\\n\\t<script type=\"text/javascript\">\\r\\n\\t    kakaoPixel(\\'3646480955169064334\\').pageView();\\r\\n\\t</script>\\r\\n\\t<!-- 카카오_공통 180601 //-->\\r\\n</div>\\r\\n\\t<!-- 외부 광고 스크립트 //-->\\r\\n\\r\\n\\r\\n\\r\\n\\r\\n</header>\\r\\n<!-- 스카이 홍보 페이지 가기 배너 -->\\r\\n<!--\\r\\n<div class=\"ad_sky\">\\r\\n\\t<a href=\"javascript:popupGoLinkTop(\\'PI00000265\\',\\'/ex/etc/2018/sky/667157_indexfull.ds\\',\\'N\\',\\'N\\',\\'N\\',\\'N\\');\"><img src=\"http://img.mimacstudy.com/FRONT/common/bn_sky_180627.gif\" alt=\"\" /></a>\\r\\n\\t<button type=\"button\" class=\"layer_close\" onclick=\"$(\\'.ad_sky\\').hide();\">\\r\\n\\t\\t<span class=\"hidden\">닫기</span>\\r\\n\\t\\t<span class=\"bar\"></span>\\r\\n\\t\\t<span class=\"bar\"></span>\\r\\n\\t</button>\\r\\n</div>\\r\\n -->\\r\\n\\r\\n<!-- 개인 회원 관련 퀵메뉴 -->\\r\\n<div class=\"meminfo_quick \">\\r\\n\\t<h2 class=\"hidden\">개인 회원 정보 관련 빠른 메뉴</h2>\\r\\n\\t<div class=\"meminfo_top\">\\r\\n\\t\\t<p class=\"final_dday\">수능 <em id=\"examDday\"></em></p>\\r\\n\\t\\t<div class=\"login_area\">\\r\\n\\t\\t\\t<p class=\"logout_state\"><a href=\"#\" class=\"view_login\">로그인</a> 하세요</p>\\r\\n\\t\\t\\t</div>\\r\\n\\t</div>\\r\\n\\r\\n\\t<nav class=\"mypage_quick\">\\r\\n\\t\\t<ul>\\r\\n\\t\\t\\t<li class=\"item1\"><a href=\"/common/getMenuContainer.ds?requestMenuId=MNMN_M003\">마이페이지</a></li>\\r\\n\\t\\t\\t<li class=\"item2 \">\\r\\n\\t\\t\\t\\t<a href=\"/common/getMenuContainer.ds?requestMenuId=M000000010\">\\r\\n\\t\\t\\t\\t\\t수강중인 강좌 <b class=\"empty\">0</b>\\r\\n\\t\\t\\t\\t</a>\\r\\n\\t\\t\\t\\t</li>\\r\\n\\t\\t\\t<li class=\"item3\">\\r\\n\\t\\t\\t\\t<a href=\"/myzone/orderDeliveryList.ds?leftMenuId=MNMN_M003\">\\r\\n\\t\\t\\t\\t\\t주문/배송 <b class=\"empty\"></b>\\r\\n\\t\\t\\t\\t</a>\\r\\n\\t\\t\\t</li>\\r\\n\\t\\t\\t<li class=\"item4\">\\r\\n\\t\\t\\t\\t<a href=\"/common/getMenuContainer.ds?requestMenuId=M000000209\">\\r\\n\\t\\t\\t\\t\\t장바구니  <b class=\"empty\"></b>\\r\\n\\t\\t\\t\\t</a>\\r\\n\\t\\t\\t\\t<!-- <span class=\"icon\"><a href=\"/main/getMainNoticeDetail.ds?bNo=1438\" target=\"_blank\">동시구매하면 플래너 지급!</a></span>-->\\r\\n\\t\\t\\t</li>\\r\\n\\t\\t\\t<li class=\"item5\">\\r\\n\\t\\t\\t\\t<a href=\"/myzone/bbs/studyQnaList.ds?requestMenuId=M000000226\">\\r\\n\\t\\t\\t\\t\\t나의 질문 <b class=\"empty\"></b>\\r\\n\\t\\t\\t\\t</a>\\r\\n\\t\\t\\t</li>\\r\\n\\t\\t\\t<li class=\"item6\">\\r\\n\\t\\t\\t\\t<a href=\"/myzone/mypage/myInfo/msgList.ds?requestMenuId=M000000207\">\\r\\n\\t\\t\\t\\t\\t쪽지  <b class=\"empty\"></b>\\r\\n\\t\\t\\t\\t</a>\\r\\n\\t\\t\\t</li>\\r\\n\\t\\t</ul>\\r\\n\\t</nav>\\r\\n\\t<div class=\"q_customer_center\">\\r\\n\\t\\t<a href=\"/common/getMenuContainer.ds?requestMenuId=MNMN_M013\">\\r\\n\\t\\t\\t<em>고객센터</em>\\r\\n\\t\\t\\t<span class=\"tel_number\">02.5252.110</span>\\r\\n\\t\\t\\t<ul>\\r\\n\\t\\t\\t\\t<li>평일 9:00 - 24:00</li>\\r\\n\\t\\t\\t\\t<li>점심 12:30 - 13:30</li>\\r\\n\\t\\t\\t\\t<li>주말·공휴일 10:00 - 22:00</li>\\r\\n\\t\\t\\t</ul>\\r\\n\\t\\t</a>\\r\\n\\t</div>\\r\\n\\r\\n\\t<nav class=\"rest_quick\">\\r\\n\\t\\t<ul>\\r\\n\\t\\t\\t<li class=\"item1\"><a href=\"https://113366.com/?requestMenuId=M000000589\" target=\"_blank\">원격지원 서비스</a></li>\\r\\n\\t\\t\\t<li class=\"item2\"><a href=\"/cust/unlawDeclID.ds?requestMenuId=M000000251\"><span>강좌 &middot; 교재&middot; 모의고사</span> <span>불법 이용</span> <span class=\"disapeal\">신고 복제&middot;판매&middot;공유</span></a></li>\\r\\n\\t\\t\\t<!--<li class=\"item3\"><a href=\"https://www.facebook.com/mimac88\" target=\"_blank\">공식 페이스북</a></li>-->\\r\\n\\t\\t</ul>\\r\\n\\t</nav>\\r\\n\\t<button type=\"button\" class=\"toggle_quick\">CLOSE</button>\\r\\n</div>\\r\\n<!-- //개인 회원 관련 퀵메뉴-->\\r\\n\\r\\n<!-- 레이어 로그인-->\\r\\n<div class=\"login_app\" style=\"display:none\">\\r\\n\\t<div class=\"modal_login\">\\r\\n\\t\\t<div class=\"login_wrap\">\\r\\n\\t\\t\\t<h2>로그인</h2>\\r\\n\\t\\t\\t<form id=\"upperloginForm\" action=\"https://www.mimacstudy.com/mem/setLoginProcess.ds\" method=\"post\">\\r\\n\\t\\t\\t\\t<input type=\"hidden\" name=\"refUrl\" value=\\'/tcher/studyQna/getStudyQnaList.ds?currPage=1&tcd=531&\\' />\\r\\n\\t\\t\\t\\t<input type=\"hidden\" id=\"upperrememberFlag\" name=\"rememberFlag\" value=\"N\" />\\r\\n\\t\\t\\t\\t<fieldset>\\r\\n\\t\\t\\t\\t\\t<legend>회원 로그인</legend>\\r\\n\\t\\t\\t\\t\\t<div class=\"lonin_inner\">\\r\\n\\t\\t\\t\\t\\t\\t<span class=\"login_row\"><input type=\"text\" id=\"upperloginid\" name=\"mbrId\" placeholder=\"아이디\"><label for=\"upperloginid\" class=\"hidden\">아이디</label> </span>\\r\\n\\t\\t\\t\\t\\t\\t<span class=\"login_row\"><input type=\"password\" id=\"upperloginpw\" name=\"mbrPw\" placeholder=\"비밀번호\"><label for=\"upperloginpw\"  class=\"hidden\">비밀번호</label></span>\\r\\n\\t\\t\\t\\t\\t\\t<span class=\"save_mid\"><input type=\"checkbox\" id=\"upperidsave\" name=\"upperidsave\" value=\"N\"/> <label for=\"upperidsave\">아이디 저장</label></span>\\r\\n\\t\\t\\t\\t\\t\\t<button type=\"button\" id=\"upperloginBtn\" class=\"m_login\">로그인</button>\\r\\n\\t\\t\\t\\t\\t</div>\\r\\n\\t\\t\\t\\t\\t<ul class=\"m_info\">\\r\\n\\t\\t\\t\\t\\t\\t<li><a href=\"/common/getMenuContainer.ds?requestMenuId=M000000008\">회원가입</a></li>\\r\\n\\t\\t\\t\\t\\t\\t<li><a href=\"#\" onclick=\"window.open(\\'/mem/callFindIdNPasswordFormPop.ds\\',\\'findIdNPwPop\\',\\'width=680px, height=800px, scrollbars=yes\\');\">아이디/비밀번호 찾기</a></li>\\r\\n\\t\\t\\t\\t\\t</ul>\\r\\n\\t\\t\\t\\t</fieldset>\\r\\n\\t\\t\\t</form>\\r\\n\\r\\n\\t\\t\\t<!-- sns로그인관련  -->\\r\\n\\t\\t\\t<ul class=\"m_snsjoin\">\\r\\n\\t\\t\\t\\t<li><div id=\"naverIdLogin\"><a id=\"naverIdLogin_loginButton\" class=\"snsNaverIdchkUp\"  href=\"#\"><span class=\"icon_naver\"><em>네이버 로그인</em></span></a></div></li>\\r\\n\\t\\t\\t\\t<li><div id=\"kakaoIdLogin\"><a href=\"#\"><span class=\"icon_kakao\"><em>카카오 로그인</em></span></a></div></li>\\r\\n\\t\\t\\t</ul>\\r\\n\\t\\t\\t<!--// 간편 로그인 -->\\r\\n\\r\\n<!-- \\t\\t\\t<ul class=\"sns_login\"> -->\\r\\n<!-- \\t\\t\\t</ul> -->\\r\\n\\t\\t</div>\\r\\n\\t\\t<button class=\"close_login\">회원 로그인 닫기</button>\\r\\n\\t</div>\\r\\n\\t<div class=\"blind_mask\"></div>\\r\\n</div>\\r\\n<!--  sns로그인관련 - 네이버로그인 관련 시작-->\\r\\n\\t<!-- /container -->\\r\\n\\t<script src=\"https://maxcdn.bootstrapcdn.com/bootstrap/3.3.7/js/bootstrap.min.js\"></script>\\r\\n\\t<!-- (2) LoginWithNaverId Javscript SDK -->\\r\\n\\t<script src=\"/js/naveridlogin_js_sdk_2.0.0.js\"></script>\\r\\n\\r\\n\\t<!-- (3) LoginWithNaverId Javscript 설정 정보 및 초기화 -->\\r\\n\\t<script>\\r\\n\\t\\tvar naverLogin = new naver.LoginWithNaverId(\\r\\n\\t\\t\\t{\\r\\n\\t\\t\\t\\tclientId: \"AnUVxl6Sw6wgmV_47Fww\",\\r\\n\\t\\t\\t\\tcallbackUrl: \"http://www.mimacstudy.com/mem/callSnsForm.ds\",\\r\\n\\t\\t\\t\\tisPopup: false,\\r\\n\\t\\t\\t\\tloginButton: {color: \"green\", type: 3, height: 60}\\r\\n\\t\\t\\t}\\r\\n\\t\\t);\\r\\n\\t\\t/* (4) 네아로 로그인 정보를 초기화하기 위하여 init을 호출 */\\r\\n\\t\\tnaverLogin.init();\\r\\n\\r\\n\\t</script>\\r\\n<!--  네이버로그인 관련 끝-->\\r\\n\\r\\n<!--// 레이어 로그인-->\\r\\n\\r\\n\\r\\n\\r\\n<!-- S: 마이맥 관심선생님 레이어팝업 -->\\r\\n<div id=\"layerInterestPop\" class=\"tchinterest\" style=\"display: none;\">\\r\\n\\t<div class=\"tchface\">\\r\\n\\t\\t<div class=\"titwrap\">\\r\\n\\t\\t\\t<strong>관심선생님</strong> <span>설정을 누른 후 관심선생님을 선택해 주세요.</span>\\r\\n\\t\\t\\t<button type=\"button\" id=\"topTcdSetBtn\"><img src=\"http://img.mimacstudy.com/FRONT/btn/btn_setup_02.png\" alt=\"설정\" /></button>\\r\\n\\t\\t\\t<span id=\"topTcdSetSpan\" style=\"display: none;\">\\r\\n\\t\\t\\t\\t<button type=\"button\" id=\"topTcdInitBtn\"><img src=\"http://img.mimacstudy.com/FRONT/btn/btn_setup_03.png\" /></button> &nbsp;\\r\\n\\t\\t\\t\\t<button type=\"button\" id=\"topTcdSaveBtn\"><img src=\"http://img.mimacstudy.com/FRONT/btn/btn_setup_04.png\" /></button> &nbsp;\\r\\n\\t\\t\\t</span>\\r\\n\\t\\t</div>\\r\\n\\t\\t<div class=\"tchlist\">\\r\\n\\t\\t\\t<ul id=\"interestTcdArea\">\\r\\n\\t\\t\\t\\t<li><img src=\"http://img.mimacstudy.com/FRONT/main/img_tch_default.png\" alt=\"관심선생님 없음\" /></li>\\r\\n\\t\\t\\t\\t<li><img src=\"http://img.mimacstudy.com/FRONT/main/img_tch_default.png\" alt=\"관심선생님 없음\" /></li>\\r\\n\\t\\t\\t\\t<li><img src=\"http://img.mimacstudy.com/FRONT/main/img_tch_default.png\" alt=\"관심선생님 없음\" /></li>\\r\\n\\t\\t\\t\\t<li><img src=\"http://img.mimacstudy.com/FRONT/main/img_tch_default.png\" alt=\"관심선생님 없음\" /></li>\\r\\n\\t\\t\\t\\t<li><img src=\"http://img.mimacstudy.com/FRONT/main/img_tch_default.png\" alt=\"관심선생님 없음\" /></li>\\r\\n\\t\\t\\t\\t<li><img src=\"http://img.mimacstudy.com/FRONT/main/img_tch_default.png\" alt=\"관심선생님 없음\" /></li>\\r\\n\\t\\t\\t\\t<li><img src=\"http://img.mimacstudy.com/FRONT/main/img_tch_default.png\" alt=\"관심선생님 없음\" /></li>\\r\\n\\t\\t\\t\\t<li><img src=\"http://img.mimacstudy.com/FRONT/main/img_tch_default.png\" alt=\"관심선생님 없음\" /></li>\\r\\n\\t\\t\\t</ul>\\r\\n\\t\\t</div>\\r\\n\\t\\t<p id=\"bookmarkGuideBlock\" style=\"display: none;\" class=\"fav_guide\">선생님 이름 옆<span class=\"plus\">+</span>버튼을 누르시면 관심선생님으로 설정하실 수 있습니다.</p>\\r\\n\\t</div>\\r\\n\\t<div class=\"tchallsee\">\\r\\n\\t\\t<!--\\r\\n\\t\\t<div class=\"titwrap\">\\r\\n\\t\\t\\t<div class=\"fl\">\\r\\n\\t\\t\\t\\t<strong>선생님전체보기</strong>\\r\\n\\t\\t\\t\\t<button type=\"button\" id=\"tcdContentsCloseBtn\"><img src=\"http://img.mimacstudy.com/FRONT/main/btn_allsee_on.png\" alt=\"닫기\" /></button>\\r\\n\\t\\t\\t</div>\\r\\n\\r\\n\\t\\t</div>-->\\r\\n\\t\\t<div class=\"itemize\" id=\"tcdContentsBottom\">\\r\\n\\t\\t\\t<div>\\r\\n\\t\\t\\t\\t<strong>국어</strong>\\r\\n\\t\\t\\t\\t<div class=\"cont\"><ul id=\"topRelm01\"></ul></div>\\r\\n\\t\\t\\t</div>\\r\\n\\t\\t\\t<div>\\r\\n\\t\\t\\t\\t<strong>수학</strong>\\r\\n\\t\\t\\t\\t<div class=\"cont\"><ul id=\"topRelm02\"></ul></div>\\r\\n\\t\\t\\t</div>\\r\\n\\t\\t\\t<div>\\r\\n\\t\\t\\t\\t<strong>영어</strong>\\r\\n\\t\\t\\t\\t<div class=\"cont\"><ul id=\"topRelm03\"></ul></div>\\r\\n\\t\\t\\t</div>\\r\\n\\t\\t\\t<div class=\"etctype\">\\r\\n\\t\\t\\t\\t<strong>사회탐구</strong>\\r\\n\\t\\t\\t\\t<div class=\"cont\">\\r\\n\\t\\t\\t<!--    <em class=\"stit\">[한국사]</em>\\r\\n\\t\\t\\t\\t\\t<ul id=\"topRelm0409\"></ul>\\r\\n\\t\\t\\t-->\\r\\n\\r\\n\\t\\t\\t\\t\\t<em class=\"stit\">[생활과 윤리/윤리와 사상]</em>\\r\\n\\t\\t\\t\\t\\t<ul id=\"topRelm0411\">\\r\\n\\t\\t\\t\\t\\t\\t<!-- 윤리와 사상(0412) -->\\r\\n\\t\\t\\t\\t\\t</ul>\\r\\n\\t\\t\\t\\t\\t<em class=\"stit\">[사회문화]</em>\\r\\n\\t\\t\\t\\t\\t<ul id=\"topRelm0404\"></ul>\\r\\n\\r\\n\\t\\t\\t\\t\\t<em class=\"stit\">[동아시아사/세계사]</em>\\r\\n\\t\\t\\t\\t\\t<ul id=\"topRelm0413\"></ul>\\r\\n\\r\\n\\t\\t\\t\\t\\t<em class=\"stit\">[한국지리/세계지리]</em>\\r\\n\\t\\t\\t\\t\\t<ul id=\"topRelm0401\">\\r\\n\\t\\t\\t\\t\\t\\t<!-- 세계지리(0403) -->\\r\\n\\t\\t\\t\\t\\t</ul>\\r\\n\\t\\t\\t\\t\\t<em class=\"stit\">[정치와 법]</em>\\r\\n\\t\\t\\t\\t\\t<ul id=\"topRelm0410\"></ul>\\r\\n\\r\\n\\t\\t\\t\\t\\t<em class=\"stit\">[경제]</em>\\r\\n\\t\\t\\t\\t\\t<ul id=\"topRelm0402\"></ul>\\r\\n\\r\\n\\t\\t\\t\\t\\t<em class=\"stit\">[통합사회]</em>\\r\\n\\t\\t\\t\\t\\t<ul id=\"topRelm0406\"></ul>\\r\\n\\r\\n\\t\\t\\t\\t</div>\\r\\n\\t\\t\\t</div>\\r\\n\\t\\t\\t<div class=\"etctype\">\\r\\n\\t\\t\\t\\t<strong>과학탐구</strong>\\r\\n\\t\\t\\t\\t<div class=\"cont\">\\r\\n\\t\\t\\t\\t\\t<em class=\"stit\">[물리]</em>\\r\\n\\t\\t\\t\\t\\t<ul id=\"topRelm0501\">\\r\\n\\t\\t\\t\\t\\t\\t<!-- 물리 I(0501), 물리 II(0505), 물리[공통](0510) -->\\r\\n\\t\\t\\t\\t\\t</ul>\\r\\n\\t\\t\\t\\t\\t<em class=\"stit\">[화학]</em>\\r\\n\\t\\t\\t\\t\\t<ul id=\"topRelm0502\">\\r\\n\\t\\t\\t\\t\\t\\t<!-- 화학 I(0502), 화학 II(0506), 화학[공통](0511) -->\\r\\n\\t\\t\\t\\t\\t</ul>\\r\\n\\t\\t\\t\\t\\t<em class=\"stit\">[생명과학]</em>\\r\\n\\t\\t\\t\\t\\t<ul id=\"topRelm0503\">\\r\\n\\t\\t\\t\\t\\t\\t<!-- 생명과학 I(0503), 생명과학 II(0507), 생명과학[]공통](0512) -->\\r\\n\\t\\t\\t\\t\\t</ul>\\r\\n\\t\\t\\t\\t\\t<em class=\"stit\">[지구과학]</em>\\r\\n\\t\\t\\t\\t\\t<ul id=\"topRelm0504\">\\r\\n\\t\\t\\t\\t\\t\\t<!-- 지구과학 I(0504), 지구과학 II(0508), 지구과학[공통](0513) -->\\r\\n\\t\\t\\t\\t\\t</ul>\\r\\n\\t\\t\\t\\t\\t<em class=\"stit\">[통합과학]</em>\\r\\n\\t\\t\\t\\t\\t<ul id=\"topRelm0514\">\\r\\n\\t\\t\\t\\t\\t</ul>\\r\\n\\t\\t\\t\\t</div>\\r\\n\\t\\t\\t</div>\\r\\n\\t\\t\\t<div class=\"etctype\">\\r\\n\\t\\t\\t\\t<strong>한국사</strong>\\r\\n\\t\\t\\t\\t<div class=\"cont\">\\r\\n\\t\\t\\t\\t\\t<ul id=\"topRelm10\"></ul>\\r\\n\\t\\t\\t\\t</div>\\r\\n\\t\\t\\t\\t<strong class=\"titdepth\">대학별고사</strong>\\r\\n\\t\\t\\t\\t<div class=\"cont\">\\r\\n\\t\\t\\t\\t\\t<em class=\"stit\">[인문논술]</em>\\r\\n\\t\\t\\t\\t\\t<ul id=\"topRelm0701\"></ul>\\r\\n\\t\\t\\t\\t\\t<em class=\"stit\">[수리논술]</em>\\r\\n\\t\\t\\t\\t\\t<ul id=\"topRelm0702\"></ul>\\r\\n\\t\\t\\t\\t\\t<!-- <em class=\"stit\">[과학논술]</em>\\r\\n\\t\\t\\t\\t\\t<ul id=\"topRelm0703\"></ul> -->\\r\\n\\t\\t\\t\\t\\t<em class=\"stit\">[구술면접]</em>\\r\\n\\t\\t\\t\\t\\t<ul id=\"topRelm0706\"></ul>\\r\\n\\t\\t\\t\\t\\t<em class=\"stit\">[미대입학사정관]</em>\\r\\n\\t\\t\\t\\t\\t<ul id=\"topRelm0705\"></ul>\\r\\n\\t\\t\\t\\t</div>\\r\\n\\t\\t\\t</div>\\r\\n\\r\\n\\t\\t\\t<div class=\"etctype\">\\r\\n\\t\\t\\t\\t<strong>제2외국어</strong>\\r\\n\\t\\t\\t\\t<div class=\"cont\">\\r\\n\\t\\t\\t\\t\\t<em class=\"stit\">[아랍어]</em>\\r\\n\\t\\t\\t\\t\\t<ul id=\"topRelm0607\"></ul>\\r\\n\\t\\t\\t\\t\\t<em class=\"stit\">[베트남어]</em>\\r\\n\\t\\t\\t\\t\\t<ul id=\"topRelm0609\"></ul>\\r\\n\\t\\t\\t\\t\\t<em class=\"stit\">[스페인어]</em>\\r\\n\\t\\t\\t\\t\\t<ul id=\"topRelm0605\"></ul>\\r\\n\\t\\t\\t\\t\\t<em class=\"stit\">[중국어]</em>\\r\\n\\t\\t\\t\\t\\t<ul id=\"topRelm0603\"></ul>\\r\\n\\t\\t\\t\\t</div>\\r\\n\\t\\t\\t\\t<strong class=\"titdepth\">마이맥 모의고사</strong>\\r\\n\\t\\t\\t\\t<div class=\"cont\">\\r\\n\\t\\t\\t\\t\\t<em class=\"stit\">[국어]</em>\\r\\n\\t\\t\\t\\t\\t<!---- <ul>\\r\\n\\t\\t\\t\\t\\t\\t<li><a href=\"/tcher/eachTcherMain.ds?coType=M&relm=01&subj=&tcd=957&type=01957\">강대국어 모의고사</a></li>\\r\\n\\t\\t\\t\\t\\t</ul>-->\\r\\n\\t\\t\\t\\t\\t<ul>\\r\\n\\t\\t\\t\\t\\t\\t<li><a href=\"/tcher/eachTcherMain.ds?coType=M&relm=01&subj=&tcd=958&type=01958\">이감 국어 모의고사</a></li>\\r\\n\\t\\t\\t\\t\\t</ul>\\r\\n\\t\\t\\t\\t\\t<!---- <ul>\\r\\n\\t\\t\\t\\t\\t\\t<li><a href=\"/tcher/eachTcherMain.ds?coType=M&relm=01&subj=&tcd=942&type=01942\">상상국어 모의고사</a></li>\\r\\n\\t\\t\\t\\t\\t</ul>-->\\r\\n\\t\\t\\t\\t\\t<em class=\"stit\">[수학]</em>\\r\\n\\t\\t\\t\\t\\t<ul>\\r\\n\\t\\t\\t\\t\\t\\t<li style=\"font-size:11px\"><a href=\"/tcher/eachTcherMain.ds?coType=M&relm=02&subj=&tcd=968&type=02968\">히든카이스 수학 모의고사</a></li>\\r\\n\\t\\t\\t\\t\\t</ul>\\r\\n\\t\\t\\t\\t\\t<ul>\\r\\n\\t\\t\\t\\t\\t\\t<li><a href=\"/ex/t202/2019/1106/847363_indexfull.ds\">자유사고 모의고사</a></li>\\r\\n\\t\\t\\t\\t\\t</ul>\\r\\n\\t\\t\\t\\t</div>\\r\\n\\t\\t\\t</div>\\r\\n\\t\\t</div>\\r\\n\\t</div>\\r\\n\\t<button type=\"button\" id=\"tcdLayerCloseBtn\" class=\"btn_close mpopclose02\" style=\"top:5px; right:8px; background:url(\\'http://img.mimacstudy.com/FRONT/btn/btn_pop_close_05.png\\') no-repeat\">Close</button>\\r\\n</div>\\r\\n<!-- //E: 마이맥 관심선생님 레이어팝업 -->\\r\\n<!-- S: 마이맥 빠른강좌찾기 레이어팝업 -->\\r\\n\\r\\n<style type=\"text/css\">\\r\\n\\tbody{min-width:100%}\\r\\n</style>\\r\\n<script type=\"text/javascript\">\\r\\n\\t/* reset */\\r\\n\\tfunction quickLctrReset(type){\\r\\n\\t\\t$(\"#quickRelmArea\").find(\"button\").removeClass(\"on\");\\r\\n\\t\\t$(\"#quickChkRelm\").val(null);\\r\\n\\t\\t$(\"#quickChkTchrList\").val(null);\\r\\n\\t\\t$(\"#quickChkSubjList\").val(null);\\r\\n\\t\\t$(\"#quickChkTypeList\").val(null);\\r\\n\\t\\t$(\"#quickLctrResult\").empty();\\r\\n\\t\\t$(\"#quickLctrArea\").hide(); \\r\\n\\r\\n\\t\\tvar tcdAddHtml =\"<em>2.선생님</em>\"\\r\\n\\t\\t\\t+\"<p class=\\\\\"nosel\\\\\">영역을 선택해 주세요. </p>\";\\r\\n\\t\\t\\r\\n\\t\\t$(\"#quickTchrArea\").html(tcdAddHtml);\\r\\n\\r\\n\\t\\tvar subjAddHtml =\"<em>3.과목</em>\"\\r\\n\\t\\t\\t+\"<p class=\\\\\"nosel\\\\\"><span>영역 > 선생님</span>을 선택해 주세요.</p>\";\\r\\n\\t\\t\\r\\n\\t\\t$(\"#quickSubjArea\").html(subjAddHtml);\\r\\n\\t\\t\\t\\r\\n\\t\\tvar typeAddHtml =\"<em>3.과목</em>\"\\r\\n\\t\\t\\t+\"<p class=\\\\\"nosel\\\\\"><span>선생님 > 과목</span>을 선택해 주세요.</p>\";\\r\\n\\t\\t\\t\\t\\r\\n\\t\\t$(\"#quickTypeArea\").html(typeAddHtml);\\r\\n\\t\\t\\r\\n\\t\\tif(type ==\\'C\\'){\\r\\n\\t\\t\\t$(\\'#layerQuickLctrPop\\').hide();\\r\\n\\t\\t}\\r\\n\\t}\\r\\n\\t\\r\\n\\r\\n\\t/* 체크박스 전체 선택/해제  */\\r\\n\\t$(document).on(\"click\", \"#quickChkBody :checkbox\", function(event) {\\r\\n\\t\\tvar chkDiv = $(this).parent().parent().parent().attr(\"id\");\\r\\n\\t\\tvar tbl = $(\"#\"+chkDiv);\\r\\n\\t\\tvar value = $(this).val();\\r\\n\\t\\tif(!value){ \\r\\n\\t\\t\\t$(\":checkbox\", tbl).prop(\\'checked\\', this.checked);\\r\\n\\t\\t} else {\\t\\t\\r\\n\\t\\t\\tvar allCnt = $(\":checkbox:not(:first)\", tbl).length;\\r\\n\\t\\t\\tvar checkedCnt = $(\":checkbox:not(:first)\", tbl).filter(\":checked\").length;\\r\\n\\r\\n\\t\\t\\tif(allCnt == checkedCnt)$(\":checkbox:first\", tbl).prop(\"checked\", true);\\r\\n\\t\\t\\telse $(\":checkbox:first\", tbl).prop(\"checked\", false);\\r\\n\\t\\t}\\r\\n\\r\\n\\t\\tvar chkValue =\"\";\\r\\n\\t\\t$(\":checkbox\", tbl).each(function(){\\r\\n\\t\\t\\tif(this.checked == true && this.value != \"\"){\\r\\n\\t\\t\\t\\tchkValue += this.value + \\',\\';\\r\\n\\t\\t\\t}\\r\\n\\t\\t});\\r\\n\\t\\tchkList = chkValue.slice(0,-1);\\r\\n\\r\\n\\t\\tif(chkDiv == \"quickTchrArea\"){\\r\\n\\t\\t\\t$(\"#quickChkTchrList\").val(chkList);\\r\\n\\t\\t\\tgetQuickSubjList(chkList);\\r\\n\\t\\t}\\r\\n\\t\\tif(chkDiv == \"quickSubjArea\"){\\r\\n\\t\\t\\t$(\"#quickChkSubjList\").val(chkList);\\r\\n\\t\\t\\tgetQuickTypeList(chkList);\\r\\n\\t\\t}\\r\\n\\t\\tif(chkDiv == \"quickTypeArea\") $(\"#quickChkTypeList\").val(chkList);\\r\\n\\t\\t\\r\\n\\t\\t//강좌리스트 호출(강사코드 필수)\\r\\n\\t\\tif($(\"#quickChkTchrList\").val()) getQuickLctrList(1);\\r\\n\\t\\telse {\\r\\n\\t\\t\\t$(\"#quickLctrResult\").empty();\\r\\n\\t\\t\\t$(\"#quickLctrArea\").hide();\\r\\n\\t\\t}\\r\\n\\t});\\r\\n\\t\\r\\n\\t/* 과목호출 */\\r\\n\\tfunction getQuickSubjList(tcdList){\\r\\n\\t\\t//유형초기화\\r\\n\\t\\tvar typeAddHtml =\"<em>4.유형</em>\"\\r\\n\\t\\t\\t+\"<p class=\\\\\"nosel\\\\\"><span>선생님 > 과목</span>을 선택해 주세요.</p>\";\\t\\t\\t\\r\\n\\t\\t$(\"#quickTypeArea\").html(typeAddHtml);\\t\\r\\n\\t\\t$(\"#quickChkTypeList\").val(null);\\r\\n\\t\\t\\r\\n\\t\\tvar relm = $(\"#quickChkRelm\").val();\\r\\n\\t\\tvar addHtml = \"\";\\r\\n\\t\\tif(tcdList){\\r\\n\\t\\t\\t$.ajax({\\r\\n\\t\\t        type : \"POST\",\\r\\n\\t\\t        async: false,\\r\\n\\t\\t        dataType : \"json\",\\r\\n\\t\\t        data : {\"relm\" : relm, \"tcdList\" : tcdList},\\r\\n\\t\\t        url : \"/common/getQuickLctrSubjListAjax.ds\",\\r\\n\\t\\t        success : function(data){\\r\\n\\t\\t        \\tif(data.code == \"success\")\\r\\n\\t\\t\\t\\t\\t{\\r\\n\\t\\t        \\t\\t\\r\\n\\t\\t\\t        \\taddHtml +=\"<em>3.과목</em>\";\\r\\n\\t\\t\\t        \\tif(data.data.length > 0){\\t\\r\\n\\t\\t\\t        \\t\\taddHtml\\t+=\"<ul class=\\\\\"check_sel\\\\\">\"\\r\\n\\t\\t\\t        \\t\\t\\t\\t+\"<li class=\\\\\"all\\\\\"><input type=\\\\\"checkbox\\\\\" id=\\\\\"c_all\\\\\" name=\\\\\"qsSubjChk\\\\\" value=\\\\\"\\\\\"><label for=\\\\\"c_all\\\\\">전체</label></li>\";\\r\\n\\t\\t\\t\\t\\t\\t\\tfor(var i=0; i<data.data.length; i++)\\r\\n\\t\\t\\t\\t\\t\\t\\t{\\r\\n\\t\\t\\t\\t\\t\\t\\t\\taddHtml +=\"<li><input type=\\\\\"checkbox\\\\\" id=\\\\\"c\"+data.data[i].subj+\"\\\\\" name=\\\\\"qsSubjChk\\\\\" value=\\\\\"\"+data.data[i].subj+\"\\\\\"><label for=\\\\\"c\"+data.data[i].subj+\"\\\\\">\"+data.data[i].subjName+\"</label></li>\";\\r\\n\\t\\t\\t\\t\\t\\t\\t}\\r\\n\\t\\t\\t\\t\\t\\t\\taddHtml += \"</ul>\";\\r\\n\\t\\t        \\t\\t} else {\\r\\n\\t\\t        \\t\\t\\t//유형 비노출\\r\\n\\t\\t        \\t\\t\\t$(\"#quickTypeArea\").html(\"<em>4.유형</em>\");\\r\\n\\t\\t        \\t\\t}\\r\\n\\t\\t\\t\\t\\t} \\r\\n\\t\\t        },\\r\\n\\t\\t        error: function(xhr,  Status, error) {\\r\\n\\t\\t        }\\r\\n\\t\\t    });\\r\\n\\t\\t} else {\\r\\n\\t\\t\\taddHtml +=\"<em>3.과목</em>\"\\r\\n\\t\\t\\t\\t\\t+\"<p class=\\\\\"nosel\\\\\"><span>영역 > 선생님</span>을 선택해 주세요.</p>\";\\r\\n\\t\\t\\t\\t\\t\\r\\n\\t\\t\\t$(\"#quickChkSubjList\").val(null);\\r\\n\\t\\t}\\r\\n\\t\\t$(\"#quickSubjArea\").html(addHtml);\\r\\n\\t}\\r\\n\\t\\r\\n\\t/* 유형호출 */\\r\\n\\tfunction getQuickTypeList(subjList){\\r\\n\\t\\tvar relm = $(\"#quickChkRelm\").val();\\r\\n\\t\\tvar tcdList = $(\"#quickChkTchrList\").val();\\r\\n\\t\\tvar addHtml = \"\";\\r\\n\\t\\tif(subjList){\\r\\n\\t\\t\\t$.ajax({\\r\\n\\t\\t        type : \"POST\",\\r\\n\\t\\t        async: false,\\r\\n\\t\\t        dataType : \"json\",\\r\\n\\t\\t        data : {\"relm\" : relm, \"tcdList\" : tcdList, \"subjList\" : subjList},\\r\\n\\t\\t        url : \"/common/getQuickLctrTypeListAjax.ds\",\\r\\n\\t\\t        success : function(data){\\r\\n\\t\\t        \\tif(data.code == \"success\")\\r\\n\\t\\t\\t\\t\\t{\\r\\n\\t\\t        \\t\\t\\r\\n\\t\\t\\t        \\taddHtml +=\"<em>4.유형</em>\";\\r\\n\\t\\t\\t        \\tif(data.data.length > 0){\\r\\n\\t\\t\\t        \\t\\taddHtml\\t+=\"<ul class=\\\\\"check_sel\\\\\">\"\\r\\n\\t\\t\\t        \\t\\t\\t\\t+\"<li class=\\\\\"all\\\\\"><input type=\\\\\"checkbox\\\\\" id=\\\\\"d_all\\\\\" name=\\\\\"qsTypeChk\\\\\" value=\\\\\"\\\\\"><label for=\\\\\"d_all\\\\\">전체</label></li>\";\\r\\n\\t\\t\\t\\t\\t\\t\\tfor(var i=0; i<data.data.length; i++)\\r\\n\\t\\t\\t\\t\\t\\t\\t{\\r\\n\\t\\t\\t\\t\\t\\t\\t\\taddHtml +=\"<li><input type=\\\\\"checkbox\\\\\" id=\\\\\"d\"+data.data[i].lctrType+\"\\\\\" name=\\\\\"qsTypeChk\\\\\" value=\\\\\"\"+data.data[i].lctrType+\"\\\\\"><label for=\\\\\"d\"+data.data[i].lctrType+\"\\\\\">\"+data.data[i].lctrTypeName+\"</label></li>\";\\r\\n\\t\\t\\t\\t\\t\\t\\t}\\r\\n\\t\\t\\t\\t\\t\\t\\taddHtml += \"</ul>\";\\r\\n\\t\\t        \\t\\t}\\r\\n\\t\\t\\t\\t\\t} \\r\\n\\t\\t        },\\r\\n\\t\\t        error: function(xhr,  Status, error) {\\r\\n\\t\\t        }\\r\\n\\t\\t    });\\r\\n\\t\\t} else {\\r\\n\\t\\t\\taddHtml +=\"<em>4.유형</em>\"\\r\\n\\t\\t\\t\\t\\t+\"<p class=\\\\\"nosel\\\\\"><span>선생님 > 과목</span>을 선택해 주세요.</p>\";\\r\\n\\t\\t\\t$(\"#quickChkTypeList\").val(null);\\r\\n\\t\\t}\\r\\n\\t\\t\\r\\n\\t\\t$(\"#quickTypeArea\").html(addHtml);\\r\\n\\t}\\r\\n\\t\\r\\n\\t\\r\\n\\t/* 강좌리스트 */\\r\\n\\tfunction getQuickLctrList(currPage){   \\r\\n\\t\\tvar relm = $(\"#quickChkRelm\").val();\\r\\n\\t\\tvar tcdList = $(\"#quickChkTchrList\").val();\\r\\n\\t\\tvar subjList = $(\"#quickChkSubjList\").val();\\r\\n\\t\\tvar typeList = $(\"#quickChkTypeList\").val();\\r\\n\\t\\t\\r\\n\\t\\t//alert(tcdList+\"==\"+subjList+\"==\"+typeList);\\r\\n\\t\\t\\r\\n\\t\\t$.ajax({\\r\\n\\t\\t\\ttype     : \"POST\",\\r\\n\\t\\t\\turl : \"/common/getQuickLctrListAjax.ds\",\\r\\n\\t\\t\\tdataType : \"html\",\\r\\n\\t\\t\\tasync: true,\\r\\n\\t\\t\\tdata : {currPage : currPage,  //pagePerCnt\\r\\n\\t\\t\\t\\t\\trelm : relm, \\r\\n\\t\\t\\t\\t\\ttcdList : tcdList, \\r\\n\\t\\t\\t\\t\\tsubjList : subjList, \\r\\n\\t\\t\\t\\t\\ttypeList : typeList},\\r\\n\\t\\t\\tsuccess : function(result){\\r\\n\\t\\t\\t\\t$(\"#quickLctrArea\").show();\\r\\n\\t\\t\\t\\tif(currPage == 1) $(\"#quickLctrResult\").html(result);\\r\\n\\t\\t\\t\\telse              $(\"#quickLctrResult\").append(result); \\r\\n\\t\\t\\t},\\r\\n\\t\\t\\terror:function(request,status,error){\\r\\n\\t\\t    \\talert(\"code:\"+request.status+\"\\\\n\"+\"message:\"+request.responseText+\"\\\\n\"+\"error:\"+error);\\r\\n\\t\\t    }\\r\\n\\t\\t});\\t\\r\\n\\t}\\r\\n\\t\\r\\n\\t\\r\\n\\t$(document).on(\"click\", \"button[name=\\'quickLctrPay\\'], button[name=\\'quickLctrCart\\']\", function(event) {\\r\\n\\t\\tvar quickSelfUrl = document.location.pathname;\\r\\n\\t\\tif(\"true\" == \"true\") {\\r\\n\\t\\t\\tif (confirm(\"로그인이 필요한 서비스 입니다.\\\\n로그인화면으로 이동하시겠습니까?\")) {\\r\\n\\t\\t\\t\\tlocation.href=\"/mem/callLoginForm.ds?refUrl=\"+quickSelfUrl;\\r\\n\\r\\n\\t\\t\\t\\treturn;\\r\\n\\t\\t\\t}\\r\\n\\t\\t} else {\\r\\n\\t\\t\\tif ($(\"input[name=quickLctrChk]:checked\").length < 1) {\\r\\n\\t\\t\\t\\talert(\"상품을 선택해 주세요.\");\\r\\n\\t\\t\\t\\treturn false;\\r\\n\\t\\t\\t} else {\\t\\t\\t\\r\\n\\t\\t\\t\\tvar jsonListObject = {\"buyList\" : []};\\r\\n\\r\\n\\t            $(\"input[name=quickLctrChk]:checked\").each(function () {\\r\\n\\t                var arrPid = $(this).val().split(\\',\\');\\r\\n\\t                var upPid = $(this).attr(\\'upPid\\').split(\\',\\');\\r\\n\\r\\n\\t                $.each(arrPid,function(index, item){\\r\\n\\r\\n\\t                    var jsonObject = {\\r\\n\\t                            \"pid\" : item,\\r\\n\\t                            \"upPid\" : upPid[index],\\r\\n\\t                            \"buyUrl\" : quickSelfUrl,\\r\\n\\t                            \"pushYn\" : \"\"\\r\\n\\t                        };\\r\\n\\r\\n\\t                        jsonListObject.buyList.push(jsonObject);\\r\\n\\r\\n\\t                }) ;\\r\\n\\r\\n\\t            });\\r\\n\\r\\n\\r\\n\\t\\t\\t\\tvar data = {\"mode\" : \"insert\", \"buyList\" : JSON.stringify(jsonListObject)};\\r\\n\\r\\n\\t\\t\\t\\tif ($(this).attr(\"name\") == \"quickLctrCart\") {\\r\\n\\t\\t\\t\\t\\taddShoppingCart(\\'\\', data);\\r\\n\\t\\t\\t\\t}\\r\\n\\r\\n\\t\\t\\t\\tif ($(this).attr(\"name\") == \"quickLctrPay\") {\\r\\n\\t\\t\\t\\t\\t$(\"#quickSearchForm > #quickBuyList\").val(JSON.stringify(jsonListObject));\\r\\n\\t\\t\\t\\t\\t$(\"#quickSearchForm\").attr(\"action\", \"/myzone/paymentMain.ds\");\\r\\n\\t\\t\\t\\t\\t$(\"#quickSearchForm\").submit();\\r\\n\\t\\t\\t\\t}\\r\\n\\t\\t\\t}\\r\\n\\t\\t}\\r\\n\\t});\\r\\n\\t\\r\\n\\t$(document).ready(function() {\\r\\n\\t\\t/* 고정메뉴 */\\r\\n\\t\\t$(\\'.sch_section input\\').focus(function(){\\r\\n\\t\\t\\t$(\\'.sch_section\\').removeClass(\\'on\\');\\r\\n\\t\\t\\t$(this).parents(\\'.sch_section\\').addClass(\\'on\\');\\r\\n\\t\\t});\\r\\n\\t\\t\\r\\n\\t\\t/* 영역 -> 강사호출 */\\r\\n\\t\\t$(\\'#quickRelmArea button\\').click(function(){\\r\\n\\t\\t\\tquickLctrReset();\\r\\n\\t\\t\\t$(this).addClass(\"on\"); //나머지는 초기화\\r\\n\\t\\t\\tvar relm = $(this).attr(\"relm\");\\t\\r\\n\\t\\t\\t$(\"#quickChkRelm\").val(relm);\\r\\n\\t\\t\\t\\r\\n\\t\\t\\t$.ajax({\\r\\n\\t\\t        type : \"POST\",\\r\\n\\t\\t        async: false,\\r\\n\\t\\t        dataType : \"json\",\\r\\n\\t\\t        data : {\"relm\" : relm},\\r\\n\\t\\t        url : \"/common/getQuickLctrTchrListAjax.ds\",\\r\\n\\t\\t        success : function(data){\\r\\n\\t\\t        \\tif(data.code == \"success\")\\r\\n\\t\\t\\t\\t\\t{\\r\\n\\t\\t        \\t\\tvar addHtml = \"\";\\r\\n\\t\\t        \\t\\tvar newBtn = \"\";\\r\\n\\t\\t        \\t\\t\\r\\n\\t\\t        \\t\\taddHtml +=\"<em>2.선생님</em>\"\\r\\n\\t\\t        \\t\\t\\t\\t+\"<ul class=\\\\\"check_sel\\\\\">\"\\r\\n\\t\\t        \\t\\t\\t\\t+\"<li class=\\\\\"all\\\\\"><input type=\\\\\"checkbox\\\\\" id=\\\\\"t_all\\\\\" name=\\\\\"qsTcdChk\\\\\" value=\\\\\"\\\\\"><label for=\\\\\"t_all\\\\\">전체</label></li>\";\\r\\n\\t\\t\\t\\t\\t\\tfor(var i=0; i<data.data.length; i++)\\r\\n\\t\\t\\t\\t\\t\\t{\\r\\n\\t\\t\\t\\t\\t\\t\\tif(data.data[i].ttNewYn == \"Y\") newBtn = \"<img src=\\'http://img.mimacstudy.com/FRONT/main/icon_new_2.png\\'/>\";\\r\\n\\t\\t\\t\\t\\t\\t\\telse newBtn = \"\";\\r\\n\\t\\t\\t\\t\\t\\t\\t\\r\\n\\t\\t\\t\\t\\t\\t\\taddHtml +=\"<li><input type=\\\\\"checkbox\\\\\" id=\\\\\"t\"+data.data[i].tcd+\"\\\\\" name=\\\\\"qsTcdChk\\\\\" value=\\\\\"\"+data.data[i].tcd+\"\\\\\"><label for=\\\\\"t\"+data.data[i].tcd+\"\\\\\">\"+data.data[i].tcdName+\"</label> \"+newBtn+\"</li>\";\\r\\n\\t\\t\\t\\t\\t\\t}\\r\\n\\t\\t\\t\\t\\t\\taddHtml += \"</ul>\";\\r\\n\\t\\t\\t\\t\\t\\t\\r\\n\\t\\t\\t\\t\\t\\t$(\"#quickTchrArea\").html(addHtml);\\r\\n\\t\\t\\t\\t\\t} \\r\\n\\t\\t        },\\r\\n\\t\\t        error: function(xhr,  Status, error) {\\r\\n\\t\\t        }\\r\\n\\t\\t    });\\r\\n\\t\\t});\\r\\n\\t\\t\\r\\n\\t\\t\\r\\n\\t});\\r\\n</script>\\r\\n<div class=\"quick_lctr_find\" id=\"layerQuickLctrPop\" style=\" display: none;\">\\r\\n\\t<form id=\"quickSearchForm\" name=\"quickSearchForm\" method=\"post\" action=\"\">\\r\\n\\t\\t<input type=\"hidden\" id=\"mode\" name=\"mode\" />\\r\\n\\t\\t<input type=\"hidden\" id=\"quickBuyList\" name=\"buyList\" />\\r\\n\\t</form>\\r\\n\\r\\n\\t<input type=\"hidden\" id=\"quickChkRelm\" value=\"\" />\\r\\n\\t<input type=\"hidden\" id=\"quickChkTchrList\" value=\"\" />\\r\\n\\t<input type=\"hidden\" id=\"quickChkSubjList\" value=\"\" />\\r\\n\\t<input type=\"hidden\" id=\"quickChkTypeList\" value=\"\" />\\r\\n\\t<div id=\"quickChkBody\">\\r\\n\\t\\t<div class=\"sch_section on\">\\r\\n\\t\\t\\t<em>1.영역</em>\\r\\n\\t\\t\\t<ul class=\"sel_cls\" id=\"quickRelmArea\">\\r\\n\\t\\t\\t\\t<li><button type=\"button\" relm=\"01\">국어</button></li> <!--  button 에 on -->\\r\\n\\t\\t\\t\\t<li><button type=\"button\" relm=\"02\">수학</button></li>\\r\\n\\t\\t\\t\\t<li><button type=\"button\" relm=\"03\">영어</button></li>\\r\\n\\t\\t\\t\\t<li><button type=\"button\" relm=\"04\">사회탐구</button></li>\\r\\n\\t\\t\\t\\t<li><button type=\"button\" relm=\"05\">과학탐구</button></li>\\r\\n\\t\\t\\t\\t<li><button type=\"button\" relm=\"06\">제2외국어</button></li>\\r\\n\\t\\t\\t\\t<li><button type=\"button\" relm=\"10\">한국사</button></li>\\r\\n\\t\\t\\t</ul>\\r\\n\\t\\t</div>\\r\\n\\t\\t<div class=\"sch_section\" id=\"quickTchrArea\">\\r\\n\\t\\t\\t<em>2.선생님</em>\\r\\n\\t\\t\\t<p class=\"nosel\">영역을 선택해 주세요. </p>\\r\\n\\t\\t</div>\\r\\n\\t\\t<div class=\"sch_section\" id=\"quickSubjArea\">\\r\\n\\t\\t\\t<em>3.과목</em>\\r\\n\\t\\t\\t<p class=\"nosel\"><span>영역 > 선생님</span>을 선택해 주세요.</p>\\r\\n\\t\\t</div>\\r\\n\\t\\t<div class=\"sch_section\" id=\"quickTypeArea\">\\r\\n\\t\\t\\t<em>4.유형</em>\\r\\n\\t\\t\\t<p class=\"nosel\"><span>선생님 > 과목</span>을 선택해 주세요.</p>\\r\\n\\t\\t</div>\\r\\n\\t</div>\\r\\n\\t\\r\\n\\t<div class=\"sch_result_lec\" id=\"quickLctrArea\" style=\"display:none\">\\r\\n\\t\\t<div class=\"inner\">\\r\\n\\t\\t\\t<ul class=\"sch_result_list\" id=\"quickLctrResult\">\\r\\n\\t\\t\\t</ul>\\r\\n\\t\\t</div>\\r\\n\\t\\t<div class=\"more_bt\" id=\"quick_lctr_more\">\\r\\n\\t\\t</div>\\r\\n\\t</div>\\r\\n\\r\\n\\t<button class=\"close_quick_search\" type=\"button\" onclick=\"quickLctrReset(\\'C\\');\">\\r\\n\\t\\t<span class=\"hidden\">닫기</span>\\r\\n\\t\\t<span class=\"bar\"></span>\\r\\n\\t\\t<span class=\"bar\"></span>\\r\\n\\t</button>\\r\\n\\r\\n\\t<button class=\"reload\" type=\"button\"  onclick=\"quickLctrReset();\">\\r\\n\\t\\t<span class=\"hidden\">새로고침</span>\\r\\n\\t</button>\\r\\n\\r\\n</div>\\r\\n\\r\\n<!--// 빠른강좌 검색-->\\r\\n<!-- //E: 마이맥 빠른강좌찾기 레이어팝업 -->\\r\\n<form id=\"topPageForm\" name=\"topPageForm\" method=\"post\">\\r\\n\\t<input type=\"hidden\" id=\"topSearchText\" name=\"topSearchText\" />\\r\\n\\t<input type=\"hidden\" id=\"srchRmAddr\" name=\"srchRmAddr\" />\\r\\n\\t<input type=\"hidden\" id=\"requestMenuId\" name=\"requestMenuId\" value=\"MNMN_M016\" />\\r\\n</form>\\r\\n<!--  동시구매 이벤트 안내\\r\\n--><!-- //E: Header -->\\r\\n\\t<div class=\"midarea mteacher\">\\r\\n\\t\\t<!-- S: leftarea -->\\r\\n\\t\\t<!DOCTYPE html>\\r\\n<html lang=\"ko\">\\r\\n<head>\\r\\n\\t<meta charset=\"euc-kr\">\\r\\n\\t<title></title>\\r\\n\\t<meta http-equiv=\"X-UA-Compatible\" content=\"IE=edge\" />\\r\\n\\t<meta content=\"대성마이맥 메인페이지입니다.\" name=\"description\" />\\r\\n\\t<meta content=\"대성마이맥\" name=\"keywords\" />\\r\\n\\r\\n\\t<script type=\"text/javascript\">\\r\\n\\t\\t$(document).ready(function() {\\r\\n\\t\\t\\tvar tchList \\t\\t= $.parseJSON(\\'[{\"isleaf\":0,\"level\":1,\"menuId\":\"M000000185\",\"upMenuId\":\"MNMN_M004\",\"menuName\":\"국어\",\"menuDesc\":\"국어\",\"sortOrd\":0,\"newYn\":\"N\",\"remark\":\"relm=01\"},{\"isleaf\":1,\"level\":2,\"menuId\":\"M000000095\",\"upMenuId\":\"M000000185\",\"menuName\":\"박광일\",\"menuDesc\":\"국어\",\"scrnId\":\"M000000201\",\"sortOrd\":0,\"newYn\":\"N\",\"remark\":\"tcd=133&relm=01\"},{\"isleaf\":1,\"level\":2,\"menuId\":\"M000000448\",\"upMenuId\":\"M000000185\",\"menuName\":\"김승리\",\"menuDesc\":\"국어\",\"scrnId\":\"M000000201\",\"sortOrd\":1,\"newYn\":\"N\",\"remark\":\"tcd=925&relm=01\"},{\"isleaf\":1,\"level\":2,\"menuId\":\"M000000096\",\"upMenuId\":\"M000000185\",\"menuName\":\"전형태\",\"menuDesc\":\"국어\",\"scrnId\":\"M000000201\",\"sortOrd\":2,\"newYn\":\"N\",\"remark\":\"tcd=166&relm=01\"},{\"isleaf\":1,\"level\":2,\"menuId\":\"M000000327\",\"upMenuId\":\"M000000185\",\"menuName\":\"김상훈\",\"menuDesc\":\"국어\",\"scrnId\":\"M000000201\",\"sortOrd\":3,\"newYn\":\"N\",\"remark\":\"tcd=180&relm=01\"},{\"isleaf\":1,\"level\":2,\"menuId\":\"M000000538\",\"upMenuId\":\"M000000185\",\"menuName\":\"김민경\",\"menuDesc\":\"국어\",\"scrnId\":\"M000000201\",\"sortOrd\":4,\"newYn\":\"N\",\"remark\":\"tcd=947&relm=01\"},{\"isleaf\":1,\"level\":2,\"menuId\":\"M000000702\",\"upMenuId\":\"M000000185\",\"menuName\":\"김젬마\",\"menuDesc\":\"국어\",\"scrnId\":\"M000000201\",\"sortOrd\":5,\"newYn\":\"Y\",\"remark\":\"tcd=970&relm=01\"},{\"isleaf\":0,\"level\":1,\"menuId\":\"M000000186\",\"upMenuId\":\"MNMN_M004\",\"menuName\":\"수학\",\"menuDesc\":\"수학\",\"sortOrd\":1,\"newYn\":\"N\",\"remark\":\"relm=02\"},{\"isleaf\":1,\"level\":2,\"menuId\":\"M000000100\",\"upMenuId\":\"M000000186\",\"menuName\":\"한석원\",\"menuDesc\":\"수학\",\"scrnId\":\"M000000201\",\"sortOrd\":0,\"newYn\":\"N\",\"remark\":\"tcd=278&relm=02\"},{\"isleaf\":1,\"level\":2,\"menuId\":\"M000000427\",\"upMenuId\":\"M000000186\",\"menuName\":\"배성민\",\"menuDesc\":\"수학\",\"scrnId\":\"M000000201\",\"sortOrd\":1,\"newYn\":\"N\",\"remark\":\"tcd=924&relm=02\"},{\"isleaf\":1,\"level\":2,\"menuId\":\"M000000669\",\"upMenuId\":\"M000000186\",\"menuName\":\"정상모\",\"menuDesc\":\"수학\",\"scrnId\":\"M000000201\",\"sortOrd\":2,\"newYn\":\"Y\",\"remark\":\"tcd=969&relm=02\"},{\"isleaf\":1,\"level\":2,\"menuId\":\"M000000101\",\"upMenuId\":\"M000000186\",\"menuName\":\"이창무\",\"menuDesc\":\"수학\",\"scrnId\":\"M000000201\",\"sortOrd\":3,\"newYn\":\"N\",\"remark\":\"tcd=262&relm=02\"},{\"isleaf\":1,\"level\":2,\"menuId\":\"M000000537\",\"upMenuId\":\"M000000186\",\"menuName\":\"정병호+정병훈\",\"menuDesc\":\"수학\",\"scrnId\":\"M000000201\",\"sortOrd\":4,\"newYn\":\"N\",\"remark\":\"tcd=943&relm=02\"},{\"isleaf\":1,\"level\":2,\"menuId\":\"M000000425\",\"upMenuId\":\"M000000186\",\"menuName\":\"김경한\",\"menuDesc\":\"수학\",\"scrnId\":\"M000000201\",\"sortOrd\":5,\"newYn\":\"N\",\"remark\":\"tcd=923&relm=02\"},{\"isleaf\":1,\"level\":2,\"menuId\":\"M000000603\",\"upMenuId\":\"M000000186\",\"menuName\":\"이정환\",\"menuDesc\":\"수학\",\"scrnId\":\"M000000201\",\"sortOrd\":6,\"newYn\":\"N\",\"remark\":\"tcd=954&relm=02\"},{\"isleaf\":1,\"level\":2,\"menuId\":\"M000000675\",\"upMenuId\":\"M000000186\",\"menuName\":\"안성현\",\"menuDesc\":\"수학\",\"scrnId\":\"M000000201\",\"sortOrd\":7,\"newYn\":\"Y\",\"remark\":\"tcd=963&relm=02\"},{\"isleaf\":1,\"level\":2,\"menuId\":\"M000000676\",\"upMenuId\":\"M000000186\",\"menuName\":\"이승열\",\"menuDesc\":\"수학\",\"scrnId\":\"M000000201\",\"sortOrd\":8,\"newYn\":\"Y\",\"remark\":\"tcd=930&relm=02\"},{\"isleaf\":0,\"level\":1,\"menuId\":\"M000000187\",\"upMenuId\":\"MNMN_M004\",\"menuName\":\"영어\",\"menuDesc\":\"영어\",\"sortOrd\":2,\"newYn\":\"N\",\"remark\":\"relm=03\"},{\"isleaf\":1,\"level\":2,\"menuId\":\"M000000108\",\"upMenuId\":\"M000000187\",\"menuName\":\"이명학\",\"menuDesc\":\"영어\",\"scrnId\":\"M000000201\",\"sortOrd\":0,\"newYn\":\"N\",\"remark\":\"tcd=531&relm=03\"},{\"isleaf\":1,\"level\":2,\"menuId\":\"M000000523\",\"upMenuId\":\"M000000187\",\"menuName\":\"이영수\",\"menuDesc\":\"영어\",\"scrnId\":\"M000000201\",\"sortOrd\":1,\"newYn\":\"N\",\"remark\":\"tcd=926&relm=03\"},{\"isleaf\":1,\"level\":2,\"menuId\":\"M000000110\",\"upMenuId\":\"M000000187\",\"menuName\":\"은선진\",\"menuDesc\":\"영어\",\"scrnId\":\"M000000201\",\"sortOrd\":2,\"newYn\":\"N\",\"remark\":\"tcd=503&relm=03\"},{\"isleaf\":1,\"level\":2,\"menuId\":\"M000000109\",\"upMenuId\":\"M000000187\",\"menuName\":\"고정재\",\"menuDesc\":\"영어\",\"scrnId\":\"M000000201\",\"sortOrd\":3,\"newYn\":\"N\",\"remark\":\"tcd=536&relm=03\"},{\"isleaf\":1,\"level\":2,\"menuId\":\"M000000428\",\"upMenuId\":\"M000000187\",\"menuName\":\"하지웅\",\"menuDesc\":\"영어\",\"scrnId\":\"M000000201\",\"sortOrd\":5,\"newYn\":\"N\",\"remark\":\"tcd=922&relm=03\"},{\"isleaf\":0,\"level\":1,\"menuId\":\"M000000189\",\"upMenuId\":\"MNMN_M004\",\"menuName\":\"사회탐구\",\"menuDesc\":\"사회탐구\",\"sortOrd\":3,\"newYn\":\"N\",\"remark\":\"relm=04\"},{\"isleaf\":0,\"level\":2,\"menuId\":\"M000000194\",\"upMenuId\":\"M000000189\",\"menuName\":\"생활과 윤리/윤리와 사상\",\"menuDesc\":\"생활과 윤리/윤리와 사상\",\"sortOrd\":0,\"newYn\":\"N\",\"remark\":\"relm=04&subj=0411\"},{\"isleaf\":1,\"level\":3,\"menuId\":\"M000000120\",\"upMenuId\":\"M000000194\",\"menuName\":\"임정환\",\"menuDesc\":\"사회탐구\",\"scrnId\":\"M000000201\",\"sortOrd\":0,\"newYn\":\"N\",\"remark\":\"tcd=359&relm=04&subj=0411\"},{\"isleaf\":1,\"level\":3,\"menuId\":\"M000000593\",\"upMenuId\":\"M000000194\",\"menuName\":\"배인영\",\"menuDesc\":\"사회탐구\",\"scrnId\":\"M000000201\",\"sortOrd\":2,\"newYn\":\"N\",\"remark\":\"tcd=362&relm=04&subj=0411\"},{\"isleaf\":0,\"level\":2,\"menuId\":\"M000000195\",\"upMenuId\":\"M000000189\",\"menuName\":\"사회문화\",\"menuDesc\":\"사회문화\",\"sortOrd\":1,\"newYn\":\"N\",\"remark\":\"relm=04&subj=0404\"},{\"isleaf\":1,\"level\":3,\"menuId\":\"M000000124\",\"upMenuId\":\"M000000195\",\"menuName\":\"임정환\",\"menuDesc\":\"사회탐구\",\"scrnId\":\"M000000201\",\"sortOrd\":0,\"newYn\":\"N\",\"remark\":\"tcd=359&relm=04&subj=0404\"},{\"isleaf\":1,\"level\":3,\"menuId\":\"M000000314\",\"upMenuId\":\"M000000195\",\"menuName\":\"배인영\",\"menuDesc\":\"사회탐구\",\"scrnId\":\"M000000201\",\"sortOrd\":1,\"newYn\":\"N\",\"remark\":\"tcd=362&relm=04&subj=0404\"},{\"isleaf\":1,\"level\":3,\"menuId\":\"M000000522\",\"upMenuId\":\"M000000195\",\"menuName\":\"이형수\",\"menuDesc\":\"사회탐구\",\"scrnId\":\"M000000201\",\"sortOrd\":2,\"newYn\":\"N\",\"remark\":\"tcd=936&relm=04&subj=0404\"},{\"isleaf\":0,\"level\":2,\"menuId\":\"M000000193\",\"upMenuId\":\"M000000189\",\"menuName\":\"동아시아사/세계사\",\"menuDesc\":\"동아시아사/세계사\",\"sortOrd\":2,\"newYn\":\"N\",\"remark\":\"relm=04&subj=0413\"},{\"isleaf\":1,\"level\":3,\"menuId\":\"M000000117\",\"upMenuId\":\"M000000193\",\"menuName\":\"권용기\",\"menuDesc\":\"사회탐구\",\"scrnId\":\"M000000201\",\"sortOrd\":5,\"newYn\":\"N\",\"remark\":\"tcd=360&relm=04&subj=0413\"},{\"isleaf\":0,\"level\":2,\"menuId\":\"M000000196\",\"upMenuId\":\"M000000189\",\"menuName\":\"한국지리/세계지리\",\"menuDesc\":\"한국지리/세계지리\",\"sortOrd\":3,\"newYn\":\"N\",\"remark\":\"relm=04&subj=0401\"},{\"isleaf\":1,\"level\":3,\"menuId\":\"M000000602\",\"upMenuId\":\"M000000196\",\"menuName\":\"전성오\",\"menuDesc\":\"전성오\",\"scrnId\":\"M000000201\",\"sortOrd\":0,\"newYn\":\"N\",\"remark\":\"tcd=960&relm=04&subj=0401\"},{\"isleaf\":1,\"level\":3,\"menuId\":\"M000000125\",\"upMenuId\":\"M000000196\",\"menuName\":\"박대훈\",\"menuDesc\":\"사회탐구\",\"scrnId\":\"M000000201\",\"sortOrd\":1,\"newYn\":\"N\",\"remark\":\"tcd=352&relm=04&subj=0401\"},{\"isleaf\":0,\"level\":2,\"menuId\":\"M000000197\",\"upMenuId\":\"M000000189\",\"menuName\":\"정치와 법\",\"menuDesc\":\"정치와 법\",\"sortOrd\":4,\"newYn\":\"N\",\"remark\":\"relm=04&subj=0410\"},{\"isleaf\":1,\"level\":3,\"menuId\":\"M000000605\",\"upMenuId\":\"M000000197\",\"menuName\":\"손태석\",\"menuDesc\":\"손태석\",\"scrnId\":\"M000000201\",\"sortOrd\":1,\"newYn\":\"N\",\"remark\":\"tcd=961&relm=04&subj=0410\"},{\"isleaf\":0,\"level\":2,\"menuId\":\"M000000518\",\"upMenuId\":\"M000000189\",\"menuName\":\"경제\",\"menuDesc\":\"경제\",\"sortOrd\":5,\"newYn\":\"N\",\"remark\":\"relm=04&subj=0402\"},{\"isleaf\":1,\"level\":3,\"menuId\":\"M000000519\",\"upMenuId\":\"M000000518\",\"menuName\":\"이형수\",\"menuDesc\":\"사회탐구\",\"scrnId\":\"M000000201\",\"sortOrd\":8,\"newYn\":\"N\",\"remark\":\"tcd=936&relm=04&subj=0402\"},{\"isleaf\":0,\"level\":2,\"menuId\":\"M000000608\",\"upMenuId\":\"M000000189\",\"menuName\":\"통합사회\",\"menuDesc\":\"통합사회\",\"sortOrd\":18,\"newYn\":\"N\",\"remark\":\"relm=04&subj=0406\"},{\"isleaf\":1,\"level\":3,\"menuId\":\"M000000610\",\"upMenuId\":\"M000000608\",\"menuName\":\"배인영\",\"menuDesc\":\"배인영\",\"scrnId\":\"M000000201\",\"sortOrd\":2,\"newYn\":\"N\",\"remark\":\"tcd=362&relm=04&subj=0406\"},{\"isleaf\":1,\"level\":3,\"menuId\":\"M000000640\",\"upMenuId\":\"M000000608\",\"menuName\":\"임정환\",\"menuDesc\":\"임정환\",\"scrnId\":\"M000000201\",\"sortOrd\":3,\"newYn\":\"N\",\"remark\":\"tcd=359&relm=04&subj=0406\"},{\"isleaf\":1,\"level\":3,\"menuId\":\"M000000641\",\"upMenuId\":\"M000000608\",\"menuName\":\"전성오\",\"menuDesc\":\"전성오\",\"scrnId\":\"M000000201\",\"sortOrd\":4,\"newYn\":\"N\",\"remark\":\"tcd=960&relm=04&subj=0406\"},{\"isleaf\":0,\"level\":1,\"menuId\":\"M000000190\",\"upMenuId\":\"MNMN_M004\",\"menuName\":\"과학탐구\",\"menuDesc\":\"과학탐구\",\"sortOrd\":4,\"newYn\":\"N\",\"remark\":\"relm=05\"},{\"isleaf\":0,\"level\":2,\"menuId\":\"M000000202\",\"upMenuId\":\"M000000190\",\"menuName\":\"물리\",\"menuDesc\":\"물리\",\"sortOrd\":0,\"newYn\":\"N\",\"remark\":\"relm=05&subj=0510\"},{\"isleaf\":1,\"level\":3,\"menuId\":\"M000000137\",\"upMenuId\":\"M000000202\",\"menuName\":\"안철우\",\"menuDesc\":\"과학탐구\",\"scrnId\":\"M000000201\",\"sortOrd\":0,\"newYn\":\"N\",\"remark\":\"tcd=455&relm=05&subj=0510\"},{\"isleaf\":1,\"level\":3,\"menuId\":\"M000000426\",\"upMenuId\":\"M000000202\",\"menuName\":\"박정호\",\"menuDesc\":\"과학탐구\",\"scrnId\":\"M000000201\",\"sortOrd\":1,\"newYn\":\"N\",\"remark\":\"tcd=448&relm=05&subj=0510\"},{\"isleaf\":0,\"level\":2,\"menuId\":\"M000000200\",\"upMenuId\":\"M000000190\",\"menuName\":\"화학\",\"menuDesc\":\"화학\",\"sortOrd\":1,\"newYn\":\"N\",\"remark\":\"relm=05&subj=0511\"},{\"isleaf\":1,\"level\":3,\"menuId\":\"M000000131\",\"upMenuId\":\"M000000200\",\"menuName\":\"정훈구\",\"menuDesc\":\"과학탐구\",\"scrnId\":\"M000000201\",\"sortOrd\":0,\"newYn\":\"N\",\"remark\":\"tcd=423&relm=05&subj=0511\"},{\"isleaf\":1,\"level\":3,\"menuId\":\"M000000470\",\"upMenuId\":\"M000000200\",\"menuName\":\"우마리아\",\"menuDesc\":\"과학탐구\",\"scrnId\":\"M000000201\",\"sortOrd\":5,\"newYn\":\"N\",\"remark\":\"tcd=935&relm=05&subj=0511\"},{\"isleaf\":0,\"level\":2,\"menuId\":\"M000000199\",\"upMenuId\":\"M000000190\",\"menuName\":\"생명과학\",\"menuDesc\":\"생명과학\",\"sortOrd\":2,\"newYn\":\"N\",\"remark\":\"relm=05&subj=0512\"},{\"isleaf\":1,\"level\":3,\"menuId\":\"M000000130\",\"upMenuId\":\"M000000199\",\"menuName\":\"윤도영\",\"menuDesc\":\"과학탐구\",\"scrnId\":\"M000000201\",\"sortOrd\":0,\"newYn\":\"N\",\"remark\":\"tcd=463&relm=05&subj=0512\"},{\"isleaf\":1,\"level\":3,\"menuId\":\"M000000390\",\"upMenuId\":\"M000000199\",\"menuName\":\"정수민\",\"menuDesc\":\"과학탐구\",\"scrnId\":\"M000000201\",\"sortOrd\":2,\"newYn\":\"N\",\"remark\":\"tcd=921&relm=05&subj=0512\"},{\"isleaf\":0,\"level\":2,\"menuId\":\"M000000201\",\"upMenuId\":\"M000000190\",\"menuName\":\"지구과학\",\"menuDesc\":\"지구과학\",\"sortOrd\":3,\"newYn\":\"N\",\"remark\":\"relm=05&subj=0513\"},{\"isleaf\":1,\"level\":3,\"menuId\":\"M000000136\",\"upMenuId\":\"M000000201\",\"menuName\":\"김지혁\",\"menuDesc\":\"과학탐구\",\"scrnId\":\"M000000201\",\"sortOrd\":0,\"newYn\":\"N\",\"remark\":\"tcd=449&relm=05&subj=0513\"},{\"isleaf\":1,\"level\":3,\"menuId\":\"M000000517\",\"upMenuId\":\"M000000201\",\"menuName\":\"이훈식\",\"menuDesc\":\"과학탐구\",\"scrnId\":\"M000000201\",\"sortOrd\":1,\"newYn\":\"N\",\"remark\":\"tcd=938&relm=05&subj=0513\"},{\"isleaf\":1,\"level\":3,\"menuId\":\"M000000674\",\"upMenuId\":\"M000000201\",\"menuName\":\"엄기은\",\"menuDesc\":\"지구과학\",\"scrnId\":\"M000000201\",\"sortOrd\":3,\"newYn\":\"Y\",\"remark\":\"tcd=964&relm=05&subj=0513\"},{\"isleaf\":0,\"level\":2,\"menuId\":\"M000000525\",\"upMenuId\":\"M000000190\",\"menuName\":\"통합과학\",\"menuDesc\":\"통합과학\",\"sortOrd\":15,\"newYn\":\"N\",\"remark\":\"relm=05&subj=0514\"},{\"isleaf\":1,\"level\":3,\"menuId\":\"M000000540\",\"upMenuId\":\"M000000525\",\"menuName\":\"안철우\",\"menuDesc\":\"과학탐구\",\"scrnId\":\"M000000201\",\"sortOrd\":0,\"newYn\":\"N\",\"remark\":\"tcd=455&relm=05&subj=0514\"},{\"isleaf\":1,\"level\":3,\"menuId\":\"M000000526\",\"upMenuId\":\"M000000525\",\"menuName\":\"우마리아\",\"menuDesc\":\"과학탐구\",\"scrnId\":\"M000000201\",\"sortOrd\":1,\"newYn\":\"N\",\"remark\":\"tcd=935&relm=05&subj=0514\"},{\"isleaf\":1,\"level\":3,\"menuId\":\"M000000539\",\"upMenuId\":\"M000000525\",\"menuName\":\"박정호\",\"menuDesc\":\"과학탐구\",\"scrnId\":\"M000000201\",\"sortOrd\":2,\"newYn\":\"N\",\"remark\":\"tcd=448&relm=05&subj=0514\"},{\"isleaf\":0,\"level\":1,\"menuId\":\"M000000188\",\"upMenuId\":\"MNMN_M004\",\"menuName\":\"한국사\",\"menuDesc\":\"한국사\",\"sortOrd\":5,\"newYn\":\"N\",\"remark\":\"relm=10\"},{\"isleaf\":1,\"level\":2,\"menuId\":\"M000000309\",\"upMenuId\":\"M000000188\",\"menuName\":\"권용기\",\"menuDesc\":\"한국사\",\"scrnId\":\"M000000201\",\"sortOrd\":1,\"newYn\":\"N\",\"remark\":\"tcd=801&relm=10\"},{\"isleaf\":1,\"level\":2,\"menuId\":\"M000000310\",\"upMenuId\":\"M000000188\",\"menuName\":\"김현정\",\"menuDesc\":\"한국사\",\"scrnId\":\"M000000201\",\"sortOrd\":2,\"newYn\":\"N\",\"remark\":\"tcd=802&relm=10\"},{\"isleaf\":0,\"level\":1,\"menuId\":\"M000000191\",\"upMenuId\":\"MNMN_M004\",\"menuName\":\"제2외국어\",\"menuDesc\":\"제2외국어\",\"sortOrd\":6,\"newYn\":\"N\",\"remark\":\"relm=06\"},{\"isleaf\":0,\"level\":2,\"menuId\":\"M000000613\",\"upMenuId\":\"M000000191\",\"menuName\":\"아랍어\",\"menuDesc\":\"아랍어\",\"sortOrd\":0,\"newYn\":\"N\",\"remark\":\"relm=06&subj=0601\"},{\"isleaf\":1,\"level\":3,\"menuId\":\"M000000484\",\"upMenuId\":\"M000000613\",\"menuName\":\"지은경\",\"menuDesc\":\"제2외국어\",\"scrnId\":\"M000000201\",\"sortOrd\":0,\"newYn\":\"N\",\"remark\":\"tcd=937&relm=06&subj=0607\"},{\"isleaf\":0,\"level\":2,\"menuId\":\"M000000614\",\"upMenuId\":\"M000000191\",\"menuName\":\"베트남어\",\"menuDesc\":\"베트남어\",\"sortOrd\":5,\"newYn\":\"N\",\"remark\":\"relm=06&subj=0602\"},{\"isleaf\":1,\"level\":3,\"menuId\":\"M000000611\",\"upMenuId\":\"M000000614\",\"menuName\":\"유기태\",\"menuDesc\":\"제2외국어\",\"scrnId\":\"M000000201\",\"sortOrd\":0,\"newYn\":\"N\",\"remark\":\"tcd=962&relm=06&subj=0609\"},{\"isleaf\":1,\"level\":3,\"menuId\":\"M000000312\",\"upMenuId\":\"M000000614\",\"menuName\":\"이아영\",\"menuDesc\":\"제2외국어\",\"scrnId\":\"M000000201\",\"sortOrd\":1,\"newYn\":\"N\",\"remark\":\"tcd=912&relm=06&subj=0609\"},{\"isleaf\":0,\"level\":2,\"menuId\":\"M000000644\",\"upMenuId\":\"M000000191\",\"menuName\":\"스페인어\",\"menuDesc\":\"스페인어\",\"sortOrd\":6,\"newYn\":\"N\",\"remark\":\"relm=06&subj=0605\"},{\"isleaf\":1,\"level\":3,\"menuId\":\"M000000645\",\"upMenuId\":\"M000000644\",\"menuName\":\"신승\",\"menuDesc\":\"제2외국어\",\"scrnId\":\"M000000201\",\"sortOrd\":1,\"newYn\":\"N\",\"remark\":\"tcd=965&relm=06&subj=0605\"},{\"isleaf\":0,\"level\":2,\"menuId\":\"M000000708\",\"upMenuId\":\"M000000191\",\"menuName\":\"중국어\",\"menuDesc\":\"중국어\",\"sortOrd\":8,\"newYn\":\"N\",\"remark\":\"relm=06&subj=0603\"},{\"isleaf\":1,\"level\":3,\"menuId\":\"M000000709\",\"upMenuId\":\"M000000708\",\"menuName\":\"리하이\",\"menuDesc\":\"제2외국어\",\"scrnId\":\"M000000201\",\"sortOrd\":1,\"newYn\":\"Y\",\"remark\":\"tcd=978&relm=06&subj=0603\"},{\"isleaf\":0,\"level\":1,\"menuId\":\"M000000192\",\"upMenuId\":\"MNMN_M004\",\"menuName\":\"대학별고사\",\"menuDesc\":\"대학별고사\",\"sortOrd\":7,\"newYn\":\"N\",\"remark\":\"relm=07\"},{\"isleaf\":0,\"level\":2,\"menuId\":\"M000000203\",\"upMenuId\":\"M000000192\",\"menuName\":\"인문논술\",\"menuDesc\":\"인문논술\",\"sortOrd\":0,\"newYn\":\"N\",\"remark\":\"relm=07&subj=0701\"},{\"isleaf\":1,\"level\":3,\"menuId\":\"M000000558\",\"upMenuId\":\"M000000203\",\"menuName\":\"손태석\",\"menuDesc\":\"대학별고사\",\"scrnId\":\"M000000201\",\"sortOrd\":0,\"newYn\":\"N\",\"remark\":\"tcd=951&relm=07&subj=0701\"},{\"isleaf\":1,\"level\":3,\"menuId\":\"M000000700\",\"upMenuId\":\"M000000203\",\"menuName\":\"박성환\",\"menuDesc\":\"대학별고사\",\"scrnId\":\"M000000201\",\"sortOrd\":2,\"newYn\":\"N\",\"remark\":\"tcd=941&relm=07&subj=0701\"},{\"isleaf\":0,\"level\":2,\"menuId\":\"M000000204\",\"upMenuId\":\"M000000192\",\"menuName\":\"수리논술\",\"menuDesc\":\"수리논술\",\"sortOrd\":1,\"newYn\":\"N\",\"remark\":\"relm=07&subj=0702\"},{\"isleaf\":1,\"level\":3,\"menuId\":\"M000000334\",\"upMenuId\":\"M000000204\",\"menuName\":\"신재호\",\"menuDesc\":\"대학별\",\"scrnId\":\"M000000201\",\"sortOrd\":0,\"newYn\":\"N\",\"remark\":\"tcd=629&relm=07&subj=0702\"},{\"isleaf\":1,\"level\":3,\"menuId\":\"M000000143\",\"upMenuId\":\"M000000204\",\"menuName\":\"박진원\",\"menuDesc\":\"대학별\",\"scrnId\":\"M000000201\",\"sortOrd\":1,\"newYn\":\"N\",\"remark\":\"tcd=644&relm=07&subj=0702\"},{\"isleaf\":1,\"level\":3,\"menuId\":\"M000000692\",\"upMenuId\":\"M000000204\",\"menuName\":\"유제승\",\"menuDesc\":\"유제승\",\"scrnId\":\"M000000201\",\"sortOrd\":3,\"newYn\":\"Y\",\"remark\":\"tcd=976&relm=07&subj=0702\"},{\"isleaf\":0,\"level\":2,\"menuId\":\"M000000460\",\"upMenuId\":\"M000000192\",\"menuName\":\"구술면접\",\"menuDesc\":\"구술면접\",\"sortOrd\":3,\"newYn\":\"N\",\"remark\":\"relm=07&subj=0706\"},{\"isleaf\":1,\"level\":3,\"menuId\":\"M000000461\",\"upMenuId\":\"M000000460\",\"menuName\":\"렉투스\",\"menuDesc\":\"대학별\",\"scrnId\":\"M000000201\",\"sortOrd\":1,\"newYn\":\"N\",\"remark\":\"tcd=934&relm=07&subj=0706\"},{\"isleaf\":1,\"level\":3,\"menuId\":\"M000000506\",\"upMenuId\":\"M000000460\",\"menuName\":\"박성환\",\"menuDesc\":\"대학별\",\"scrnId\":\"M000000201\",\"sortOrd\":2,\"newYn\":\"N\",\"remark\":\"tcd=941&relm=07&subj=0706\"},{\"isleaf\":1,\"level\":3,\"menuId\":\"M000000693\",\"upMenuId\":\"M000000460\",\"menuName\":\"유제승\",\"menuDesc\":\"유제승\",\"scrnId\":\"M000000201\",\"sortOrd\":3,\"newYn\":\"Y\",\"remark\":\"tcd=976&relm=07&subj=0706\"},{\"isleaf\":0,\"level\":2,\"menuId\":\"M000000206\",\"upMenuId\":\"M000000192\",\"menuName\":\"미대입학사정관\",\"menuDesc\":\"미대입학사정관\",\"sortOrd\":4,\"newYn\":\"N\",\"remark\":\"relm=07&subj=0705\"},{\"isleaf\":1,\"level\":3,\"menuId\":\"M000000146\",\"upMenuId\":\"M000000206\",\"menuName\":\"정지윤\",\"menuDesc\":\"대학별\",\"scrnId\":\"M000000201\",\"sortOrd\":0,\"newYn\":\"N\",\"remark\":\"tcd=691&relm=07&subj=0705\"},{\"isleaf\":1,\"level\":3,\"menuId\":\"M000000145\",\"upMenuId\":\"M000000206\",\"menuName\":\"김보경\",\"menuDesc\":\"대학별\",\"scrnId\":\"M000000201\",\"sortOrd\":1,\"newYn\":\"N\",\"remark\":\"tcd=608&relm=07&subj=0705\"}]\\');\\r\\n\\t\\t\\tvar tchBannerList \\t= $.parseJSON(\\'[{\"banrId\":\"LB00000037\",\"banrName\":\"베스트 수강후기\",\"banrType\":\"T\",\"linkInfo\":\"/hi3/grade3NBestReviewList.ds?leftMenuId=MNMN_M005\",\"newWinYn\":\"N\",\"newYn\":\"Y\"},{\"banrId\":\"LB00000605\",\"banrName\":\"라이브\",\"banrType\":\"I\",\"imgName\":\"OnMCqm158376788980000322\",\"imgPath\":\"/admin_sh/images/oper/banner\",\"linkInfo\":\"http://www.mimacstudy.com/ex/prod/2020/mathRelay0309/512274_indexfull.ds\",\"newWinYn\":\"N\",\"newYn\":\"Y\"}]\\');\\r\\n\\t\\t\\tvar tcdTabType\\t\\t= \"tcdHome\";\\r\\n\\t\\t\\tvar selRelm         = \"\";\\r\\n\\t\\t\\tvar menuIdx\\t\\t\\t= \"\"==\"\" ? \"-1\" : \"\";\\r\\n\\t\\t\\tvar randomNum1\\t\\t= \"\";\\r\\n\\t\\t\\tvar randomNum2      = \"4\";\\r\\n\\t\\t\\tvar randomNum       = randomNum1 == \"\" ? randomNum2 : randomNum1;\\r\\n\\t\\t\\tvar bannerLink\\t\\t= \"\";\\r\\n\\t\\t\\t\\r\\n\\t\\t\\t//영역별 직접 접근 파라메터 적용\\r\\n\\t\\t\\t\\r\\n\\t\\t\\t\\r\\n\\t\\t\\tif(tcdTabType == \"tcdHome\") {\\r\\n\\t\\t\\t\\t$(\"#tcdTypeDiv\").show();\\r\\n\\t\\t\\t\\t$(\"#tcdHome\").show();\\r\\n\\t\\t\\t\\t$(\"#mimacTcdHome\").hide();\\r\\n\\t\\t\\t} else {\\r\\n\\t\\t\\t\\t$(\"#tcdHome\").hide();\\r\\n\\t\\t\\t\\t$(\"#mimacTcdHome\").show();\\r\\n\\t\\t\\t}\\r\\n\\r\\n\\t\\t\\tvar type\\t\\t\\t\\t= \"\";\\r\\n\\t\\t\\tvar paramRelm \\t= \"\";\\r\\n\\t\\t\\tvar paramTcd\\t\\t= \"\";\\r\\n\\t\\t\\tif(type != \"\")\\r\\n\\t\\t\\t{\\r\\n\\t\\t\\t\\tparamRelm = type.substr(0, 2);\\r\\n\\t\\t\\t\\tparamTcd\\t= type.substr(2, type.length);\\r\\n\\t\\t\\t}\\r\\n\\r\\n\\t\\t\\tvar relm = \"\";\\r\\n\\t\\t\\tvar relmIdx = 0;\\r\\n\\t\\t\\t$.each(tchList, function(i, data) {\\r\\n\\t\\t\\t\\tvar remark\\t\\t= (data.remark!=null ? data.remark.split(\\'&\\') : \"\");\\r\\n\\t\\t\\t\\tvar tcd\\t\\t\\t= \"\";\\r\\n\\t\\t\\t\\tvar subj\\t\\t= \"\";\\r\\n\\t\\t\\t\\tvar liHtml\\t\\t= \"\";\\r\\n\\t\\t\\t\\tfor(var i=0; i<remark.length; i++)\\r\\n\\t\\t\\t\\t{\\r\\n\\t\\t\\t\\t\\tvar tmp = remark[i].split(\\'=\\');\\r\\n\\t\\t\\t\\t\\tif(tmp.length > 1)\\r\\n\\t\\t\\t\\t\\t{\\r\\n\\t\\t\\t\\t\\t\\tif(tmp[0] == \"relm\" && data.level == \"1\") relm = tmp[1];\\r\\n\\t\\t\\t\\t\\t\\telse if(tmp[0] == \"tcd\") tcd = tmp[1];\\r\\n\\t\\t\\t\\t\\t\\telse if(tmp[0] == \"subj\") subj = tmp[1];\\r\\n\\t\\t\\t\\t\\t}\\r\\n\\t\\t\\t\\t}\\r\\n\\t\\t\\t\\tvar menuName\\t= data.menuName;\\r\\n\\t\\t\\t\\tvar newYn\\t\\t= data.newYn;\\r\\n\\t\\t\\t\\tvar boldYn\\t\\t= data.boldYn;\\r\\n\\t\\t\\t\\tvar upMenuId    = data.upMenuId;\\r\\n\\r\\n\\t\\t\\t\\tif(data.level == \"1\")  //영역 li 태그 생성\\r\\n\\t\\t\\t\\t{\\r\\n\\t\\t\\t\\t\\t//li 태그에 open 클래스일 경우 서브메뉴 펼침아이콘, close 클래스일경우 서브메뉴 닫힘아이콘, 현재페이지 위치고정일 경우에는 on 클래스 사용.\\r\\n\\t\\t\\t\\t\\tliHtml = \"<li class=\\'close\\' name=\\'relmLi\\' id=\\'li\"+relm+\"\\'><a href=\\'#\\'>\"+menuName+\"</a>\\\\n\";\\r\\n\\t\\t\\t\\t\\tliHtml+= \"<div class=\\'submenu\\'><dl id=\\'dl\"+relm+\"\\'></dl></div></li>\";\\r\\n\\t\\t\\t\\t\\t$(\"#ulLeftmenu\").append(liHtml);\\r\\n\\t\\t\\t\\t\\t//랜덤으로 메뉴 펼치기\\r\\n\\t\\t\\t\\t\\trelmIdx++;\\r\\n\\t\\t\\t\\t\\tif(type == \"\" && randomNum != \"\" && selRelm == \"\")\\r\\n\\t\\t\\t\\t\\t{\\r\\n\\t\\t\\t\\t\\t\\tif(randomNum == relmIdx) $(\"#li\"+relm).removeClass(\"close\").addClass(\"open\").addClass(\"on\");\\r\\n\\t\\t\\t\\t\\t}\\r\\n\\t\\t\\t\\t}\\r\\n\\t\\t\\t\\telse\\r\\n\\t\\t\\t\\t{\\r\\n\\t\\t\\t\\t\\t//과목-선생님 또는 선생님 li 태그 생성\\r\\n\\t\\t\\t\\t\\tif(data.isleaf == \"1\") //선생님 태그\\r\\n\\t\\t\\t\\t\\t{\\r\\n\\t\\t\\t\\t\\t\\tvar tagExist = $(\"#dd\" + upMenuId).length;\\r\\n\\t\\t\\t\\t\\t\\tif(tagExist == 0)\\r\\n\\t\\t\\t\\t\\t\\t{\\r\\n\\t\\t\\t\\t\\t\\t\\tliHtml = \"<dd id=\\'dd\"+upMenuId+\"\\'><ul id=\\'ul\"+upMenuId+\"\\'></dd>\";\\r\\n\\t\\t\\t\\t\\t\\t\\t$(\"#dl\" + relm).append(liHtml);\\r\\n\\t\\t\\t\\t\\t\\t}\\r\\n\\t\\t\\t\\t\\t\\tvar hrefUrl\\t= \"/tcher/eachTcherMain.ds?tcd=\" + tcd + \"&relm=\" + relm + \"&subj=\" + subj + \"&type=\" + relm + tcd;\\r\\n\\t\\t\\t\\t\\t\\tif(boldYn == \"Y\")\\r\\n\\t\\t\\t\\t\\t\\t{\\r\\n\\t\\t\\t\\t\\t\\t\\tliHtml\\t\\t= \"<li name=\\'tcdHomeLi\\' class=\\'emph\\'><a name=\\'childA\\' href=\\'\" + hrefUrl + \"\\'>\" + menuName + \"</a>\";\\r\\n\\t\\t\\t\\t\\t\\t}else\\r\\n\\t\\t\\t\\t\\t\\t{\\r\\n\\t\\t\\t\\t\\t\\t\\tliHtml\\t\\t= \"<li name=\\'tcdHomeLi\\'><a name=\\'childA\\' href=\\'\" + hrefUrl + \"\\'>\" + menuName + \"</a>\";\\r\\n\\t\\t\\t\\t\\t\\t}\\r\\n\\t\\t\\t\\t\\t\\tif(newYn == \"Y\") liHtml += \"<img src=\\\\\"http://img.mimacstudy.com/FRONT/common/icon_new.png\\\\\" class=\\'icon_new\\' />\";\\r\\n\\t\\t\\t\\t\\t\\tliHtml += \"</li>\";\\r\\n\\r\\n\\t\\t\\t\\t\\t\\tif(type != \"\" && relm == paramRelm && tcd == paramTcd) {\\r\\n\\t\\t\\t\\t\\t\\t\\tliHtml = liHtml.replace(/<li/g, \"<li class=\\'on\\' \");\\r\\n\\t\\t\\t\\t\\t\\t}\\r\\n\\t\\t\\t\\t\\t\\t$(\"#ul\" + upMenuId).append(liHtml);\\r\\n\\t\\t\\t\\t\\t}\\r\\n\\t\\t\\t\\t\\telse\\r\\n\\t\\t\\t\\t\\t{\\r\\n\\t\\t\\t\\t\\t\\tliHtml\\t= \"<dt>[\" + menuName + \"]</dt>\";\\r\\n\\t\\t\\t\\t\\t\\t$(\"#dl\" + relm).append(liHtml);\\r\\n\\t\\t\\t\\t\\t}\\r\\n\\t\\t\\t\\t}\\r\\n\\t\\t\\t});\\r\\n\\r\\n\\t\\t\\tif(selRelm != \"\")\\r\\n\\t\\t\\t{\\r\\n\\t\\t\\t\\t$(\"#li\" + selRelm).removeClass(\"close\").addClass(\"open\").addClass(\"on\");\\r\\n\\t\\t\\t}\\r\\n\\t\\t\\telse if(type != \"\")\\r\\n\\t\\t\\t{\\r\\n\\t\\t\\t\\t$(\"#li\" + paramRelm).removeClass(\"close\").addClass(\"open\").addClass(\"on\");\\r\\n\\t\\t\\t}\\r\\n\\r\\n\\t\\t\\tvar banrId;\\r\\n\\t\\t\\tvar banrName;\\r\\n\\t\\t\\tvar banrType;\\r\\n\\t\\t\\tvar imgName;\\r\\n\\t\\t\\tvar imgPath;\\r\\n\\t\\t\\tvar linkInfo;\\r\\n\\t\\t\\tvar newWinYn;\\r\\n\\t\\t\\tvar newYn;\\r\\n\\t\\t\\tvar useYn;\\r\\n\\t\\t\\tvar openYn;\\r\\n\\t\\t\\tvar htmlCode = \"\";\\r\\n\\r\\n\\t\\t\\tvar menuName;\\r\\n\\t\\t\\tvar scrnUrl;\\r\\n\\t\\t\\tvar boldYn;\\r\\n\\t\\t\\tvar tcd;\\r\\n\\t\\t\\tvar menuDepth;\\r\\n\\t\\t\\tvar menuLevel;\\r\\n\\t\\t\\tvar menuId;\\r\\n\\t\\t\\tvar upMenuId;\\r\\n\\t\\t\\tvar linkUrl;\\r\\n\\t\\t\\tvar childNum;\\r\\n\\r\\n\\t\\t\\t$.each(tchBannerList, function(i, data) {\\r\\n\\r\\n\\t\\t\\t\\tbanrId\\t \\t= data.banrId;\\r\\n\\t\\t\\t\\tbanrName\\t= data.banrName;\\r\\n\\t\\t\\t\\tbanrType \\t= data.banrType;\\r\\n\\t\\t\\t\\timgName\\t\\t= data.imgName;\\r\\n\\t\\t\\t\\timgPath\\t\\t= data.imgPath;\\r\\n\\t\\t\\t\\tlinkInfo\\t= data.linkInfo == undefined ? \"\" : data.linkInfo;\\r\\n\\t\\t\\t\\tnewWinYn\\t= data.newWinYn;\\r\\n\\t\\t\\t\\tnewYn\\t\\t= data.newYn;\\r\\n\\r\\n\\t\\t\\t\\tif(banrType == \"T\")\\thtmlCode += \\'<p class=\"btnbanner\"><a href=\"javascript:openBannerLink(\\\\\\'\\' + linkInfo + \\'\\\\\\', \\\\\\'\\' + banrId + \\'\\\\\\', \\\\\\'\\' + newWinYn + \\'\\\\\\');\" class=\"btnbanner txtbanner\">\\' + banrName + \\'</a></p>\\';\\r\\n\\t\\t\\t\\telse\\t\\t\\t\\thtmlCode += \\'<a href=\"javascript:openBannerLink(\\\\\\'\\' + linkInfo + \\'\\\\\\', \\\\\\'\\' + banrId + \\'\\\\\\', \\\\\\'\\' + newWinYn + \\'\\\\\\');\" class=\"btnbanner\"><img src=\"http://img.mimacstudy.com\\'+ imgPath + \\'/\\' + imgName + \\'\" /></a>\\';\\r\\n\\r\\n\\t\\t\\t});\\r\\n\\t\\t\\t$(\"#mimacTcdHome .bannerarea\").html(htmlCode);\\r\\n\\r\\n\\t\\t\\tif(tcdTabType == \"tcdHome\") {\\r\\n\\t\\t\\t\\tvar tchLeftMenuList = $.parseJSON(\\'[{\"menuId\":\"TM00000803\",\"menuName\":\"이명학 선생님홈\",\"relm\":\"03\",\"tcd\":\"531\",\"menuDesc\":\"이명학 선생님홈\",\"newYn\":\"N\",\"newWinYn\":\"N\",\"boldYn\":\"N\",\"upMenuId\":\"ROOT\",\"sortOrd\":1,\"menuDepth\":-1,\"sysType\":\"M\",\"lv\":1,\"childNum\":9},{\"menuId\":\"TM00000538\",\"menuName\":\"개설강좌\",\"relm\":\"03\",\"tcd\":\"531\",\"menuDesc\":\"개설강좌\",\"scrnId\":\"M000000201\",\"newYn\":\"N\",\"newWinYn\":\"N\",\"boldYn\":\"N\",\"scrnUrl\":\"/tcher/tchrHomeLctrList.ds\",\"upMenuId\":\"TM00000803\",\"sortOrd\":0,\"menuDepth\":2,\"sysType\":\"M\",\"lv\":2,\"remark\":\"coType=M&relm=03&subj=&tcd=531&lctrOnly=Y\",\"childNum\":0},{\"menuId\":\"TM00000534\",\"menuName\":\"공지사항\",\"relm\":\"03\",\"tcd\":\"531\",\"menuDesc\":\"공지사항\",\"scrnId\":\"M000000250\",\"newYn\":\"Y\",\"newWinYn\":\"N\",\"boldYn\":\"Y\",\"scrnUrl\":\"/tcher/getNoticeList.ds\",\"upMenuId\":\"TM00000803\",\"sortOrd\":1,\"menuDepth\":2,\"sysType\":\"M\",\"lv\":2,\"remark\":\"tcd=531\",\"childNum\":0},{\"menuId\":\"TM00000539\",\"menuName\":\"학습 Q&A\",\"relm\":\"03\",\"tcd\":\"531\",\"menuDesc\":\"학습 Q&A\",\"scrnId\":\"M000000236\",\"newYn\":\"N\",\"newWinYn\":\"N\",\"boldYn\":\"N\",\"scrnUrl\":\"/tcher/studyQna/getStudyQnaList.ds\",\"upMenuId\":\"TM00000803\",\"sortOrd\":2,\"menuDepth\":2,\"sysType\":\"M\",\"lv\":2,\"remark\":\"tcd=531\",\"childNum\":0},{\"menuId\":\"TM00001507\",\"menuName\":\"수능&모의고사 해설\",\"relm\":\"03\",\"tcd\":\"531\",\"menuDesc\":\"수능&모의고사 해설\",\"newYn\":\"N\",\"newWinYn\":\"N\",\"boldYn\":\"N\",\"upMenuId\":\"TM00000803\",\"sortOrd\":3,\"menuDepth\":2,\"sysType\":\"M\",\"lv\":2,\"linkUrl\":\"/ex/t531/tcher/haesul_tcher.ds?tcd=531\",\"childNum\":0},{\"menuId\":\"TM00001508\",\"menuName\":\"이명학의 공감영상\",\"relm\":\"03\",\"tcd\":\"531\",\"menuDesc\":\"이명학의 공감영상\",\"newYn\":\"Y\",\"newWinYn\":\"N\",\"boldYn\":\"N\",\"upMenuId\":\"TM00000803\",\"sortOrd\":4,\"menuDepth\":2,\"sysType\":\"M\",\"lv\":2,\"linkUrl\":\"/tcher/bbs/getStandardBbsList.ds?bbsId=BS00000116\",\"childNum\":0},{\"menuId\":\"TM00000535\",\"menuName\":\"수강후기\",\"relm\":\"03\",\"tcd\":\"531\",\"menuDesc\":\"수강후기\",\"scrnId\":\"M000000244\",\"newYn\":\"Y\",\"newWinYn\":\"N\",\"boldYn\":\"Y\",\"scrnUrl\":\"/tcher/getLctrReviewList.ds\",\"upMenuId\":\"TM00000803\",\"sortOrd\":5,\"menuDepth\":2,\"sysType\":\"M\",\"lv\":2,\"remark\":\"tcd=531\",\"childNum\":0},{\"menuId\":\"TM00001770\",\"menuName\":\"실전모의고사 듣기평가 파일\",\"relm\":\"03\",\"tcd\":\"531\",\"menuDesc\":\"이명학 실전모의고사 듣기 평가 자료실\",\"newYn\":\"N\",\"newWinYn\":\"N\",\"boldYn\":\"N\",\"upMenuId\":\"TM00000803\",\"sortOrd\":6,\"menuDepth\":2,\"sysType\":\"M\",\"lv\":2,\"linkUrl\":\"/tcher/bbs/getStandardBbsList.ds?bbsId=BS00000126\",\"childNum\":0},{\"menuId\":\"TM00000537\",\"menuName\":\"T-CHART\",\"relm\":\"03\",\"tcd\":\"531\",\"menuDesc\":\"T-CHART\",\"scrnId\":\"M000000255\",\"newYn\":\"N\",\"newWinYn\":\"N\",\"boldYn\":\"N\",\"scrnUrl\":\"/tcher/tchart/getTchartList.ds\",\"upMenuId\":\"TM00000803\",\"sortOrd\":8,\"menuDepth\":2,\"sysType\":\"M\",\"lv\":2,\"remark\":\"tcd=531\",\"childNum\":0},{\"menuId\":\"TM00001559\",\"menuName\":\"선생님 기획전\",\"relm\":\"03\",\"tcd\":\"531\",\"menuDesc\":\"선생님 기획전\",\"newYn\":\"N\",\"newWinYn\":\"N\",\"boldYn\":\"Y\",\"upMenuId\":\"TM00000803\",\"sortOrd\":9,\"menuDepth\":2,\"sysType\":\"M\",\"lv\":2,\"childNum\":6},{\"menuId\":\"TM00002792\",\"menuName\":\"수능 영어의 시작, <font color=blue>일리</font>\",\"relm\":\"03\",\"tcd\":\"531\",\"menuDesc\":\"수능 영어의 시작, 일리\",\"newYn\":\"Y\",\"newWinYn\":\"N\",\"boldYn\":\"Y\",\"upMenuId\":\"TM00001559\",\"sortOrd\":1,\"menuDepth\":3,\"sysType\":\"M\",\"lv\":3,\"linkUrl\":\"http://www.mimacstudy.com/ex/t531/2018/1128/798465_indexfull.ds\",\"childNum\":0},{\"menuId\":\"TM00002793\",\"menuName\":\"문장, 해석이 안될 때, <font color=blue>Syntax</font>\",\"relm\":\"03\",\"tcd\":\"531\",\"menuDesc\":\"문장, 해석이 안될 때, <font color=blue>Syntax</font>\",\"newYn\":\"Y\",\"newWinYn\":\"N\",\"boldYn\":\"Y\",\"upMenuId\":\"TM00001559\",\"sortOrd\":2,\"menuDepth\":3,\"sysType\":\"M\",\"lv\":3,\"linkUrl\":\"http://www.mimacstudy.com/ex/t531/2019/0107/783213_indexfull.ds\",\"childNum\":0},{\"menuId\":\"TM00002794\",\"menuName\":\"지문, 이해가 안될 때, <font color=blue>R`gorithm</font>\",\"relm\":\"03\",\"tcd\":\"531\",\"menuDesc\":\"지문, 이해가 안될 때, <font color=blue>R`gorithm</font>\",\"newYn\":\"Y\",\"newWinYn\":\"N\",\"boldYn\":\"Y\",\"upMenuId\":\"TM00001559\",\"sortOrd\":3,\"menuDepth\":3,\"sysType\":\"M\",\"lv\":3,\"linkUrl\":\"http://www.mimacstudy.com/ex/t531/2019/1226/988777_indexfull.ds\",\"childNum\":0},{\"menuId\":\"TM00002795\",\"menuName\":\"빈칸, 순서, 삽입 <font color=blue>Read N` Logic</font>\",\"relm\":\"03\",\"tcd\":\"531\",\"menuDesc\":\"빈칸, 순서, 삽입 <font color=blue>Read N` Logic</font>\",\"newYn\":\"Y\",\"newWinYn\":\"N\",\"boldYn\":\"Y\",\"upMenuId\":\"TM00001559\",\"sortOrd\":4,\"menuDepth\":3,\"sysType\":\"M\",\"lv\":3,\"linkUrl\":\"http://www.mimacstudy.com/ex/t531/2020/0102_RNL/564231_indexfull.ds\",\"childNum\":0},{\"menuId\":\"TM00002805\",\"menuName\":\"기출 X 실모 <font color=blue>모의고사 아카이브</font>\",\"relm\":\"03\",\"tcd\":\"531\",\"menuDesc\":\"기출 X 실모 <font color=blue>모의고사 아카이브</font>\",\"newYn\":\"Y\",\"newWinYn\":\"N\",\"boldYn\":\"Y\",\"upMenuId\":\"TM00001559\",\"sortOrd\":6,\"menuDepth\":3,\"sysType\":\"M\",\"lv\":3,\"linkUrl\":\"http://www.mimacstudy.com/ex/t531/2019/1227/237847_indexfull.ds\",\"childNum\":0},{\"menuId\":\"TM00003214\",\"menuName\":\"전지문 분석 <font color=blue>공감영어 EBS 매뉴얼</font>\",\"relm\":\"03\",\"tcd\":\"531\",\"menuDesc\":\"새메뉴_2\",\"newYn\":\"Y\",\"newWinYn\":\"N\",\"boldYn\":\"Y\",\"upMenuId\":\"TM00001559\",\"sortOrd\":6,\"menuDepth\":3,\"sysType\":\"M\",\"lv\":3,\"linkUrl\":\"http://www.mimacstudy.com/ex/t531/2020/0309/104010_indexfull.ds\",\"childNum\":0}]\\');\\r\\n\\t\\t\\t\\tvar tchLeftBanrList = $.parseJSON(\\'[{\"menuId\":\"TM00000803\",\"imgName\":\"vkXEXL158157903094100037\",\"imgPath\":\"/admin_sh/images/tzone/banner\",\"upldImgName\":\"bn_left_200x120_200213.gif\",\"linkInfo\":\"http://www.mimacstudy.com/ex/t531/2020/0213/958211_indexfull.ds\",\"sortOrd\":0,\"banrName\":\"아무단어챌린지\",\"banrType\":\"I\",\"newWinYn\":\"N\",\"newYn\":\"Y\",\"useYn\":\"Y\",\"openYn\":\"Y\"}]\\');\\r\\n\\t\\t\\t\\tvar tchLctrCnt\\t\\t\\t= \"30\";\\r\\n\\r\\n\\t\\t\\t\\t//선생님별 레프트 메뉴 만들기\\r\\n\\t\\t\\t\\t$.each(tchLeftMenuList, function(i, data) {\\r\\n\\t\\t\\t\\t\\tmenuName \\t= data.menuName;\\r\\n\\t\\t\\t\\t\\tscrnUrl\\t\\t= data.scrnUrl;\\r\\n\\t\\t\\t\\t\\tnewYn\\t\\t= data.newYn;\\r\\n\\t\\t\\t\\t\\tnewWinYn\\t= data.newWinYn;\\r\\n\\t\\t\\t\\t\\tboldYn\\t\\t= data.boldYn;\\r\\n\\t\\t\\t\\t\\ttcd\\t\\t\\t= data.tcd;\\r\\n\\t\\t\\t\\t\\tmenuDepth\\t= data.menuDepth;\\r\\n\\t\\t\\t\\t\\tmenuLevel   = data.lv;\\r\\n\\t\\t\\t\\t\\tmenuId\\t\\t= data.menuId;\\r\\n\\t\\t\\t\\t\\tupMenuId\\t= data.upMenuId;\\r\\n\\t\\t\\t\\t\\tlinkUrl\\t\\t= data.linkUrl;\\r\\n\\t\\t\\t\\t\\tchildNum\\t= data.childNum;\\r\\n\\t\\t\\t\\t\\thtmlCode\\t= \"\";\\r\\n\\t\\t\\t\\t\\tif(i == menuIdx)\\r\\n\\t\\t\\t\\t\\t{\\r\\n\\t\\t\\t\\t\\t\\thtmlCode = \"<li\" + (i == menuIdx ? \" class=on\" : \"\") + \">\";\\r\\n\\t\\t\\t\\t\\t}else\\r\\n\\t\\t\\t\\t\\t{\\r\\n\\t\\t\\t\\t\\t\\tif(boldYn==\"Y\")\\r\\n\\t\\t\\t\\t\\t\\t{\\r\\n\\t\\t\\t\\t\\t\\t\\thtmlCode = \"<li class=emph>\";\\r\\n\\t\\t\\t\\t\\t\\t}else\\r\\n\\t\\t\\t\\t\\t\\t{\\r\\n\\t\\t\\t\\t\\t\\t\\thtmlCode = \"<li>\";\\r\\n\\t\\t\\t\\t\\t\\t}\\r\\n\\t\\t\\t\\t\\t}\\r\\n\\r\\n\\t\\t\\t\\t\\tif(upMenuId != \"ROOT\")\\r\\n\\t\\t\\t\\t\\t{   // 일반 레프트 메뉴\\r\\n\\t\\t\\t\\t\\t\\tif(menuName == \"개설강좌\") menuName = menuName + \"(\" + tchLctrCnt + \")\";\\r\\n\\t\\t\\t\\t\\t\\telse\\t\\t\\t\\t\\tmenuName = menuName + (childNum == 0 ? \"\" : \"(\" + childNum + \")\");\\r\\n\\r\\n\\t\\t\\t\\t\\t\\tif(scrnUrl != null && scrnUrl != \"\")\\r\\n\\t\\t\\t\\t\\t\\t\\thtmlCode += \"<a href=javascript:goTchHomeMenu(\\'\"+scrnUrl+\"\\',\\'\"+data.remark+\"\\',\\'\"+paramRelm+\"\\',\\'\"+paramTcd+\"\\',\\'\"+i+\"\\',\\'\"+newWinYn+\"\\')>\" + menuName;\\r\\n\\t\\t\\t\\t\\t\\telse\\r\\n\\t\\t\\t\\t\\t\\t\\thtmlCode += \"<a href=javascript:goTchHomeMenu(\\'\"+linkUrl+\"\\',\\'\"+data.remark+\"\\',\\'\"+paramRelm+\"\\',\\'\"+paramTcd+\"\\',\\'\"+i+\"\\',\\'\"+newWinYn+\"\\')>\" + menuName;\\r\\n\\r\\n\\t\\t\\t\\t\\t\\tif(newYn == \"Y\") htmlCode += \"<img src=\\\\\"http://img.mimacstudy.com/FRONT/common/icon_new.png\\\\\" class=\\'icon_new\\' />\";\\r\\n\\r\\n\\t\\t\\t\\t\\t\\thtmlCode +=   \"</a>\";\\r\\n\\r\\n\\t\\t\\t\\t\\t\\thtmlCode += \"<div id=\\'div_\" + menuId + \"\\'><ul id=\\'\" + menuId + \"\\'></ul></div></li>\";\\r\\n\\r\\n\\t\\t\\t\\t\\t\\tif(menuLevel == \"1\" || menuLevel == \"2\")\\r\\n\\t\\t\\t\\t\\t\\t{\\r\\n\\t\\t\\t\\t\\t\\t\\t$(\"#tcdLeftMenuUl\").append(htmlCode);\\r\\n\\t\\t\\t\\t\\t\\t}\\r\\n\\t\\t\\t\\t\\t\\telse\\r\\n\\t\\t\\t\\t\\t\\t{\\r\\n\\t\\t\\t\\t\\t\\t\\tif(!$(\"#div_\" + upMenuId).hasClass(\"submenu\")) $(\"#div_\" + upMenuId).addClass(\"submenu\");\\r\\n\\t\\t\\t\\t\\t\\t\\t$(\"#\" + upMenuId).append(htmlCode);\\r\\n\\t\\t\\t\\t\\t\\t}\\r\\n\\t\\t\\t\\t\\t}\\r\\n\\t\\t\\t\\t});\\r\\n\\t\\t\\t\\t//선생님별 레프트 배너 만들기\\r\\n\\t\\t\\t\\thtmlCode = \"\";\\r\\n\\t\\t\\t\\t$.each(tchLeftBanrList, function(i, data) {\\r\\n\\t\\t\\t\\t\\tbanrId\\t \\t= data.banrId;\\r\\n\\t\\t\\t\\t\\tbanrName\\t= data.banrName;\\r\\n\\t\\t\\t\\t\\tbanrType \\t= data.banrType;\\r\\n\\t\\t\\t\\t\\timgName\\t\\t= data.imgName;\\r\\n\\t\\t\\t\\t\\timgPath\\t\\t= data.imgPath;\\r\\n\\t\\t\\t\\t\\tlinkInfo\\t= data.linkInfo == undefined ? \"\" : data.linkInfo;\\r\\n\\t\\t\\t\\t\\tnewWinYn\\t= data.newWinYn;\\r\\n\\t\\t\\t\\t\\tnewYn\\t\\t= data.newYn;\\r\\n\\t\\t\\t\\t\\tuseYn\\t\\t= data.useYn;\\r\\n\\t\\t\\t\\t\\topenYn\\t\\t= data.openYn;\\r\\n\\r\\n\\t\\t\\t\\t\\tif(imgName != undefined || linkInfo != undefined)\\r\\n\\t\\t\\t\\t\\t{\\r\\n\\t\\t\\t\\t\\t\\tif(linkInfo.substring(0, 3) == \"MOV\") {\\r\\n\\t\\t\\t\\t\\t\\t\\tbannerLink = \"VOD\";\\r\\n\\t\\t\\t\\t\\t\\t\\tlinkInfo = linkInfo.substring(4, 15);\\r\\n\\t\\t\\t\\t\\t\\t} else {\\r\\n\\t\\t\\t\\t\\t\\t\\tbannerLink = \"BannerLink\";\\r\\n\\t\\t\\t\\t\\t\\t}\\r\\n\\t\\t\\t\\t\\t\\t\\r\\n\\t\\t\\t\\t\\t\\tif(openYn == \"Y\") {\\r\\n\\t\\t\\t\\t\\t\\t\\t\\r\\n\\t\\t\\t\\t\\t\\t\\tif(banrType == \"T\")\\thtmlCode += \\'<p class=\"btnbanner\"><a href=\"javascript:open\\'+bannerLink+\\'(\\\\\\'\\' + linkInfo + \\'\\\\\\', \\\\\\'\\' + banrId + \\'\\\\\\', \\\\\\'\\' + newWinYn + \\'\\\\\\');\" class=\"btnbanner txtbanner\">\\' + banrName + \\'</a></p>\\';\\r\\n\\t\\t\\t\\t\\t\\t\\telse\\t\\t\\t\\thtmlCode += \\'<a href=\"javascript:open\\'+bannerLink+\\'(\\\\\\'\\' + linkInfo + \\'\\\\\\', \\\\\\'\\' + banrId + \\'\\\\\\', \\\\\\'\\' + newWinYn + \\'\\\\\\');\" class=\"btnbanner\"><img src=\"http://img.mimacstudy.com/admin_sh/images/tzone/banner/\\' + imgName + \\'\" /></a>\\';\\r\\n\\t\\t\\t\\t\\t\\t\\t\\r\\n\\t\\t\\t\\t\\t\\t} else if(openYn == \"R\") {\\t//준비중\\r\\n\\t\\t\\t\\t\\t\\t\\tif(banrType == \"T\")\\thtmlCode += \\'<p class=\"btnbanner\"><a href=\"javascript:alert(\\\\\\'\\' + linkInfo + \\'\\\\\\');\" class=\"btnbanner txtbanner\">\\' + banrName + \\'</a></p>\\';\\r\\n\\t\\t\\t\\t\\t\\t\\telse\\t\\t\\t\\thtmlCode += \\'<a href=\"javascript:alert(\\\\\\'\\' + linkInfo + \\'\\\\\\');\" class=\"btnbanner\"><img src=\"http://img.mimacstudy.com/admin_sh/images/tzone/banner/\\' + imgName + \\'\" /></a>\\';\\r\\n\\t\\t\\t\\t\\t\\t}\\r\\n\\t\\t\\t\\t\\t\\t\\r\\n\\t\\t\\t\\t\\t}\\r\\n\\t\\t\\t\\t});\\r\\n\\t\\t\\t\\t$(\"#tcdHome .bannerarea\").html(htmlCode);\\r\\n\\t\\t\\t}\\r\\n\\r\\n\\t\\t\\tvar eventCallYn = \"N\";\\r\\n\\r\\n\\t\\t\\t$(\"li[name=\\'relmLi\\']\").click(function() {\\r\\n\\t\\t\\t\\tif(eventCallYn == \"Y\") {\\r\\n\\t\\t\\t\\t\\teventCallYn = \"N\"; return;\\r\\n\\t\\t\\t\\t}\\r\\n\\r\\n\\t\\t\\t\\tif ($(this).hasClass(\"open\")) {\\r\\n\\t\\t\\t\\t\\t$(this).removeClass(\"open\").removeClass(\"on\").addClass(\"close\");\\r\\n\\t         \\t}else if ($(this).hasClass(\"close\")) {\\r\\n\\t         \\t\\t$(\"li[name=\\'relmLi\\']\").removeClass(\"open\").removeClass(\"on\").removeClass(\"close\").addClass(\"close\");\\r\\n\\t           \\t\\t$(this).removeClass(\"close\").addClass(\"open\").addClass(\"on\");\\r\\n\\t         \\t}\\r\\n\\t\\t   \\t});\\r\\n\\r\\n\\t\\t\\t$(\"a[name=\\'childA\\']\").click(function(event) {\\r\\n\\t\\t\\t\\teventCallYn = \"Y\";\\r\\n\\t\\t   \\t});\\r\\n\\r\\n\\t\\t\\t$(\"#tcdTypeDiv a\").click(function(event) {\\r\\n\\t\\t\\t\\tvar aId = $(this).attr(\"id\");\\r\\n\\r\\n\\t\\t\\t\\t$(\"#tcdTypeDiv a\").removeClass(\"on\");\\r\\n\\t\\t\\t\\t$(this).addClass(\"on\");\\r\\n\\r\\n\\t\\t\\t\\tif(aId == \"tcdAlla\") {\\r\\n\\t\\t\\t\\t\\t$(\"#mimacTcdHome\").show();\\r\\n\\t\\t\\t\\t\\t$(\"#tcdHome\").hide();\\r\\n\\t\\t\\t\\t} else {\\r\\n\\t\\t\\t\\t\\t$(\"#tcdHome\").show();\\r\\n\\t\\t\\t\\t\\t$(\"#mimacTcdHome\").hide();\\r\\n\\t\\t\\t\\t}\\r\\n\\t\\t   \\t});\\r\\n\\t\\t});\\r\\n\\r\\n\\t\\tfunction goTchHomeMenu(scrnUrl, remark, relm, tcd, menuIdx,newWinYn)\\r\\n\\t\\t{\\r\\n\\t\\t\\tif(scrnUrl == \\'undefined\\' || scrnUrl == undefined) return;\\r\\n\\r\\n\\t\\t\\t$(\"#relm\").val(relm);\\r\\n\\t\\t\\t$(\"#tcd\").val(tcd);\\r\\n\\t\\t\\t$(\"#type\").val(relm + tcd);\\r\\n\\t\\t\\t$(\"#menuIdx\").val(menuIdx);\\r\\n\\t\\t\\t$(\"#tcdTabType\").val(\"tcdHome\");\\r\\n\\t\\t\\tif(newWinYn == \"Y\")\\r\\n\\t\\t\\t{$(\"#leftFrm\").attr(\"target\", \"_blank\");}\\r\\n\\t\\t\\telse{$(\"#leftFrm\").attr(\"target\", \"_self\");}\\r\\n\\t\\t\\t$(\"#leftFrm\").attr(\"action\", scrnUrl + (remark == \\'undefined\\' || remark == undefined ? \"\" : \"?\"+remark));\\r\\n\\t\\t\\t$(\"#leftFrm\").submit();\\r\\n\\t\\t}\\r\\n\\r\\n\\t\\tfunction openBannerLink(linkUrl, banrId, newWinYn) {\\r\\n\\t\\t\\t\\r\\n\\t\\t\\t\\r\\n\\t\\t\\tvar data = {\\r\\n\\t\\t\\t\\t  banrId : banrId\\r\\n\\t\\t\\t\\t, mbrCoType : \\'M\\'\\r\\n\\t\\t\\t};\\r\\n\\r\\n\\t\\t\\t$.ajax({\\r\\n\\t\\t\\t\\ttype : \"POST\" ,\\r\\n\\t\\t\\t\\turl : \"/hi3/regBanrLog.ds\",\\r\\n\\t\\t\\t\\tdata : data,\\r\\n\\t\\t\\t\\tdataType : \"json\" ,\\r\\n\\t\\t\\t\\tsuccess : function(data) {\\r\\n\\t\\t\\t\\t\\tif(data.code == \"success\") {\\r\\n\\t\\t\\t\\t\\t\\tif(linkUrl.charAt(0) == \\'/\\') linkUrl = \"\" + linkUrl;\\r\\n\\t\\t\\t\\t\\t\\t\\r\\n\\t\\t\\t\\t\\t\\tif(newWinYn == \"Y\") {\\r\\n// \\t\\t\\t\\t\\t\\t\\twinPopupOpen(linkUrl, 695, 225, \"bannerLinkPopup\");\\r\\n\\t\\t\\t\\t\\t\\t\\twindow.open(encodeURI(linkUrl),\"bannerLinkPopup\");\\r\\n\\t\\t\\t\\t\\t\\t\\treturn;\\r\\n// \\t\\t\\t\\t\\t\\t\\t$(\"#skyForm\").attr(\"target\", \"_blank\"); //winPopupOpen(linkUrl, 695, 225, \"bannerLinkPopup\");\\r\\n\\t\\t\\t\\t\\t\\t}else{\\r\\n\\t\\t\\t\\t\\t\\t\\t$(\"#skyForm\").attr(\"target\", \"_self\"); //location.href = linkUrl;\\r\\n\\t\\t\\t\\t\\t\\t}\\r\\n\\r\\n\\t\\t\\t\\t\\t\\t$(\"#skyForm\").attr(\"action\", linkUrl).submit();\\r\\n\\t\\t\\t\\t\\t} else {\\r\\n\\t\\t\\t\\t\\t\\talert(\"배너클릭 로그정보 저장에 실패하였습니다.\");\\r\\n\\t\\t\\t\\t\\t}\\r\\n\\t\\t\\t\\t}\\r\\n\\t\\t\\t});\\r\\n\\t\\t}\\r\\n\\t</script>\\r\\n</head>\\r\\n<body id=\"mteacher\">\\r\\n<form name=\"leftFrm\" id=\"leftFrm\" method=\"post\">\\r\\n\\t<input type=\"hidden\" name=\"relm\" id=\"relm\" value=\"\" />\\r\\n\\t<input type=\"hidden\" name=\"tcd\" id=\"tcd\" value=\"\" />\\r\\n\\t<input type=\"hidden\" name=\"type\" id=\"type\" value=\"\" />\\r\\n\\t<input type=\"hidden\" name=\"tcdTabType\" id=\"tcdTabType\" value=\"\" />\\r\\n\\t<input type=\"hidden\" name=\"menuIdx\" id=\"menuIdx\" value=\"\" />\\r\\n\\t<input type=\"hidden\" name=\"relmName\" id=\"relmName\" value=\"영어\" />\\r\\n\\t<input type=\"hidden\" name=\"tcdName\" id=\"tcdName\" value=\"이명학\" />\\r\\n</form>\\r\\n\\t<div class=\"leftarea mthome\">\\r\\n\\t<div class=\"tabmenu\" style=\"display: none;\" id=\"tcdTypeDiv\">\\r\\n\\t\\t\\t<a href=\"#\" id=\"tcdAlla\" style=\"text-decoration:none;\">선생님 전체</a>\\r\\n\\t\\t\\t<a href=\"#\" class=\"on\" id=\"tcdHomea\" style=\"text-decoration:none;\">선생님 홈</a>\\r\\n\\t\\t</div>\\r\\n\\t\\t<div id=\"mimacTcdHome\" class>\\r\\n\\t\\t\\t<h2><a href=\"/common/getMenuContainer.ds?requestMenuId=MNMN_M004\" style=\"text-decoration:none;\">마이맥선생님</a></h2>\\r\\n\\t\\t\\t<ul class=\"leftmenu\" id=\"ulLeftmenu\"></ul>\\r\\n\\t\\t\\t<div class=\"bannerarea\"></div>\\r\\n\\t\\t</div>\\r\\n\\t\\t<div id=\"tcdHome\">\\r\\n\\t\\t\\t<h2>영어<span style=\"font-size: 14px;\"><a href=\"/tcher/eachTcherMain.ds?tcd=531&relm=03&subj=&type=\" style=\"text-decoration:none;\">이명학 선생님</a></span></h2>\\r\\n\\t\\t\\t<ul class=\"leftmenu\" id=\"tcdLeftMenuUl\"></ul>\\r\\n\\t\\t\\t<div class=\"bannerarea\"></div>\\r\\n\\t\\t</div>\\r\\n\\t</div>\\r\\n</body>\\r\\n</html><!-- //E: leftarea -->\\r\\n\\r\\n      <!-- S: contentsarea -->\\r\\n      <div class=\"contentsarea\">\\r\\n        \\r\\n\\r\\n<div id=\"pageInPut\">\\r\\n\\t<div style=\"position:absolute;left:50%;margin:20px 0;z-index:100;\">\\r\\n\\t \\t<img src=\\'http://img.mimacstudy.com/FRONT/common/img_loading_check.gif\\' alt=\\'로딩중\\'/>\\r\\n\\t</div>\\r\\n</div>\\r\\n\\r\\n        <!--// 왼쪽 스카이배너 -->\\r\\n\\t\\t<div class=\"left_sky_bnr\">\\r\\n\\t\\t\\t<ul id=\"indexLeftBannerDiv\">\\r\\n\\t\\t\\t</ul>\\r\\n\\t\\t</div>\\r\\n\\t\\t<!-- 왼쪽 스카이배너 //-->\\r\\n\\r\\n\\t\\t<!--// 오른쪽 스카이 배너 -->\\r\\n\\t\\t<div class=\"right_sky_bnr\">\\r\\n\\t\\t\\t<div id=\"rightSkyBannerDiv\"></div>\\r\\n\\t\\t</div>\\r\\n\\t\\t<!-- 오른쪽 스카이 배너 //-->\\r\\n      </div>\\r\\n      <!-- //E: contentsarea -->\\r\\n\\r\\n\\t</div>\\r\\n\\t<div id=\"passLay\"></div>\\r\\n\\r\\n\\t<!-- S: Footer -->\\r\\n    <style type=\"text/css\">\\r\\n .foot_fix_bn .botBanCloseBtn{position:absolute; width:30px; height:30px; top:16px; right:50%; margin-right:-710px; z-index:5;}\\r\\n</style>\\r\\n<script type=\"text/javascript\">\\r\\n\\t$(document).ready(function(event){\\r\\n\\t    $(\"#familySiteMoveBtn\").bind(\"click\", linkFamilySite);\\r\\n\\r\\n\\t    // 모바일 버전 바로가기\\r\\n\\t    var currentOS = getOS();\\r\\n\\r\\n\\t    if( currentOS != \\'ETC\\') {\\r\\n\\t     \\t$(\".bottomarea\").append(\"<div class=\\'go_mobile\\'></div>\");\\r\\n\\t     \\t$(\".bottomarea .go_mobile\").append(\"<a href=\\'http://m.mimacstudy.com/mobile/main/main.ds\\'>모바일버전 이동하기</a>\");\\r\\n\\r\\n\\t        return;\\r\\n\\r\\n\\t    }\\r\\n\\r\\n\\t});\\r\\n\\r\\n\\tfunction linkFamilySite(event){\\r\\n\\t\\tif($(\"#familySiteCombo\").val() != \"\"){\\r\\n\\t\\t\\twindow.open($(\"#familySiteCombo\").val(), \"_blank\");\\r\\n\\t\\t}\\r\\n\\t}\\r\\n\\r\\n\\tfunction getOS() {\\r\\n        var currentOS;\\r\\n        var mobile = (/iphone|ipad|ipod|android/i.test(navigator.userAgent.toLowerCase()));\\r\\n\\r\\n        if (mobile) {\\r\\n            // 유저에이전트를 불러와서 OS를 구분합니다.\\r\\n            var userAgent = navigator.userAgent.toLowerCase();\\r\\n            if (userAgent.search(\"android\") > -1)\\r\\n                currentOS = \"A\";  //android\\r\\n            else if ((userAgent.search(\"iphone\") > -1) || (userAgent.search(\"ipod\") > -1)\\r\\n                        || (userAgent.search(\"ipad\") > -1))\\r\\n                currentOS = \"N\";  // iPhone\\r\\n            else\\r\\n                currentOS = \"ETC\";\\r\\n        } else {\\r\\n            // 모바일이 아닐 때\\r\\n            currentOS = \"ETC\";\\r\\n        }\\r\\n\\r\\n        return currentOS;\\r\\n    }\\r\\n\\r\\n\\r\\n</script>\\r\\n\\r\\n<footer class=\"bottomarea\">\\r\\n  <!-- S: Link용 Form -->\\r\\n\\t<form id=\"lctrStudyForm\" name=\"lctrStudyForm\" method=\"post\">\\r\\n\\t\\t<input type=\"hidden\" id=\"requestMenuId2\" name=\"requestMenuId2\" value=\"MNMN_M003\" />\\r\\n\\t\\t<input type=\"hidden\" id=\"authNo\" name=\"authNo\" value=\"\" />\\r\\n\\t</form>\\r\\n  <!-- //E: Link용 Form -->\\r\\n  <div class=\"footercont\">\\r\\n    <ul class=\"footermenu\">\\r\\n      <li><a href=\"http://www.digitaldaesung.co.kr/COM/\" target=\"_blank\">회사소개</a></li>\\r\\n      <li><a href=\"/mimac/recruitMain.ds\">강사모집</a></li>\\r\\n<!--       <li><a href=\"#\" onclick=\"window.open(\\'/mobile/mem/callMemberInfoPolicy.ds\\',\\'memInfoPolicyPop\\',\\'width=680px, height=720px, scrollbars=yes\\');return false;\"  class=\"point\">개인정보처리방침</a></li> -->\\r\\n<!--       <li><a href=\"#\" onclick=\"window.open(\\'/mobile/mem/callSiteTermOfUse.ds\\',\\'memInfoPolicyPop\\',\\'width=680px, height=720px, scrollbars=yes\\');return false;\">이용약관</a></li> -->\\r\\n      <li><a href=\"/mem/callMemberInfoPolicy.ds\" class=\"point\">개인정보처리방침</a></li>\\r\\n      <li><a href=\"/mem/callSiteTermOfUse.ds\">이용약관</a></li>\\r\\n      <li><a href=\"/common/getMenuContainer.ds?requestMenuId=MNMN_M013\">고객센터</a></li>\\r\\n      <li><a href=\"/common/getMenuContainer.ds?requestMenuId=M000000077\">사이트맵</a></li>\\r\\n      <li><a href=\"/common/getMenuContainer.ds?requestMenuId=M000000076\">찾아오시는길</a></li>\\r\\n      <li><a href=\"/common/getMenuContainer.ds?requestMenuId=M000000078\">제휴문의</a></li>\\r\\n    </ul>\\r\\n\\r\\n\\r\\n\\r\\n    <p class=\"footerlogo\">\\r\\n      <img src=\"http://img.mimacstudy.com/FRONT/common/img_logofooter.png\" alt=\"大成마이맥\" />\\r\\n    <p>\\r\\n    <div class=\"address\">\\r\\n      <address>\\r\\n        서울시 서초구 방배로 181 (방배동. 단우빌딩 6,7,8층) (주)디지털대성 고객센터 : 02-5252-110 <a href=\"mailto:help@mimacstudy.com\">help@mimacstudy.com</a><br />\\r\\n        사업자 등록번호 : 114-81-96124 대표이사 : 김희선 통신판매업 신고증 : 2011-서울 서초 - 0170호 <a href=\"http://www.ftc.go.kr/bizCommPop.do?wrkr_no=1148196124\" class=\"btn\" target=\"_blank\"><img src=\"http://img.mimacstudy.com/FRONT/common/txt_infosearch.png\" alt=\"정보조회\" /></a> 개인정보보호 책임자  : 양세현<br />\\r\\n\\t\\t학원설립·운영등록번호 : 제10281호 디지털대성원격학원  <a href=\"#\" class=\"btn\" target=\"_blank\" onclick=\\'window.open(\"/ex/common/img_pop.ds?img_name=/common/img_edudoc.jpg\", \"_blank\", \"width=531, height=767, scrollbars=no, left=0, top=0\"); return false;\\'><img src=\"http://img.mimacstudy.com/FRONT/common/txt_infosearch.png\" alt=\"정보조회\" /></a>\\r\\n\\t\\t호스팅서비스 사업자 : ㈜디지털대성\\r\\n      </address>\\r\\n      <p class=\"copyright\">\\r\\n        copyright since2012 <b>(주)디지털대성</b> All rights reserved.\\r\\n      </p>\\r\\n    </div>\\r\\n    <p class=\"escrow\">\\r\\n      <a href=\"https://pgweb.uplus.co.kr/ms/escrow/s_escrowYn.do?mertid=dsmimac1\" onclick=\"window.open(\\'https://pgweb.uplus.co.kr/ms/escrow/s_escrowYn.do?mertid=dsmimac1\\', \\'_blank\\', \\'width=474, height=533, scrollbars=no, left=0, top=0\\'); return false;\"><img src=\"http://img.mimacstudy.com/FRONT/common/img_escrowlogo.png\" alt=\"LG U+ escrow 안전거래\" /></a>\\r\\n    </p>\\r\\n\\t<p class=\"isms\"><a href=\"#\" onclick=\\'window.open(\"/ex/common/img_pop.ds?img_name=/common/img_isms.jpg\", \"_blank\", \"width=337, height=483, scrollbars=no, left=0, top=0\"); return false;\\'><img src=\"http://img.mimacstudy.com/FRONT/common/img_isms_logo.png\" alt=\"isms인증\" /></a></p>\\r\\n  </div>\\r\\n</footer>\\r\\n<!-- 올프리패스 이벤트 배너  -->\\r\\n<script type =\"text/javascript\">\\r\\n\\r\\n//메인팝업에서 쓰이는 합수 START\\r\\nfunction setCookie(name, value, expiredays) {\\r\\n\\tvar today = new Date();\\r\\n\\ttoday.setDate(today.getDate() + expiredays);\\r\\n\\tdocument.cookie = name + \\'=\\' + escape(value) + \\'; path=/; expires=\\' + today.toGMTString() + \\';\\'\\r\\n}\\r\\n\\r\\nfunction getCookie(name){\\r\\n\\tvar wcname = name + \\'=\\';\\r\\n\\tvar wcstart, wcend, end;\\r\\n\\tvar i = 0;\\r\\n\\twhile(i <= document.cookie.length) {\\r\\n\\t\\twcstart = i;\\r\\n\\t \\twcend   = (i + wcname.length);\\r\\n\\t\\tif(document.cookie.substring(wcstart, wcend) == wcname) {\\r\\n\\t\\t  \\tif((end = document.cookie.indexOf(\\';\\', wcend)) == -1)\\r\\n\\t\\t   \\t\\tend = document.cookie.length;\\r\\n\\t\\t  \\treturn document.cookie.substring(wcend, end);\\r\\n\\t    }\\r\\n\\t\\ti = document.cookie.indexOf(\\'\\', i) + 1;\\r\\n\\r\\n\\t\\tif(i == 0)\\r\\n\\t  \\t\\tbreak;\\r\\n\\t}\\r\\n  return \\'\\';\\r\\n}\\r\\n\\r\\n//layer 창닫기\\r\\nfunction botCloseLayer(idx, exp) {\\r\\n   if(exp != undefined){\\r\\n\\t   setCookie(idx, \"hidden\", exp);\\r\\n   }\\r\\n\\r\\n   $(\"#\"+idx).hide();\\r\\n}\\r\\n\\r\\nfunction botClossPassLayer(todayChk, obj) {\\r\\n\\t//오늘은 이창열지않음 클릭시에는 쿠키굽는다.\\r\\n\\tif(todayChk == \"Y\") {\\r\\n\\t\\tbotCloseLayer(obj,7);\\r\\n\\t} else {\\r\\n\\t\\tbotCloseLayer(obj);\\r\\n\\t}\\r\\n}\\r\\n\\r\\n//2018.03.12 박진영 추가(올패스 이용중인지 체크)\\r\\nfunction getPassAuthCheck() {\\r\\n\\r\\n\\tvar bnPassAuthYn = \"N\";\\r\\n\\r\\n\\t$.ajax({\\r\\n        type : \"POST\",\\r\\n        async: false,\\r\\n        dataType : \"html\",\\r\\n        data :  \"\" ,\\r\\n        url : \"/ex/common/getPassAuthCheckAjax.ds\",\\r\\n        success : function(data){\\r\\n        \\tbnPassAuthYn = data;\\r\\n        },\\r\\n        error: function(xhr,  Status, error) {\\r\\n            //console.log(\"통신중 장애 발생\");\\r\\n            //console.log(error);\\r\\n        }\\r\\n    });\\r\\n\\r\\n\\treturn bnPassAuthYn;\\r\\n}\\r\\n\\r\\n</script>\\r\\n<div id=\"mainSubBottomBannerDiv\">\\r\\n\\t\\t\\t\\t</div>\\r\\n\\t\\t<!-- E: Footer -->\\r\\n    <form name=\"skyForm\" id=\"skyForm\" action=\"\" method=\"post\"></form>\\r\\n</div>\\r\\n<script type=\"text/javascript\" src=\"/js/customSelect_ui.js\"></script>\\r\\n</body>\\r\\n</html>'"
      ]
     },
     "execution_count": 116,
     "metadata": {},
     "output_type": "execute_result"
    }
   ],
   "source": [
    "doc.text"
   ]
  },
  {
   "cell_type": "code",
   "execution_count": 118,
   "metadata": {},
   "outputs": [],
   "source": [
    "from selenium import webdriver\n",
    "from selenium.webdriver.firefox.options import Options\n",
    "\n",
    "options = Options()"
   ]
  },
  {
   "cell_type": "code",
   "execution_count": 121,
   "metadata": {},
   "outputs": [
    {
     "name": "stderr",
     "output_type": "stream",
     "text": [
      "/usr/local/lib/python3.7/site-packages/ipykernel_launcher.py:1: DeprecationWarning: use options instead of firefox_options\n",
      "  \"\"\"Entry point for launching an IPython kernel.\n"
     ]
    }
   ],
   "source": [
    "driver = webdriver.Firefox(firefox_options=options, executable_path='/usr/local/bin/geckodriver')"
   ]
  },
  {
   "cell_type": "code",
   "execution_count": 122,
   "metadata": {},
   "outputs": [],
   "source": [
    "driver.get('http://www.mimacstudy.com/tcher/studyQna/getStudyQnaList.ds?tcd=531&currPage=1')"
   ]
  },
  {
   "cell_type": "code",
   "execution_count": null,
   "metadata": {},
   "outputs": [],
   "source": []
  }
 ],
 "metadata": {
  "kernelspec": {
   "display_name": "Python 3",
   "language": "python",
   "name": "python3"
  },
  "language_info": {
   "codemirror_mode": {
    "name": "ipython",
    "version": 3
   },
   "file_extension": ".py",
   "mimetype": "text/x-python",
   "name": "python",
   "nbconvert_exporter": "python",
   "pygments_lexer": "ipython3",
   "version": "3.7.6"
  }
 },
 "nbformat": 4,
 "nbformat_minor": 4
}
